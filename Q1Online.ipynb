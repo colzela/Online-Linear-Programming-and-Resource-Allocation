{
 "cells": [
  {
   "cell_type": "code",
   "execution_count": 78,
   "metadata": {},
   "outputs": [],
   "source": [
    "import numpy as np\n",
    "import cvxpy as cvx\n",
    "import random\n",
    "import pandas as pd\n"
   ]
  },
  {
   "cell_type": "code",
   "execution_count": 79,
   "metadata": {},
   "outputs": [],
   "source": [
    "n = 10000    # number of bidders\n",
    "m = 10       # type of resources\n",
    "\n",
    "A = pd.read_csv(\"A.csv\")\n",
    "pi = pd.read_csv(\"pi.csv\")\n",
    "\n",
    "A = np.array(A)\n",
    "pi = np.array(pi)\n",
    "pi = pi.T\n",
    "b = np.array([1000 for _ in range(m)])  \n"
   ]
  },
  {
   "cell_type": "markdown",
   "metadata": {},
   "source": [
    "OffLine"
   ]
  },
  {
   "cell_type": "code",
   "execution_count": 80,
   "metadata": {},
   "outputs": [
    {
     "name": "stdout",
     "output_type": "stream",
     "text": [
      "===============================================================================\n",
      "                                     CVXPY                                     \n",
      "                                     v1.2.1                                    \n",
      "===============================================================================\n",
      "(CVXPY) Apr 03 12:57:56 AM: Your problem has 10000 variables, 3 constraints, and 0 parameters.\n",
      "(CVXPY) Apr 03 12:57:56 AM: It is compliant with the following grammars: DCP, DQCP\n",
      "(CVXPY) Apr 03 12:57:56 AM: (If you need to solve this problem multiple times, but with different data, consider using parameters.)\n",
      "(CVXPY) Apr 03 12:57:56 AM: CVXPY will first compile your problem; then, it will invoke a numerical solver to obtain a solution.\n",
      "-------------------------------------------------------------------------------\n",
      "                                  Compilation                                  \n",
      "-------------------------------------------------------------------------------\n",
      "(CVXPY) Apr 03 12:57:56 AM: Compiling problem (target solver=ECOS).\n",
      "(CVXPY) Apr 03 12:57:56 AM: Reduction chain: FlipObjective -> Dcp2Cone -> CvxAttr2Constr -> ConeMatrixStuffing -> ECOS\n",
      "(CVXPY) Apr 03 12:57:56 AM: Applying reduction FlipObjective\n",
      "(CVXPY) Apr 03 12:57:56 AM: Applying reduction Dcp2Cone\n",
      "(CVXPY) Apr 03 12:57:56 AM: Applying reduction CvxAttr2Constr\n",
      "(CVXPY) Apr 03 12:57:56 AM: Applying reduction ConeMatrixStuffing\n",
      "(CVXPY) Apr 03 12:57:56 AM: Applying reduction ECOS\n",
      "(CVXPY) Apr 03 12:57:56 AM: Finished problem compilation (took 7.464e-02 seconds).\n",
      "-------------------------------------------------------------------------------\n",
      "                                Numerical solver                               \n",
      "-------------------------------------------------------------------------------\n",
      "(CVXPY) Apr 03 12:57:56 AM: Invoking solver ECOS  to obtain a solution.\n",
      "-------------------------------------------------------------------------------\n",
      "                                    Summary                                    \n",
      "-------------------------------------------------------------------------------\n",
      "(CVXPY) Apr 03 12:57:56 AM: Problem status: optimal\n",
      "(CVXPY) Apr 03 12:57:56 AM: Optimal value: 3.223e+05\n",
      "(CVXPY) Apr 03 12:57:56 AM: Compilation took 7.464e-02 seconds\n",
      "(CVXPY) Apr 03 12:57:56 AM: Solver (including time spent in interface) took 1.971e-01 seconds\n",
      "[1.70556843e-09 1.02415242e-07 9.29747462e-10 ... 2.61134051e-09\n",
      " 9.99999993e-01 9.99999921e-01]\n",
      "322315.19134004146\n"
     ]
    }
   ],
   "source": [
    "x = cvx.Variable(n)\n",
    "objective = cvx.Maximize(pi@x)\n",
    "constraints = [A@x <= b, x >= 0, x <= 1]\n",
    "prob = cvx.Problem(objective, constraints)\n",
    "\n",
    "prob.solve(verbose = True)\n",
    "# x.value\n",
    "\n",
    "print(x.value)\n",
    "opv1 = prob.value\n",
    "print(opv1)\n",
    "\n",
    "x = x.value"
   ]
  },
  {
   "attachments": {},
   "cell_type": "markdown",
   "metadata": {},
   "source": [
    "K = 50"
   ]
  },
  {
   "cell_type": "code",
   "execution_count": 81,
   "metadata": {},
   "outputs": [
    {
     "name": "stdout",
     "output_type": "stream",
     "text": [
      "===============================================================================\n",
      "                                     CVXPY                                     \n",
      "                                     v1.2.1                                    \n",
      "===============================================================================\n",
      "(CVXPY) Apr 03 12:57:56 AM: Your problem has 60 variables, 2 constraints, and 0 parameters.\n",
      "(CVXPY) Apr 03 12:57:56 AM: It is compliant with the following grammars: DCP, DQCP\n",
      "(CVXPY) Apr 03 12:57:56 AM: (If you need to solve this problem multiple times, but with different data, consider using parameters.)\n",
      "(CVXPY) Apr 03 12:57:56 AM: CVXPY will first compile your problem; then, it will invoke a numerical solver to obtain a solution.\n",
      "-------------------------------------------------------------------------------\n",
      "                                  Compilation                                  \n",
      "-------------------------------------------------------------------------------\n",
      "(CVXPY) Apr 03 12:57:56 AM: Compiling problem (target solver=ECOS).\n",
      "(CVXPY) Apr 03 12:57:56 AM: Reduction chain: Dcp2Cone -> CvxAttr2Constr -> ConeMatrixStuffing -> ECOS\n",
      "(CVXPY) Apr 03 12:57:56 AM: Applying reduction Dcp2Cone\n",
      "(CVXPY) Apr 03 12:57:56 AM: Applying reduction CvxAttr2Constr\n",
      "(CVXPY) Apr 03 12:57:56 AM: Applying reduction ConeMatrixStuffing\n",
      "(CVXPY) Apr 03 12:57:56 AM: Applying reduction ECOS\n",
      "(CVXPY) Apr 03 12:57:56 AM: Finished problem compilation (took 1.696e-02 seconds).\n",
      "-------------------------------------------------------------------------------\n",
      "                                Numerical solver                               \n",
      "-------------------------------------------------------------------------------\n",
      "(CVXPY) Apr 03 12:57:56 AM: Invoking solver ECOS  to obtain a solution.\n",
      "-------------------------------------------------------------------------------\n",
      "                                    Summary                                    \n",
      "-------------------------------------------------------------------------------\n",
      "(CVXPY) Apr 03 12:57:56 AM: Problem status: optimal\n",
      "(CVXPY) Apr 03 12:57:56 AM: Optimal value: 1.609e+03\n",
      "(CVXPY) Apr 03 12:57:56 AM: Compilation took 1.696e-02 seconds\n",
      "(CVXPY) Apr 03 12:57:56 AM: Solver (including time spent in interface) took 1.992e-03 seconds\n"
     ]
    },
    {
     "data": {
      "text/plain": [
       "array([0, 1, 0, 0, 0, 0, 1, 0, 0, 0, 0, 0, 1, 0, 0, 0, 0, 0, 1, 0, 1, 0,\n",
       "       0, 0, 1, 0, 1, 0, 1, 0, 0, 0, 0, 0, 0, 0, 0, 0, 0, 1, 0, 0, 1, 0,\n",
       "       0, 0, 0, 0, 0, 0])"
      ]
     },
     "execution_count": 81,
     "metadata": {},
     "output_type": "execute_result"
    }
   ],
   "source": [
    "k = 50\n",
    "steps = n/k\n",
    "Anow = A[:, 0:k]\n",
    "Anow = Anow.T                       # A: m*k\n",
    "# print(Anow.shape)\n",
    "piNow = (pi.T)[0:k]\n",
    "piNow = np.reshape(piNow, (k,))     # pi: k*1\n",
    "bNow = b*(float(k/n))\n",
    "bNow = bNow.T                       # b: m*1\n",
    "\n",
    "temp = m+k                          # 前m个是y, 后k个是p\n",
    "y = cvx.Variable(temp)\n",
    "e = np.ones(k)\n",
    "objective = cvx.Minimize(bNow@(y[:m]) + e@(y[m:]))\n",
    "constraints = [(Anow@(y[:m])+ y[m:])>= piNow, y >= 0]\n",
    "prob = cvx.Problem(objective, constraints)\n",
    "\n",
    "prob.solve(verbose = True)\n",
    "# print(\"==============\")\n",
    "# print(prob.value)\n",
    "# print(y.value.shape)\n",
    "Y = y[:m].value\n",
    "# print(P)\n",
    "\n",
    "AT = A.T\n",
    "# print(\"----------\")\n",
    "# print(AT[0].dot(P))\n",
    "\n",
    "xk50 = []\n",
    "for i in range(k):\n",
    "    cri = (AT[i].dot(Y))\n",
    "    # print(cri)\n",
    "    # print(type(cri))\n",
    "    if(pi[0][i] > cri):\n",
    "        xk50.append(1)\n",
    "    else:\n",
    "        xk50.append(0)\n",
    "\n",
    "# xk50\n",
    "xk50 = np.array(xk50)\n",
    "\n",
    "xk50"
   ]
  },
  {
   "cell_type": "code",
   "execution_count": 82,
   "metadata": {},
   "outputs": [
    {
     "data": {
      "text/plain": [
       "0.004780187071991184"
      ]
     },
     "execution_count": 82,
     "metadata": {},
     "output_type": "execute_result"
    }
   ],
   "source": [
    "opv2 = (piNow.dot(xk50))\n",
    "rateK50 = opv2/opv1\n",
    "# print(opv2)\n",
    "rateK50"
   ]
  },
  {
   "attachments": {},
   "cell_type": "markdown",
   "metadata": {},
   "source": [
    "k100"
   ]
  },
  {
   "cell_type": "code",
   "execution_count": 83,
   "metadata": {},
   "outputs": [
    {
     "name": "stdout",
     "output_type": "stream",
     "text": [
      "===============================================================================\n",
      "                                     CVXPY                                     \n",
      "                                     v1.2.1                                    \n",
      "===============================================================================\n",
      "(CVXPY) Apr 03 12:57:57 AM: Your problem has 110 variables, 2 constraints, and 0 parameters.\n",
      "(CVXPY) Apr 03 12:57:57 AM: It is compliant with the following grammars: DCP, DQCP\n",
      "(CVXPY) Apr 03 12:57:57 AM: (If you need to solve this problem multiple times, but with different data, consider using parameters.)\n",
      "(CVXPY) Apr 03 12:57:57 AM: CVXPY will first compile your problem; then, it will invoke a numerical solver to obtain a solution.\n",
      "-------------------------------------------------------------------------------\n",
      "                                  Compilation                                  \n",
      "-------------------------------------------------------------------------------\n",
      "(CVXPY) Apr 03 12:57:57 AM: Compiling problem (target solver=ECOS).\n",
      "(CVXPY) Apr 03 12:57:57 AM: Reduction chain: Dcp2Cone -> CvxAttr2Constr -> ConeMatrixStuffing -> ECOS\n",
      "(CVXPY) Apr 03 12:57:57 AM: Applying reduction Dcp2Cone\n",
      "(CVXPY) Apr 03 12:57:57 AM: Applying reduction CvxAttr2Constr\n",
      "(CVXPY) Apr 03 12:57:57 AM: Applying reduction ConeMatrixStuffing\n",
      "(CVXPY) Apr 03 12:57:57 AM: Applying reduction ECOS\n",
      "(CVXPY) Apr 03 12:57:57 AM: Finished problem compilation (took 1.692e-02 seconds).\n",
      "-------------------------------------------------------------------------------\n",
      "                                Numerical solver                               \n",
      "-------------------------------------------------------------------------------\n",
      "(CVXPY) Apr 03 12:57:57 AM: Invoking solver ECOS  to obtain a solution.\n",
      "-------------------------------------------------------------------------------\n",
      "                                    Summary                                    \n",
      "-------------------------------------------------------------------------------\n",
      "(CVXPY) Apr 03 12:57:57 AM: Problem status: optimal\n",
      "(CVXPY) Apr 03 12:57:57 AM: Optimal value: 3.220e+03\n",
      "(CVXPY) Apr 03 12:57:57 AM: Compilation took 1.692e-02 seconds\n",
      "(CVXPY) Apr 03 12:57:57 AM: Solver (including time spent in interface) took 3.016e-03 seconds\n"
     ]
    }
   ],
   "source": [
    "k = 100\n",
    "steps = n/k\n",
    "Anow = A[:, 0:k]\n",
    "Anow = Anow.T\n",
    "# print(Anow.shape)\n",
    "piNow = (pi.T)[0:k]\n",
    "piNow = np.reshape(piNow, (k,))\n",
    "bNow = b*(float(k/n))\n",
    "bNow = bNow.T\n",
    "\n",
    "y = cvx.Variable((m+k))\n",
    "e = np.ones(k)\n",
    "objective = cvx.Minimize(bNow@(y[:m]) + e@(y[m:]))\n",
    "constraints = [(Anow@(y[:m])+ (y[m:]))>= piNow, y >= 0]\n",
    "prob = cvx.Problem(objective, constraints)\n",
    "\n",
    "prob.solve(verbose = True)\n",
    "Y = y[:m].value\n",
    "\n",
    "AT = A.T\n",
    "# print(\"----------\")\n",
    "# print(AT[0])\n",
    "\n",
    "xk100 = []\n",
    "for i in range(k):\n",
    "    cri = (AT[i].dot(Y))\n",
    "    # print(cri)\n",
    "    if(pi[0][i] > cri):\n",
    "        xk100.append(1)\n",
    "    else:\n",
    "        xk100.append(0)\n",
    "\n",
    "# xk100\n",
    "xk100 = np.array(xk100)\n"
   ]
  },
  {
   "cell_type": "code",
   "execution_count": 84,
   "metadata": {},
   "outputs": [
    {
     "data": {
      "text/plain": [
       "0.00954520760627491"
      ]
     },
     "execution_count": 84,
     "metadata": {},
     "output_type": "execute_result"
    }
   ],
   "source": [
    "# opv1 = (pi.dot(x))[0]\n",
    "opv3 = (piNow.dot(xk100))\n",
    "# print(opv1)\n",
    "# print(type(opv1))\n",
    "rateK100 = opv3/opv1\n",
    "\n",
    "rateK100"
   ]
  },
  {
   "attachments": {},
   "cell_type": "markdown",
   "metadata": {},
   "source": [
    "k200"
   ]
  },
  {
   "cell_type": "code",
   "execution_count": 85,
   "metadata": {},
   "outputs": [
    {
     "name": "stdout",
     "output_type": "stream",
     "text": [
      "===============================================================================\n",
      "                                     CVXPY                                     \n",
      "                                     v1.2.1                                    \n",
      "===============================================================================\n",
      "(CVXPY) Apr 03 12:57:57 AM: Your problem has 210 variables, 2 constraints, and 0 parameters.\n",
      "(CVXPY) Apr 03 12:57:57 AM: It is compliant with the following grammars: DCP, DQCP\n",
      "(CVXPY) Apr 03 12:57:57 AM: (If you need to solve this problem multiple times, but with different data, consider using parameters.)\n",
      "(CVXPY) Apr 03 12:57:57 AM: CVXPY will first compile your problem; then, it will invoke a numerical solver to obtain a solution.\n",
      "-------------------------------------------------------------------------------\n",
      "                                  Compilation                                  \n",
      "-------------------------------------------------------------------------------\n",
      "(CVXPY) Apr 03 12:57:57 AM: Compiling problem (target solver=ECOS).\n",
      "(CVXPY) Apr 03 12:57:57 AM: Reduction chain: Dcp2Cone -> CvxAttr2Constr -> ConeMatrixStuffing -> ECOS\n",
      "(CVXPY) Apr 03 12:57:57 AM: Applying reduction Dcp2Cone\n",
      "(CVXPY) Apr 03 12:57:57 AM: Applying reduction CvxAttr2Constr\n",
      "(CVXPY) Apr 03 12:57:57 AM: Applying reduction ConeMatrixStuffing\n",
      "(CVXPY) Apr 03 12:57:57 AM: Applying reduction ECOS\n",
      "(CVXPY) Apr 03 12:57:57 AM: Finished problem compilation (took 2.194e-02 seconds).\n",
      "-------------------------------------------------------------------------------\n",
      "                                Numerical solver                               \n",
      "-------------------------------------------------------------------------------\n",
      "(CVXPY) Apr 03 12:57:57 AM: Invoking solver ECOS  to obtain a solution.\n",
      "-------------------------------------------------------------------------------\n",
      "                                    Summary                                    \n",
      "-------------------------------------------------------------------------------\n",
      "(CVXPY) Apr 03 12:57:57 AM: Problem status: optimal\n",
      "(CVXPY) Apr 03 12:57:57 AM: Optimal value: 6.443e+03\n",
      "(CVXPY) Apr 03 12:57:57 AM: Compilation took 2.194e-02 seconds\n",
      "(CVXPY) Apr 03 12:57:57 AM: Solver (including time spent in interface) took 5.987e-03 seconds\n"
     ]
    }
   ],
   "source": [
    "k = 200\n",
    "steps = n/k\n",
    "Anow = A[:, 0:k]\n",
    "Anow = Anow.T\n",
    "# print(Anow.shape)\n",
    "piNow = (pi.T)[0:k]\n",
    "piNow = np.reshape(piNow, (k,))\n",
    "bNow = b*(float(k/n))\n",
    "bNow = bNow.T\n",
    "\n",
    "\n",
    "y = cvx.Variable((m+k))\n",
    "e = np.ones(k)\n",
    "objective = cvx.Minimize(bNow@(y[:m]) + e@(y[m:]))\n",
    "constraints = [(Anow@(y[:m])+ (y[m:]))>= piNow, y >= 0]\n",
    "prob = cvx.Problem(objective, constraints)\n",
    "\n",
    "prob.solve(verbose = True)\n",
    "Y = y[:m].value\n",
    "\n",
    "AT = A.T\n",
    "# print(\"----------\")\n",
    "# print(AT[0])\n",
    "\n",
    "xk200 = []\n",
    "for i in range(k):\n",
    "    cri = (AT[i].dot(Y))\n",
    "    # print(cri)\n",
    "    if(pi[0][i] > cri):\n",
    "        xk200.append(1)\n",
    "    else:\n",
    "        xk200.append(0)\n",
    "\n",
    "# xk200\n",
    "xk200 = np.array(xk200)"
   ]
  },
  {
   "cell_type": "code",
   "execution_count": 86,
   "metadata": {},
   "outputs": [
    {
     "data": {
      "text/plain": [
       "0.019527855316936297"
      ]
     },
     "execution_count": 86,
     "metadata": {},
     "output_type": "execute_result"
    }
   ],
   "source": [
    "# opv1 = (pi.dot(x))[0]\n",
    "opv4 = (piNow.dot(xk200))\n",
    "# print(opv1)\n",
    "# print(type(opv1))\n",
    "rateK200 = opv4/opv1\n",
    "# print(xk200)\n",
    "rateK200"
   ]
  }
 ],
 "metadata": {
  "kernelspec": {
   "display_name": "Python 3.10.4 64-bit",
   "language": "python",
   "name": "python3"
  },
  "language_info": {
   "codemirror_mode": {
    "name": "ipython",
    "version": 3
   },
   "file_extension": ".py",
   "mimetype": "text/x-python",
   "name": "python",
   "nbconvert_exporter": "python",
   "pygments_lexer": "ipython3",
   "version": "3.10.4"
  },
  "orig_nbformat": 4,
  "vscode": {
   "interpreter": {
    "hash": "c885396fa5069185d1a3134bc554c4a8c452f6177aabd87ebe7c04916951cc0f"
   }
  }
 },
 "nbformat": 4,
 "nbformat_minor": 2
}
