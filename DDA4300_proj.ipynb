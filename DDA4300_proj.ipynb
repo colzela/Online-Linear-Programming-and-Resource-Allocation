{
  "cells": [
    {
      "cell_type": "markdown",
      "metadata": {
        "id": "54IA_3KI1LJM"
      },
      "source": [
        "# 0） Gererate the Data and Preparation"
      ]
    },
    {
      "cell_type": "code",
      "execution_count": null,
      "metadata": {
        "id": "X-ilaGKr1vcD"
      },
      "outputs": [],
      "source": [
        "import numpy as np\n",
        "import cvxpy as cp\n",
        "import random\n",
        "import pandas as pd"
      ]
    },
    {
      "cell_type": "markdown",
      "metadata": {
        "id": "E4r9-jbY2AB7"
      },
      "source": [
        "-- Load from csv"
      ]
    },
    {
      "cell_type": "code",
      "execution_count": null,
      "metadata": {
        "colab": {
          "base_uri": "https://localhost:8080/"
        },
        "id": "-KDIOZ3W1xwj",
        "outputId": "4651a281-f0c9-40af-be34-7cc31c9dcbe1"
      },
      "outputs": [
        {
          "name": "stdout",
          "output_type": "stream",
          "text": [
            "The shape of A :  (10, 10000)\n",
            "The shape of pi:  (10000, 1)\n",
            "The shape of b :  (10, 1)\n",
            "The dtype of A :  int64\n",
            "The dtype of pi:  float64\n",
            "The dtype of b :  int64\n"
          ]
        }
      ],
      "source": [
        "n = 10000    # number of bidders\n",
        "m = 10       # type of resources\n",
        "\n",
        "A = pd.read_csv(\"A.csv\")\n",
        "pi = pd.read_csv(\"pi.csv\")\n",
        "\n",
        "A = np.array(A)\n",
        "pi = np.array(pi)\n",
        "b = np.array([1000]*10).reshape(-1,1)\n",
        "\n",
        "print(f'The shape of A :  {A.shape}')\n",
        "print(f'The shape of pi:  {pi.shape}')\n",
        "print(f'The shape of b :  {b.shape}')\n",
        "print(f'The dtype of A :  {A.dtype}')\n",
        "print(f'The dtype of pi:  {pi.dtype}')\n",
        "print(f'The dtype of b :  {b.dtype}')"
      ]
    },
    {
      "cell_type": "markdown",
      "metadata": {
        "id": "6dFMcSTx2IQV"
      },
      "source": [
        "-- set the random seed for reproducibility"
      ]
    },
    {
      "cell_type": "code",
      "execution_count": null,
      "metadata": {
        "id": "8LUTBvcu1Tja"
      },
      "outputs": [],
      "source": [
        "# for reproducibility\n",
        "random.seed(4300)\n",
        "\n",
        "n = 10000    # number of bidders\n",
        "m = 10       # type of resources\n",
        "p = np.array([float(random.gauss(0.5,0.1)) for _ in range(m)])      # ground truth price vector: m*1\n",
        "\n",
        "pi = (p.T).dot(A)\n",
        "for i in range(n):\n",
        "    pi[i] += random.gauss(0, 0.2)\n",
        "    \n",
        "b = np.array([1000]*10).reshape(-1,1)\n",
        "\n",
        "print(f'The shape of A :  {A.shape}')\n",
        "print(f'The shape of pi:  {pi.shape}')\n",
        "print(f'The shape of b :  {b.shape}')                                                                                                                                                                                                                                                                                                                                                                                                                                                                                                                                          "
      ]
    },
    {
      "cell_type": "markdown",
      "metadata": {
        "id": "4J2d7F_dkoAe"
      },
      "source": [
        "# 1) One-time Online Learning (SLPM)"
      ]
    },
    {
      "cell_type": "markdown",
      "metadata": {
        "id": "ua5SShffkoAj"
      },
      "source": [
        "## Offline Learning"
      ]
    },
    {
      "cell_type": "code",
      "execution_count": null,
      "metadata": {
        "colab": {
          "base_uri": "https://localhost:8080/"
        },
        "id": "qEeUlaYHkoAj",
        "outputId": "4cb2e56e-722f-4c28-b9bc-d76d939ce9b2"
      },
      "outputs": [
        {
          "name": "stdout",
          "output_type": "stream",
          "text": [
            "Optimal Solution: \n",
            "[1 0 1 ... 0 0 0]\n",
            "Optimal Value: 282270.0744458285\n"
          ]
        }
      ],
      "source": [
        "x = cp.Variable((n,1))\n",
        "objective = cp.Maximize(pi.T@x)\n",
        "constraints = [A@x <= b, x >= 0, x <= 1]\n",
        "prob = cp.Problem(objective, constraints)\n",
        "\n",
        "prob.solve()\n",
        "\n",
        "opv1 = prob.value\n",
        "x = np.where(x.value >= 0.5, 1, 0)\n",
        "\n",
        "print(f'Optimal Solution: \\n{x[:,0].T}')\n",
        "print(f'Optimal Value: {opv1}')"
      ]
    },
    {
      "cell_type": "markdown",
      "metadata": {
        "id": "NUF9NkvPkoAk"
      },
      "source": [
        "## One-time Online Learning (SLPM) Algorithm Implement and Sensitivity Analysis"
      ]
    },
    {
      "cell_type": "code",
      "execution_count": null,
      "metadata": {
        "id": "SaLmLctN46Qt"
      },
      "outputs": [],
      "source": [
        "def online_learning_SLPM(A, pi, b, n, k):\n",
        "  # solve the dual SLPM with k bidders \n",
        "  m = len(b)\n",
        "  y = cp.Variable((m+k,1))\n",
        "  A_prime = np.hstack([A[:,:k].T, np.eye(k)])\n",
        "  b_prime = np.append((k/n)*b,np.ones(k)).reshape(1,-1)\n",
        "  pi_prime = pi[:k,:]\n",
        "  objective = cp.Minimize(b_prime@y)\n",
        "  constraints = [A_prime@y >= pi_prime, y >= 0]\n",
        "  prob = cp.Problem(objective, constraints)\n",
        "  prob.solve()\n",
        "\n",
        "  # obtain the dual prices\n",
        "  P = y[:m,:].value\n",
        "  \n",
        "  # proposal of x\n",
        "  x = np.where(pi>A.T@P,1,0)\n",
        "  x[:k,:] = 0\n",
        "  # output x\n",
        "  sold = np.zeros_like(b)\n",
        "  for i in range(k,n):\n",
        "    if ((A[:,i].T*x[i,:]).reshape(-1,1) > b-sold).any():\n",
        "      x[i,:] = 0\n",
        "    else: sold += (A[:,i].T*x[i,:]).reshape(-1,1)\n",
        "\n",
        "  # ouptut the optimal revenue\n",
        "  revenue = (pi.T@x)[0,0]\n",
        "  return P, x, revenue\n"
      ]
    },
    {
      "cell_type": "code",
      "execution_count": null,
      "metadata": {
        "colab": {
          "base_uri": "https://localhost:8080/"
        },
        "id": "QchmuNGp_tba",
        "outputId": "117773f4-80ca-4c4d-c0c9-93da7601ef0d"
      },
      "outputs": [
        {
          "name": "stdout",
          "output_type": "stream",
          "text": [
            "-------------------------One-time Online Learning SLPM-------------------------\n",
            "\n",
            "-------------------------k = 50-------------------------\n",
            "\n",
            "Dual price: [44.08131118 34.73590639 14.2834981  49.16637156 25.32845307 26.23525563\n",
            "  9.9796159  25.22667587 13.64073604 39.06147426] \n",
            "\n",
            "Allocation: [0 0 0 ... 0 0 0] \n",
            "\n",
            "Revenue: 202872.86352702987 \n",
            "\n",
            "Ratio: 0.7187189925298438 \n",
            "\n",
            "-------------------------k = 100-------------------------\n",
            "\n",
            "Dual price: [44.10761798 35.05640017 13.94883047 49.06530233 25.1132787  26.04832173\n",
            " 10.14120411 25.06083749 13.97303324 39.19661529] \n",
            "\n",
            "Allocation: [0 0 0 ... 0 0 0] \n",
            "\n",
            "Revenue: 250940.8308227826 \n",
            "\n",
            "Ratio: 0.8890096880281994 \n",
            "\n",
            "-------------------------k = 200-------------------------\n",
            "\n",
            "Dual price: [44.08445376 35.01221617 14.04305541 49.0984615  24.97019652 26.0279769\n",
            " 10.1003609  25.0784745  13.97691391 39.1746032 ] \n",
            "\n",
            "Allocation: [0 0 0 ... 0 0 0] \n",
            "\n",
            "Revenue: 262596.95388262294 \n",
            "\n",
            "Ratio: 0.9303039098217225 \n",
            "\n"
          ]
        }
      ],
      "source": [
        "print('-'*25 + 'One-time Online Learning SLPM' + '-'*25 + '\\n')\n",
        "for k in [50, 100, 200]:\n",
        "  P,x,r = online_learning_SLPM(A,pi,b,10000,k)\n",
        "  print('-'*25 + f'k = {k}' + '-'*25 + '\\n')\n",
        "  print(f'Dual price: {P.T[0,:]} \\n')\n",
        "  print(f'Allocation: {x.T[0,:]} \\n')\n",
        "  print(f'Revenue: {r} \\n')\n",
        "  print(f'Ratio: {r/opv1} \\n')"
      ]
    },
    {
      "cell_type": "markdown",
      "metadata": {
        "id": "4rLCdYT311Nv"
      },
      "source": [
        "## Comments"
      ]
    },
    {
      "cell_type": "markdown",
      "metadata": {
        "id": "mur_iLYx1fsn"
      },
      "source": [
        "As k increasing, the ratio of the generated revenue over the offline revenue increases. "
      ]
    },
    {
      "cell_type": "markdown",
      "metadata": {
        "id": "_uo779Mh16Ls"
      },
      "source": [
        "Trade-off:---------------------------------------------------------------------------"
      ]
    },
    {
      "cell_type": "markdown",
      "metadata": {
        "id": "2SI3AOZ1fzN3"
      },
      "source": [
        "# 2) Dynamic Learning (SLPM)"
      ]
    },
    {
      "cell_type": "markdown",
      "metadata": {
        "id": "kCRXAgxp2K31"
      },
      "source": [
        "## Dynamic Learning (SLPM) Algorithm Implement"
      ]
    },
    {
      "cell_type": "code",
      "execution_count": null,
      "metadata": {
        "id": "JA5hSrEQoqcR"
      },
      "outputs": [],
      "source": [
        "def dynamic_learning_SLPM(A, pi, b, n, k):\n",
        "  global x_out\n",
        "  x_out = np.zeros_like(pi)\n",
        "  kk = k\n",
        "  m = len(b)\n",
        "  print('-'*30 + 'The Track of Dual Price' + '-'*30 + '\\n')\n",
        "  while kk < n:\n",
        "    # solve the dual SLPM with kk bidders \n",
        "    y = cp.Variable((m+kk,1))\n",
        "    A_prime = np.hstack([A[:,:kk].T, np.eye(kk)])\n",
        "    b_prime = np.append((kk/n)*b,np.ones(kk)).reshape(1,-1)\n",
        "    pi_prime = pi[:kk,:]\n",
        "    objective = cp.Minimize(b_prime@y)\n",
        "    constraints = [A_prime@y >= pi_prime, y >= 0]\n",
        "    prob = cp.Problem(objective, constraints)\n",
        "    prob.solve()\n",
        "\n",
        "    # obtain the dual prices\n",
        "    P = y[:m,:].value\n",
        "    print('-'*25 + f'k = {kk}', '-'*25 + '\\n')\n",
        "    print(f'Dual price: {P.T[0,:]}\\n')\n",
        "\n",
        "    # proposal of x\n",
        "    x = np.where(pi>A.T@P,1,0)\n",
        "    x[:kk,:] = x_out[:kk,:]\n",
        "\n",
        "    # update x\n",
        "    sold = A[:,:kk]@x_out[:kk,:]\n",
        "    for i in range(kk,min(2*kk, n)):\n",
        "      if ((A[:,i].T*x[i,:]).reshape(-1,1) > b-sold).any():\n",
        "        x[i,:] = 0\n",
        "      else: sold += (A[:,i].T*x[i,:]).reshape(-1,1)\n",
        "    \n",
        "    # update x_out\n",
        "    x_out[kk:min(2*kk, n),:] = x[kk:min(2*kk, n),:]\n",
        "\n",
        "    # update kk\n",
        "    kk += kk\n",
        "  \n",
        "  # ouptut the optimal revenue\n",
        "  revenue = (pi.T@x_out)[0,0]\n",
        "  print('-'*40 + 'END' + '-'*40)\n",
        "  return P, x_out, revenue"
      ]
    },
    {
      "cell_type": "code",
      "execution_count": null,
      "metadata": {
        "colab": {
          "base_uri": "https://localhost:8080/"
        },
        "id": "a3zGniHZtwQm",
        "outputId": "86e21f28-b847-4e69-dbe5-93ae9348470e"
      },
      "outputs": [
        {
          "name": "stdout",
          "output_type": "stream",
          "text": [
            "------------------------------The Track of Dual Price------------------------------\n",
            "\n",
            "-------------------------k = 50 -------------------------\n",
            "\n",
            "Dual price: [44.08131118 34.73590639 14.2834981  49.16637156 25.32845307 26.23525563\n",
            "  9.9796159  25.22667587 13.64073604 39.06147426]\n",
            "\n",
            "-------------------------k = 100 -------------------------\n",
            "\n",
            "Dual price: [44.10761798 35.05640017 13.94883047 49.06530233 25.1132787  26.04832173\n",
            " 10.14120411 25.06083749 13.97303324 39.19661529]\n",
            "\n",
            "-------------------------k = 200 -------------------------\n",
            "\n",
            "Dual price: [44.08445376 35.01221617 14.04305541 49.0984615  24.97019652 26.0279769\n",
            " 10.1003609  25.0784745  13.97691391 39.1746032 ]\n",
            "\n",
            "-------------------------k = 400 -------------------------\n",
            "\n",
            "Dual price: [44.11575924 35.02564286 14.0975596  49.11769075 25.0724957  26.02435099\n",
            " 10.13486356 25.08632994 13.91276816 39.10288637]\n",
            "\n",
            "-------------------------k = 800 -------------------------\n",
            "\n",
            "Dual price: [44.08627972 35.09342037 14.07815968 49.07971733 25.07023365 26.05169373\n",
            " 10.12917172 25.06743187 13.92825808 39.12779309]\n",
            "\n",
            "-------------------------k = 1600 -------------------------\n",
            "\n",
            "Dual price: [44.08711955 35.05877656 14.08552097 49.0428207  25.07691507 26.08480268\n",
            " 10.1103745  25.0769479  14.00559755 39.08368903]\n",
            "\n",
            "-------------------------k = 3200 -------------------------\n",
            "\n",
            "Dual price: [44.1053195  35.06063018 14.06818448 49.07436968 25.06203781 26.05596942\n",
            " 10.06821428 25.09115748 14.04721157 39.06178694]\n",
            "\n",
            "-------------------------k = 6400 -------------------------\n",
            "\n",
            "Dual price: [44.1011333  35.06522694 14.05213781 49.058396   25.07480728 26.08178129\n",
            " 10.05461491 25.08021312 14.06390897 39.06170895]\n",
            "\n",
            "----------------------------------------END----------------------------------------\n"
          ]
        }
      ],
      "source": [
        "P,x,r = dynamic_learning_SLPM(A, pi, b, 10000, 50)"
      ]
    },
    {
      "cell_type": "code",
      "execution_count": null,
      "metadata": {
        "colab": {
          "base_uri": "https://localhost:8080/"
        },
        "id": "2qpkOP2V2bHo",
        "outputId": "f71be0b3-82f7-4ac2-d9e2-eac53c86e679"
      },
      "outputs": [
        {
          "name": "stdout",
          "output_type": "stream",
          "text": [
            "The optimal revenue: 282270.07444582676\n",
            "The ground truth dual price: \n",
            "[44.10011278 35.06752221 14.06044963 49.07278232 25.07418756 26.07114384\n",
            " 10.0602146  25.07050949 14.0626997  39.05658465]\n"
          ]
        }
      ],
      "source": [
        "# groud truth dual price\n",
        "y = cp.Variable((m+n,1))\n",
        "A_prime = np.hstack([A.T, np.eye(n)])\n",
        "b_prime = np.append(b,np.ones(n)).reshape(1,-1)\n",
        "pi_prime = pi\n",
        "objective = cp.Minimize(b_prime@y)\n",
        "constraints = [A_prime@y >= pi_prime, y >= 0]\n",
        "prob = cp.Problem(objective, constraints)\n",
        "prob.solve()\n",
        "print(f'The optimal revenue: {prob.value}')\n",
        "print(f'The ground truth dual price: \\n{y.value[:10,:].T[0,:]}')"
      ]
    },
    {
      "cell_type": "code",
      "execution_count": null,
      "metadata": {
        "colab": {
          "base_uri": "https://localhost:8080/"
        },
        "id": "TPG78Aorvalb",
        "outputId": "aed7931e-0eb0-40b3-f2de-07adee0ec68a"
      },
      "outputs": [
        {
          "name": "stdout",
          "output_type": "stream",
          "text": [
            "------------------------------Dynamic Learning SCLM------------------------------\n",
            "\n",
            "Dual price: [44.1011333  35.06522694 14.05213781 49.058396   25.07480728 26.08178129\n",
            " 10.05461491 25.08021312 14.06390897 39.06170895] \n",
            "\n",
            "Allocation: [0. 0. 0. ... 0. 0. 0.] \n",
            "\n",
            "Revenue: 275042.4146179024 \n",
            "\n",
            "Ratio: 0.9743945232518328 \n",
            "\n"
          ]
        }
      ],
      "source": [
        "print('-'*30 + 'Dynamic Learning SCLM' + '-'*30 + '\\n')\n",
        "print(f'Dual price: {P.T[0,:]} \\n')\n",
        "print(f'Allocation: {x.T[0,:]} \\n')\n",
        "print(f'Revenue: {r} \\n')\n",
        "print(f'Ratio: {r/opv1} \\n')"
      ]
    },
    {
      "cell_type": "markdown",
      "metadata": {
        "id": "aCW5x2K64Y2W"
      },
      "source": [
        "## Comments"
      ]
    },
    {
      "cell_type": "markdown",
      "metadata": {
        "id": "2lTzSC9R4dM2"
      },
      "source": [
        "--------------------------------------------------"
      ]
    },
    {
      "cell_type": "markdown",
      "metadata": {
        "id": "-l9V7pY15UjK"
      },
      "source": [
        "# 3) Proof"
      ]
    },
    {
      "cell_type": "markdown",
      "metadata": {
        "id": "WFS4ATan5YzQ"
      },
      "source": [
        "# 4) One-time Online Learning (SCPM)"
      ]
    },
    {
      "cell_type": "markdown",
      "metadata": {
        "id": "Q8N-jniltizD"
      },
      "source": [
        "## One-time Online Learning (SCPM) Algorithm Implement"
      ]
    },
    {
      "cell_type": "code",
      "execution_count": null,
      "metadata": {
        "colab": {
          "base_uri": "https://localhost:8080/"
        },
        "id": "gzMNxRMasR0X",
        "outputId": "37ff5458-f5da-428f-c15d-dabc37520a6a"
      },
      "outputs": [
        {
          "name": "stdout",
          "output_type": "stream",
          "text": [
            "Looking in indexes: https://pypi.org/simple, https://us-python.pkg.dev/colab-wheels/public/simple/\n",
            "Requirement already satisfied: SCS in /usr/local/lib/python3.9/dist-packages (3.2.3)\n",
            "Requirement already satisfied: numpy>=1.7 in /usr/local/lib/python3.9/dist-packages (from SCS) (1.22.4)\n",
            "Requirement already satisfied: scipy>=0.13.2 in /usr/local/lib/python3.9/dist-packages (from SCS) (1.10.1)\n"
          ]
        }
      ],
      "source": [
        "!pip install SCS"
      ]
    },
    {
      "cell_type": "code",
      "execution_count": null,
      "metadata": {
        "id": "fzPde5KiDVAE"
      },
      "outputs": [],
      "source": [
        "def online_learning_SCPM(A, pi, b, n, k, w):\n",
        "  # solve the primal SCPM with k bidders \n",
        "  m = len(b)\n",
        "  b = b.reshape(m)\n",
        "  y = cp.Variable(k)\n",
        "  s = cp.Variable(m)\n",
        "  objective = cp.Maximize(pi[:k,:].T@y + (w/m)*cp.sum(cp.log(s)))\n",
        "  constraints = [A[:,:k]@y + s <= (k/n)*b, y >= 0, y <= 1]\n",
        "  prob = cp.Problem(objective, constraints)\n",
        "  prob.solve(cp.SCS)\n",
        "\n",
        "  # obtain the dual prices\n",
        "  P = prob.constraints[0].dual_value.reshape(-1,1)\n",
        "  \n",
        "  # proposal of x\n",
        "  x = np.where(pi>A.T@P,1,0)\n",
        "  x[:k,:] = 0\n",
        "\n",
        "  # output x\n",
        "  b = b.reshape(-1,1)\n",
        "  sold = np.zeros_like(b)\n",
        "  for i in range(k,n):\n",
        "    if ((A[:,i].T*x[i,:]).reshape(-1,1) > b-sold).any():\n",
        "      x[i,:] = 0\n",
        "    else: sold += (A[:,i].T*x[i,:]).reshape(-1,1)\n",
        "\n",
        "  # ouptut the optimal revenue\n",
        "  revenue = (pi.T@x)[0,0]\n",
        "  return P, x, revenue\n"
      ]
    },
    {
      "cell_type": "code",
      "execution_count": null,
      "metadata": {
        "colab": {
          "base_uri": "https://localhost:8080/"
        },
        "id": "nRHGNmn2rIpD",
        "outputId": "2b8156aa-6659-4437-8ab0-d15498235f97"
      },
      "outputs": [
        {
          "name": "stdout",
          "output_type": "stream",
          "text": [
            "-------------------------One-time Online Learning SCPM-------------------------\n",
            "\n",
            "-------------------------k = 50-------------------------\n",
            "\n",
            "Dual price: [44.08107692 34.73455253 14.28391643 49.16567586 25.3306513  26.23536665\n",
            "  9.9793468  25.22723772 13.64142672 39.05960151] \n",
            "\n",
            "Allocation: [0 0 0 ... 0 0 0] \n",
            "\n",
            "Revenue: 202844.59559326863 \n",
            "\n",
            "Ratio: 0.7186188475399198 \n",
            "\n",
            "-------------------------k = 100-------------------------\n",
            "\n",
            "Dual price: [44.0952587  35.03066015 13.98477837 49.09057023 25.0396567  26.01271965\n",
            " 10.18851328 25.08728669 13.9836784  39.14983997] \n",
            "\n",
            "Allocation: [0 0 0 ... 0 0 0] \n",
            "\n",
            "Revenue: 259779.69410064444 \n",
            "\n",
            "Ratio: 0.9203231855543359 \n",
            "\n",
            "-------------------------k = 200-------------------------\n",
            "\n",
            "Dual price: [44.08538016 35.00755035 14.04530684 49.09774847 24.96418302 26.03348051\n",
            " 10.09854051 25.08253542 13.98054605 39.17291032] \n",
            "\n",
            "Allocation: [0 0 0 ... 0 0 0] \n",
            "\n",
            "Revenue: 261796.93642631202 \n",
            "\n",
            "Ratio: 0.9274696828570627 \n",
            "\n"
          ]
        }
      ],
      "source": [
        "print('-'*25 + 'One-time Online Learning SCPM' + '-'*25 + '\\n')\n",
        "for k in [50, 100, 200]:\n",
        "  P,x,r = online_learning_SCPM(A,pi,b,10000,k,1)\n",
        "  print('-'*25 + f'k = {k}' + '-'*25 + '\\n')\n",
        "  print(f'Dual price: {P.T[0,:]} \\n')\n",
        "  print(f'Allocation: {x.T[0,:]} \\n')\n",
        "  print(f'Revenue: {r} \\n')\n",
        "  print(f'Ratio: {r/opv1} \\n')"
      ]
    },
    {
      "cell_type": "markdown",
      "metadata": {
        "id": "qZpowxkgtmoX"
      },
      "source": [
        "## Comments"
      ]
    },
    {
      "cell_type": "markdown",
      "metadata": {
        "id": "H5gMGEsctqa9"
      },
      "source": [
        "# 5) Dynamic Learning (SCPM)"
      ]
    },
    {
      "cell_type": "markdown",
      "metadata": {
        "id": "NNFJNsY8t5dF"
      },
      "source": [
        "## Dynamic Learning (SCPM) Algorithm Implement"
      ]
    },
    {
      "cell_type": "code",
      "execution_count": null,
      "metadata": {
        "id": "bacqlvr0t1Qb"
      },
      "outputs": [],
      "source": [
        "def dynamic_learning_SCPM(A, pi, b, n, k, w):\n",
        "  global x_out\n",
        "  x_out = np.zeros_like(pi)\n",
        "  kk = k\n",
        "  m = len(b)\n",
        "  print('-'*30 + 'The Track of Dual Price' + '-'*30 + '\\n')\n",
        "  while kk < n:\n",
        "    # solve the primal SCPM with k bidders \n",
        "    b = b.reshape(m)\n",
        "    y = cp.Variable(kk)\n",
        "    s = cp.Variable(m)\n",
        "    objective = cp.Maximize(pi[:kk,:].T@y + (w/m)*cp.sum(cp.log(s)))\n",
        "    constraints = [A[:,:kk]@y + s <= (kk/n)*b, y >= 0, y <= 1]\n",
        "    prob = cp.Problem(objective, constraints)\n",
        "    prob.solve(cp.SCS)\n",
        "\n",
        "    # obtain the dual prices\n",
        "    P = prob.constraints[0].dual_value.reshape(-1,1)\n",
        "    print('-'*25 + f'k = {kk}', '-'*25 + '\\n')\n",
        "    print(f'Dual price: {P.T[0,:]}\\n')\n",
        "\n",
        "    # proposal of x\n",
        "    x = np.where(pi>A.T@P,1,0)\n",
        "    x[:kk,:] = x_out[:kk,:]\n",
        "    \n",
        "    # update x\n",
        "    b = b.reshape(-1,1)\n",
        "    sold = A[:,:kk]@x_out[:kk,:]\n",
        "    for i in range(kk,min(2*kk, n)):\n",
        "      if ((A[:,i].T*x[i,:]).reshape(-1,1) > b-sold).any():\n",
        "        x[i,:] = 0\n",
        "      else: sold += (A[:,i].T*x[i,:]).reshape(-1,1)\n",
        "    \n",
        "    # update x_out\n",
        "    x_out[kk:min(2*kk, n),:] = x[kk:min(2*kk, n),:]\n",
        "\n",
        "    # update kk\n",
        "    kk += kk\n",
        "  \n",
        "  # ouptut the optimal revenue\n",
        "  revenue = (pi.T@x_out)[0,0]\n",
        "  print('-'*40 + 'END' + '-'*40)\n",
        "  return P, x_out, revenue"
      ]
    },
    {
      "cell_type": "code",
      "execution_count": null,
      "metadata": {
        "colab": {
          "base_uri": "https://localhost:8080/"
        },
        "id": "v1T6aGaAupTN",
        "outputId": "7f70be98-7b5a-443b-fd66-69c2e983035a"
      },
      "outputs": [
        {
          "name": "stdout",
          "output_type": "stream",
          "text": [
            "------------------------------The Track of Dual Price------------------------------\n",
            "\n",
            "-------------------------k = 50 -------------------------\n",
            "\n",
            "Dual price: [44.08107692 34.73455253 14.28391643 49.16567586 25.3306513  26.23536665\n",
            "  9.9793468  25.22723772 13.64142672 39.05960151]\n",
            "\n",
            "-------------------------k = 100 -------------------------\n",
            "\n",
            "Dual price: [44.0952587  35.03066015 13.98477837 49.09057023 25.0396567  26.01271965\n",
            " 10.18851328 25.08728669 13.9836784  39.14983997]\n",
            "\n",
            "-------------------------k = 200 -------------------------\n",
            "\n",
            "Dual price: [44.08538016 35.00755035 14.04530684 49.09774847 24.96418302 26.03348051\n",
            " 10.09854051 25.08253542 13.98054605 39.17291032]\n",
            "\n",
            "-------------------------k = 400 -------------------------\n",
            "\n",
            "Dual price: [44.11565667 35.02517968 14.09768505 49.11828489 25.07227907 26.02423411\n",
            " 10.13504165 25.08657958 13.91264146 39.10267076]\n",
            "\n",
            "-------------------------k = 800 -------------------------\n",
            "\n",
            "Dual price: [44.08617397 35.09295865 14.07896307 49.08009142 25.07003973 26.05220512\n",
            " 10.12904582 25.06755271 13.92795842 39.12700355]\n",
            "\n",
            "-------------------------k = 1600 -------------------------\n",
            "\n",
            "Dual price: [44.08642923 35.05806592 14.08629198 49.04231365 25.07753141 26.08448267\n",
            " 10.10991777 25.07732137 14.00552222 39.08465134]\n",
            "\n",
            "-------------------------k = 3200 -------------------------\n",
            "\n",
            "Dual price: [44.10546087 35.06061729 14.0682791  49.07452977 25.06196085 26.0558154\n",
            " 10.06833104 25.09097913 14.04729418 39.06170266]\n",
            "\n",
            "-------------------------k = 6400 -------------------------\n",
            "\n",
            "Dual price: [44.10121057 35.06491512 14.05197554 49.05847329 25.07503806 26.08154817\n",
            " 10.05433993 25.08045335 14.0638946  39.06186425]\n",
            "\n",
            "----------------------------------------END----------------------------------------\n"
          ]
        }
      ],
      "source": [
        "P,x,r = dynamic_learning_SCPM(A, pi, b, 10000, 50, 1)"
      ]
    },
    {
      "cell_type": "code",
      "execution_count": null,
      "metadata": {
        "colab": {
          "base_uri": "https://localhost:8080/"
        },
        "id": "wmH7VRbPxcVL",
        "outputId": "96e86534-5f94-4656-d13c-7f6befbbeb16"
      },
      "outputs": [
        {
          "name": "stdout",
          "output_type": "stream",
          "text": [
            "The optimal revenue: 282263.54696186224\n",
            "The ground truth dual price: \n",
            "[44.10029288 35.06748989 14.06033983 49.07277549 25.07413983 26.07132079\n",
            " 10.06029218 25.07008807 14.06288852 39.05657544]\n"
          ]
        }
      ],
      "source": [
        "# groud truth dual price\n",
        "w = 1\n",
        "b = b.reshape(m)\n",
        "y = cp.Variable(n)\n",
        "s = cp.Variable(m)\n",
        "objective = cp.Maximize(pi[:,:].T@y + (w/m)*cp.sum(cp.log(s)))\n",
        "constraints = [A@y + s <= b, y >= 0, y <= 1]\n",
        "prob = cp.Problem(objective, constraints)\n",
        "prob.solve(cp.SCS)\n",
        "b = b.reshape(-1,1)\n",
        "print(f'The optimal revenue: {prob.value}')\n",
        "print(f'The ground truth dual price: \\n{prob.constraints[0].dual_value}')"
      ]
    },
    {
      "cell_type": "code",
      "execution_count": null,
      "metadata": {
        "colab": {
          "base_uri": "https://localhost:8080/"
        },
        "id": "M7q0SuT0xNz2",
        "outputId": "6347f0af-c283-4cb5-8f5b-682eb921c0ad"
      },
      "outputs": [
        {
          "name": "stdout",
          "output_type": "stream",
          "text": [
            "------------------------------Dynamic Learning SCPM------------------------------\n",
            "\n",
            "Dual price: [44.10121057 35.06491512 14.05197554 49.05847329 25.07503806 26.08154817\n",
            " 10.05433993 25.08045335 14.0638946  39.06186425] \n",
            "\n",
            "Allocation: [0. 0. 0. ... 0. 0. 0.] \n",
            "\n",
            "Revenue: 275449.66181122075 \n",
            "\n",
            "Ratio: 0.9758372804910402 \n",
            "\n"
          ]
        }
      ],
      "source": [
        "print('-'*30 + 'Dynamic Learning SCPM' + '-'*30 + '\\n')\n",
        "print(f'Dual price: {P.T[0,:]} \\n')\n",
        "print(f'Allocation: {x.T[0,:]} \\n')\n",
        "print(f'Revenue: {r} \\n')\n",
        "print(f'Ratio: {r/opv1} \\n')"
      ]
    },
    {
      "cell_type": "markdown",
      "metadata": {
        "id": "_KmnvwNCt643"
      },
      "source": [
        "## Comments"
      ]
    },
    {
      "cell_type": "markdown",
      "metadata": {
        "id": "MsCqCuY1ywjB"
      },
      "source": [
        "--------------------------------------"
      ]
    },
    {
      "cell_type": "markdown",
      "metadata": {
        "id": "WJ_7kcGDkoAp"
      },
      "source": [
        "# 6) Action-history-dependent Learning Algorithm"
      ]
    },
    {
      "cell_type": "code",
      "execution_count": null,
      "metadata": {
        "colab": {
          "base_uri": "https://localhost:8080/"
        },
        "id": "yCSe4x5kjSrw",
        "outputId": "993abdab-98e6-4b39-e801-8a272f8db836"
      },
      "outputs": [
        {
          "data": {
            "text/plain": [
              "array([[1, 0, 0, ..., 0, 1, 0],\n",
              "       [0, 1, 0, ..., 1, 1, 1],\n",
              "       [1, 0, 0, ..., 0, 0, 0],\n",
              "       ...,\n",
              "       [1, 0, 1, ..., 0, 0, 0],\n",
              "       [0, 1, 0, ..., 1, 1, 0],\n",
              "       [0, 1, 1, ..., 1, 1, 1]])"
            ]
          },
          "execution_count": 113,
          "metadata": {},
          "output_type": "execute_result"
        }
      ],
      "source": [
        "A"
      ]
    },
    {
      "cell_type": "code",
      "execution_count": null,
      "metadata": {
        "colab": {
          "base_uri": "https://localhost:8080/"
        },
        "id": "iTbZTr-uj44F",
        "outputId": "e717d20d-bff8-4a41-deb1-3f07bb2c5170"
      },
      "outputs": [
        {
          "data": {
            "text/plain": [
              "array([1, 0, 1, 1, 0, 1, 1, 1, 0, 0])"
            ]
          },
          "execution_count": 114,
          "metadata": {},
          "output_type": "execute_result"
        }
      ],
      "source": [
        "A[:,0]"
      ]
    },
    {
      "cell_type": "code",
      "execution_count": null,
      "metadata": {
        "id": "kPYj0hCkzwcL"
      },
      "outputs": [],
      "source": [
        "def aciton_history_dependent_learning(A, pi, b, n):\n",
        "  global bb\n",
        "  bb = b \n",
        "  x = np.zeros_like(pi)\n",
        "  for k in range(1,n):\n",
        "    # solve the dual SLPM with k bidders \n",
        "    m = len(bb)\n",
        "    y = cp.Variable((m+k,1))\n",
        "    A_prime = np.hstack([A[:,:k].T, np.eye(k)])\n",
        "    b_prime = np.append((k/(n-k))*bb,np.ones(k)).reshape(1,-1)\n",
        "    pi_prime = pi[:k,:]\n",
        "    objective = cp.Minimize(b_prime@y)\n",
        "    constraints = [A_prime@y >= pi_prime, y >= 0]\n",
        "    prob = cp.Problem(objective, constraints)\n",
        "    prob.solve()\n",
        "\n",
        "    # obtain the dual prices\n",
        "    P = y[:m,:].value\n",
        "\n",
        "    # determine the value of x\n",
        "    x[k-1,:] = 1 if pi[k-1,0] > (A[:,k-1]@P)[0] and (A[:,k-1].reshape(-1,1) <= bb).all() else 0\n",
        "\n",
        "    # update bb\n",
        "    if x[k-1,:] == 1:\n",
        "      bb = bb - A[:,k-1].reshape(-1,1)\n",
        "\n",
        "    # keep track of the program\n",
        "    if k%1000 == 0:\n",
        "      print('-'*30 + f'k = {k}' + '-'*30)\n",
        "      print(f'current remaining goods: {bb.T}')\n",
        "      print(f'current dual price: {P.T}')\n",
        "      print(f'current allocated number: {int(np.sum(x))}')\n",
        "\n",
        "  # ouptut the optimal revenue\n",
        "  revenue = (pi.T@x)[0,0]\n",
        "  return P, x, revenue\n"
      ]
    },
    {
      "cell_type": "code",
      "execution_count": null,
      "metadata": {
        "colab": {
          "base_uri": "https://localhost:8080/",
          "height": 782
        },
        "id": "RSyYhOjP4Zki",
        "outputId": "eb5548d9-d72b-4a3c-de9e-4d0d29f53cf2"
      },
      "outputs": [
        {
          "name": "stdout",
          "output_type": "stream",
          "text": [
            "------------------------------k = 1000------------------------------\n",
            "current remaining goods: [[896 897 895 906 899 890 903 900 895 903]]\n",
            "current dual price: [[44.08756915 35.0762377  14.10087913 49.05854786 25.08382948 26.06760534\n",
            "  10.11527178 25.05851014 13.94503273 39.13470316]]\n",
            "current allocated number: 222\n",
            "------------------------------k = 2000------------------------------\n",
            "current remaining goods: [[793 808 810 814 806 800 816 802 786 815]]\n",
            "current dual price: [[44.11379581 35.04508342 14.06041217 49.04932309 25.07534474 26.07364114\n",
            "  10.0878957  25.08125644 14.05825098 39.04690237]]\n",
            "current allocated number: 435\n",
            "------------------------------k = 3000------------------------------\n",
            "current remaining goods: [[699 708 717 712 712 707 724 697 689 717]]\n",
            "current dual price: [[44.11584939 35.04589005 14.04564521 49.06458464 25.06758621 26.05150952\n",
            "  10.06077005 25.11780291 14.06786791 39.04504396]]\n",
            "current allocated number: 643\n",
            "------------------------------k = 4000------------------------------\n",
            "current remaining goods: [[595 599 614 617 610 603 624 612 583 609]]\n",
            "current dual price: [[44.11489518 35.07892278 14.04953034 49.05466904 25.05915936 26.06324232\n",
            "  10.05083848 25.07704465 14.08777702 39.0511668 ]]\n",
            "current allocated number: 860\n",
            "------------------------------k = 5000------------------------------\n",
            "current remaining goods: [[497 502 517 514 508 497 525 514 489 513]]\n",
            "current dual price: [[44.12134414 35.06433589 14.04275868 49.05797141 25.07567519 26.0848387\n",
            "  10.04733411 25.06981756 14.08171058 39.04028414]]\n",
            "current allocated number: 1085\n"
          ]
        },
        {
          "ename": "KeyboardInterrupt",
          "evalue": "ignored",
          "output_type": "error",
          "traceback": [
            "\u001b[0;31m---------------------------------------------------------------------------\u001b[0m",
            "\u001b[0;31mKeyboardInterrupt\u001b[0m                         Traceback (most recent call last)",
            "\u001b[0;32m<ipython-input-122-c12d103e45aa>\u001b[0m in \u001b[0;36m<cell line: 1>\u001b[0;34m()\u001b[0m\n\u001b[0;32m----> 1\u001b[0;31m \u001b[0mP\u001b[0m\u001b[0;34m,\u001b[0m\u001b[0mx\u001b[0m\u001b[0;34m,\u001b[0m\u001b[0mr\u001b[0m \u001b[0;34m=\u001b[0m \u001b[0maciton_history_dependent_learning\u001b[0m\u001b[0;34m(\u001b[0m\u001b[0mA\u001b[0m\u001b[0;34m,\u001b[0m \u001b[0mpi\u001b[0m\u001b[0;34m,\u001b[0m \u001b[0mb\u001b[0m\u001b[0;34m,\u001b[0m \u001b[0;36m10000\u001b[0m\u001b[0;34m)\u001b[0m\u001b[0;34m\u001b[0m\u001b[0;34m\u001b[0m\u001b[0m\n\u001b[0m",
            "\u001b[0;32m<ipython-input-121-05336aaba461>\u001b[0m in \u001b[0;36maciton_history_dependent_learning\u001b[0;34m(A, pi, b, n)\u001b[0m\n\u001b[1;32m     13\u001b[0m     \u001b[0mconstraints\u001b[0m \u001b[0;34m=\u001b[0m \u001b[0;34m[\u001b[0m\u001b[0mA_prime\u001b[0m\u001b[0;34m@\u001b[0m\u001b[0my\u001b[0m \u001b[0;34m>=\u001b[0m \u001b[0mpi_prime\u001b[0m\u001b[0;34m,\u001b[0m \u001b[0my\u001b[0m \u001b[0;34m>=\u001b[0m \u001b[0;36m0\u001b[0m\u001b[0;34m]\u001b[0m\u001b[0;34m\u001b[0m\u001b[0;34m\u001b[0m\u001b[0m\n\u001b[1;32m     14\u001b[0m     \u001b[0mprob\u001b[0m \u001b[0;34m=\u001b[0m \u001b[0mcp\u001b[0m\u001b[0;34m.\u001b[0m\u001b[0mProblem\u001b[0m\u001b[0;34m(\u001b[0m\u001b[0mobjective\u001b[0m\u001b[0;34m,\u001b[0m \u001b[0mconstraints\u001b[0m\u001b[0;34m)\u001b[0m\u001b[0;34m\u001b[0m\u001b[0;34m\u001b[0m\u001b[0m\n\u001b[0;32m---> 15\u001b[0;31m     \u001b[0mprob\u001b[0m\u001b[0;34m.\u001b[0m\u001b[0msolve\u001b[0m\u001b[0;34m(\u001b[0m\u001b[0;34m)\u001b[0m\u001b[0;34m\u001b[0m\u001b[0;34m\u001b[0m\u001b[0m\n\u001b[0m\u001b[1;32m     16\u001b[0m \u001b[0;34m\u001b[0m\u001b[0m\n\u001b[1;32m     17\u001b[0m     \u001b[0;31m# obtain the dual prices\u001b[0m\u001b[0;34m\u001b[0m\u001b[0;34m\u001b[0m\u001b[0m\n",
            "\u001b[0;32m/usr/local/lib/python3.9/dist-packages/cvxpy/problems/problem.py\u001b[0m in \u001b[0;36msolve\u001b[0;34m(self, *args, **kwargs)\u001b[0m\n\u001b[1;32m    491\u001b[0m         \u001b[0;32melse\u001b[0m\u001b[0;34m:\u001b[0m\u001b[0;34m\u001b[0m\u001b[0;34m\u001b[0m\u001b[0m\n\u001b[1;32m    492\u001b[0m             \u001b[0msolve_func\u001b[0m \u001b[0;34m=\u001b[0m \u001b[0mProblem\u001b[0m\u001b[0;34m.\u001b[0m\u001b[0m_solve\u001b[0m\u001b[0;34m\u001b[0m\u001b[0;34m\u001b[0m\u001b[0m\n\u001b[0;32m--> 493\u001b[0;31m         \u001b[0;32mreturn\u001b[0m \u001b[0msolve_func\u001b[0m\u001b[0;34m(\u001b[0m\u001b[0mself\u001b[0m\u001b[0;34m,\u001b[0m \u001b[0;34m*\u001b[0m\u001b[0margs\u001b[0m\u001b[0;34m,\u001b[0m \u001b[0;34m**\u001b[0m\u001b[0mkwargs\u001b[0m\u001b[0;34m)\u001b[0m\u001b[0;34m\u001b[0m\u001b[0;34m\u001b[0m\u001b[0m\n\u001b[0m\u001b[1;32m    494\u001b[0m \u001b[0;34m\u001b[0m\u001b[0m\n\u001b[1;32m    495\u001b[0m     \u001b[0;34m@\u001b[0m\u001b[0mclassmethod\u001b[0m\u001b[0;34m\u001b[0m\u001b[0;34m\u001b[0m\u001b[0m\n",
            "\u001b[0;32m/usr/local/lib/python3.9/dist-packages/cvxpy/problems/problem.py\u001b[0m in \u001b[0;36m_solve\u001b[0;34m(self, solver, warm_start, verbose, gp, qcp, requires_grad, enforce_dpp, ignore_dpp, canon_backend, **kwargs)\u001b[0m\n\u001b[1;32m   1052\u001b[0m                 \u001b[0;32mreturn\u001b[0m \u001b[0mself\u001b[0m\u001b[0;34m.\u001b[0m\u001b[0mvalue\u001b[0m\u001b[0;34m\u001b[0m\u001b[0;34m\u001b[0m\u001b[0m\n\u001b[1;32m   1053\u001b[0m \u001b[0;34m\u001b[0m\u001b[0m\n\u001b[0;32m-> 1054\u001b[0;31m         data, solving_chain, inverse_data = self.get_problem_data(\n\u001b[0m\u001b[1;32m   1055\u001b[0m             \u001b[0msolver\u001b[0m\u001b[0;34m,\u001b[0m \u001b[0mgp\u001b[0m\u001b[0;34m,\u001b[0m \u001b[0menforce_dpp\u001b[0m\u001b[0;34m,\u001b[0m \u001b[0mignore_dpp\u001b[0m\u001b[0;34m,\u001b[0m \u001b[0mverbose\u001b[0m\u001b[0;34m,\u001b[0m \u001b[0mcanon_backend\u001b[0m\u001b[0;34m,\u001b[0m \u001b[0mkwargs\u001b[0m\u001b[0;34m\u001b[0m\u001b[0;34m\u001b[0m\u001b[0m\n\u001b[1;32m   1056\u001b[0m         )\n",
            "\u001b[0;32m/usr/local/lib/python3.9/dist-packages/cvxpy/problems/problem.py\u001b[0m in \u001b[0;36mget_problem_data\u001b[0;34m(self, solver, gp, enforce_dpp, ignore_dpp, verbose, canon_backend, solver_opts)\u001b[0m\n\u001b[1;32m    679\u001b[0m                          'Compiling problem (target solver=%s).', solver_name)\n\u001b[1;32m    680\u001b[0m                 \u001b[0ms\u001b[0m\u001b[0;34m.\u001b[0m\u001b[0mLOGGER\u001b[0m\u001b[0;34m.\u001b[0m\u001b[0minfo\u001b[0m\u001b[0;34m(\u001b[0m\u001b[0;34m'Reduction chain: %s'\u001b[0m\u001b[0;34m,\u001b[0m \u001b[0mreduction_chain_str\u001b[0m\u001b[0;34m)\u001b[0m\u001b[0;34m\u001b[0m\u001b[0;34m\u001b[0m\u001b[0m\n\u001b[0;32m--> 681\u001b[0;31m             \u001b[0mdata\u001b[0m\u001b[0;34m,\u001b[0m \u001b[0minverse_data\u001b[0m \u001b[0;34m=\u001b[0m \u001b[0msolving_chain\u001b[0m\u001b[0;34m.\u001b[0m\u001b[0mapply\u001b[0m\u001b[0;34m(\u001b[0m\u001b[0mself\u001b[0m\u001b[0;34m,\u001b[0m \u001b[0mverbose\u001b[0m\u001b[0;34m)\u001b[0m\u001b[0;34m\u001b[0m\u001b[0;34m\u001b[0m\u001b[0m\n\u001b[0m\u001b[1;32m    682\u001b[0m             safe_to_cache = (\n\u001b[1;32m    683\u001b[0m                 \u001b[0misinstance\u001b[0m\u001b[0;34m(\u001b[0m\u001b[0mdata\u001b[0m\u001b[0;34m,\u001b[0m \u001b[0mdict\u001b[0m\u001b[0;34m)\u001b[0m\u001b[0;34m\u001b[0m\u001b[0;34m\u001b[0m\u001b[0m\n",
            "\u001b[0;32m/usr/local/lib/python3.9/dist-packages/cvxpy/reductions/chain.py\u001b[0m in \u001b[0;36mapply\u001b[0;34m(self, problem, verbose)\u001b[0m\n\u001b[1;32m     74\u001b[0m             \u001b[0;32mif\u001b[0m \u001b[0mverbose\u001b[0m\u001b[0;34m:\u001b[0m\u001b[0;34m\u001b[0m\u001b[0;34m\u001b[0m\u001b[0m\n\u001b[1;32m     75\u001b[0m                 \u001b[0ms\u001b[0m\u001b[0;34m.\u001b[0m\u001b[0mLOGGER\u001b[0m\u001b[0;34m.\u001b[0m\u001b[0minfo\u001b[0m\u001b[0;34m(\u001b[0m\u001b[0;34m'Applying reduction %s'\u001b[0m\u001b[0;34m,\u001b[0m \u001b[0mtype\u001b[0m\u001b[0;34m(\u001b[0m\u001b[0mr\u001b[0m\u001b[0;34m)\u001b[0m\u001b[0;34m.\u001b[0m\u001b[0m__name__\u001b[0m\u001b[0;34m)\u001b[0m\u001b[0;34m\u001b[0m\u001b[0;34m\u001b[0m\u001b[0m\n\u001b[0;32m---> 76\u001b[0;31m             \u001b[0mproblem\u001b[0m\u001b[0;34m,\u001b[0m \u001b[0minv\u001b[0m \u001b[0;34m=\u001b[0m \u001b[0mr\u001b[0m\u001b[0;34m.\u001b[0m\u001b[0mapply\u001b[0m\u001b[0;34m(\u001b[0m\u001b[0mproblem\u001b[0m\u001b[0;34m)\u001b[0m\u001b[0;34m\u001b[0m\u001b[0;34m\u001b[0m\u001b[0m\n\u001b[0m\u001b[1;32m     77\u001b[0m             \u001b[0minverse_data\u001b[0m\u001b[0;34m.\u001b[0m\u001b[0mappend\u001b[0m\u001b[0;34m(\u001b[0m\u001b[0minv\u001b[0m\u001b[0;34m)\u001b[0m\u001b[0;34m\u001b[0m\u001b[0;34m\u001b[0m\u001b[0m\n\u001b[1;32m     78\u001b[0m         \u001b[0;32mreturn\u001b[0m \u001b[0mproblem\u001b[0m\u001b[0;34m,\u001b[0m \u001b[0minverse_data\u001b[0m\u001b[0;34m\u001b[0m\u001b[0;34m\u001b[0m\u001b[0m\n",
            "\u001b[0;32m/usr/local/lib/python3.9/dist-packages/cvxpy/reductions/dcp2cone/cone_matrix_stuffing.py\u001b[0m in \u001b[0;36mapply\u001b[0;34m(self, problem)\u001b[0m\n\u001b[1;32m    352\u001b[0m         \u001b[0;31m# Batch expressions together, then split apart.\u001b[0m\u001b[0;34m\u001b[0m\u001b[0;34m\u001b[0m\u001b[0m\n\u001b[1;32m    353\u001b[0m         \u001b[0mexpr_list\u001b[0m \u001b[0;34m=\u001b[0m \u001b[0;34m[\u001b[0m\u001b[0marg\u001b[0m \u001b[0;32mfor\u001b[0m \u001b[0mc\u001b[0m \u001b[0;32min\u001b[0m \u001b[0mordered_cons\u001b[0m \u001b[0;32mfor\u001b[0m \u001b[0marg\u001b[0m \u001b[0;32min\u001b[0m \u001b[0mc\u001b[0m\u001b[0;34m.\u001b[0m\u001b[0margs\u001b[0m\u001b[0;34m]\u001b[0m\u001b[0;34m\u001b[0m\u001b[0;34m\u001b[0m\u001b[0m\n\u001b[0;32m--> 354\u001b[0;31m         \u001b[0mparams_to_problem_data\u001b[0m \u001b[0;34m=\u001b[0m \u001b[0mextractor\u001b[0m\u001b[0;34m.\u001b[0m\u001b[0maffine\u001b[0m\u001b[0;34m(\u001b[0m\u001b[0mexpr_list\u001b[0m\u001b[0;34m)\u001b[0m\u001b[0;34m\u001b[0m\u001b[0;34m\u001b[0m\u001b[0m\n\u001b[0m\u001b[1;32m    355\u001b[0m \u001b[0;34m\u001b[0m\u001b[0m\n\u001b[1;32m    356\u001b[0m         \u001b[0minverse_data\u001b[0m\u001b[0;34m.\u001b[0m\u001b[0mminimize\u001b[0m \u001b[0;34m=\u001b[0m \u001b[0mtype\u001b[0m\u001b[0;34m(\u001b[0m\u001b[0mproblem\u001b[0m\u001b[0;34m.\u001b[0m\u001b[0mobjective\u001b[0m\u001b[0;34m)\u001b[0m \u001b[0;34m==\u001b[0m \u001b[0mMinimize\u001b[0m\u001b[0;34m\u001b[0m\u001b[0;34m\u001b[0m\u001b[0m\n",
            "\u001b[0;32m/usr/local/lib/python3.9/dist-packages/cvxpy/utilities/coeff_extractor.py\u001b[0m in \u001b[0;36maffine\u001b[0;34m(self, expr)\u001b[0m\n\u001b[1;32m     82\u001b[0m         \u001b[0mnum_rows\u001b[0m \u001b[0;34m=\u001b[0m \u001b[0msum\u001b[0m\u001b[0;34m(\u001b[0m\u001b[0;34m[\u001b[0m\u001b[0me\u001b[0m\u001b[0;34m.\u001b[0m\u001b[0msize\u001b[0m \u001b[0;32mfor\u001b[0m \u001b[0me\u001b[0m \u001b[0;32min\u001b[0m \u001b[0mexpr_list\u001b[0m\u001b[0;34m]\u001b[0m\u001b[0;34m)\u001b[0m\u001b[0;34m\u001b[0m\u001b[0;34m\u001b[0m\u001b[0m\n\u001b[1;32m     83\u001b[0m         \u001b[0mop_list\u001b[0m \u001b[0;34m=\u001b[0m \u001b[0;34m[\u001b[0m\u001b[0me\u001b[0m\u001b[0;34m.\u001b[0m\u001b[0mcanonical_form\u001b[0m\u001b[0;34m[\u001b[0m\u001b[0;36m0\u001b[0m\u001b[0;34m]\u001b[0m \u001b[0;32mfor\u001b[0m \u001b[0me\u001b[0m \u001b[0;32min\u001b[0m \u001b[0mexpr_list\u001b[0m\u001b[0;34m]\u001b[0m\u001b[0;34m\u001b[0m\u001b[0;34m\u001b[0m\u001b[0m\n\u001b[0;32m---> 84\u001b[0;31m         return canonInterface.get_problem_matrix(op_list,\n\u001b[0m\u001b[1;32m     85\u001b[0m                                                  \u001b[0mself\u001b[0m\u001b[0;34m.\u001b[0m\u001b[0mx_length\u001b[0m\u001b[0;34m,\u001b[0m\u001b[0;34m\u001b[0m\u001b[0;34m\u001b[0m\u001b[0m\n\u001b[1;32m     86\u001b[0m                                                  \u001b[0mself\u001b[0m\u001b[0;34m.\u001b[0m\u001b[0mid_map\u001b[0m\u001b[0;34m,\u001b[0m\u001b[0;34m\u001b[0m\u001b[0;34m\u001b[0m\u001b[0m\n",
            "\u001b[0;32m/usr/local/lib/python3.9/dist-packages/cvxpy/cvxcore/python/canonInterface.py\u001b[0m in \u001b[0;36mget_problem_matrix\u001b[0;34m(linOps, var_length, id_to_col, param_to_size, param_to_col, constr_length, canon_backend)\u001b[0m\n\u001b[1;32m    333\u001b[0m         \u001b[0mlinPy_to_linC\u001b[0m \u001b[0;34m=\u001b[0m \u001b[0;34m{\u001b[0m\u001b[0;34m}\u001b[0m\u001b[0;34m\u001b[0m\u001b[0;34m\u001b[0m\u001b[0m\n\u001b[1;32m    334\u001b[0m         \u001b[0;32mfor\u001b[0m \u001b[0mlin\u001b[0m \u001b[0;32min\u001b[0m \u001b[0mlinOps\u001b[0m\u001b[0;34m:\u001b[0m\u001b[0;34m\u001b[0m\u001b[0;34m\u001b[0m\u001b[0m\n\u001b[0;32m--> 335\u001b[0;31m             \u001b[0mbuild_lin_op_tree\u001b[0m\u001b[0;34m(\u001b[0m\u001b[0mlin\u001b[0m\u001b[0;34m,\u001b[0m \u001b[0mlinPy_to_linC\u001b[0m\u001b[0;34m)\u001b[0m\u001b[0;34m\u001b[0m\u001b[0;34m\u001b[0m\u001b[0m\n\u001b[0m\u001b[1;32m    336\u001b[0m             \u001b[0mtree\u001b[0m \u001b[0;34m=\u001b[0m \u001b[0mlinPy_to_linC\u001b[0m\u001b[0;34m[\u001b[0m\u001b[0mlin\u001b[0m\u001b[0;34m]\u001b[0m\u001b[0;34m\u001b[0m\u001b[0;34m\u001b[0m\u001b[0m\n\u001b[1;32m    337\u001b[0m             \u001b[0mlin_vec\u001b[0m\u001b[0;34m.\u001b[0m\u001b[0mpush_back\u001b[0m\u001b[0;34m(\u001b[0m\u001b[0mtree\u001b[0m\u001b[0;34m)\u001b[0m\u001b[0;34m\u001b[0m\u001b[0;34m\u001b[0m\u001b[0m\n",
            "\u001b[0;32m/usr/local/lib/python3.9/dist-packages/cvxpy/cvxcore/python/canonInterface.py\u001b[0m in \u001b[0;36mbuild_lin_op_tree\u001b[0;34m(root_linPy, linPy_to_linC)\u001b[0m\n\u001b[1;32m    547\u001b[0m     \u001b[0;32mwhile\u001b[0m \u001b[0mpost_order_stack\u001b[0m\u001b[0;34m:\u001b[0m\u001b[0;34m\u001b[0m\u001b[0;34m\u001b[0m\u001b[0m\n\u001b[1;32m    548\u001b[0m         \u001b[0mlinPy\u001b[0m \u001b[0;34m=\u001b[0m \u001b[0mpost_order_stack\u001b[0m\u001b[0;34m.\u001b[0m\u001b[0mpop\u001b[0m\u001b[0;34m(\u001b[0m\u001b[0;34m)\u001b[0m\u001b[0;34m\u001b[0m\u001b[0;34m\u001b[0m\u001b[0m\n\u001b[0;32m--> 549\u001b[0;31m         \u001b[0mmake_linC_from_linPy\u001b[0m\u001b[0;34m(\u001b[0m\u001b[0mlinPy\u001b[0m\u001b[0;34m,\u001b[0m \u001b[0mlinPy_to_linC\u001b[0m\u001b[0;34m)\u001b[0m\u001b[0;34m\u001b[0m\u001b[0;34m\u001b[0m\u001b[0m\n\u001b[0m",
            "\u001b[0;32m/usr/local/lib/python3.9/dist-packages/cvxpy/cvxcore/python/canonInterface.py\u001b[0m in \u001b[0;36mmake_linC_from_linPy\u001b[0;34m(linPy, linPy_to_linC)\u001b[0m\n\u001b[1;32m    521\u001b[0m             \u001b[0mlinC\u001b[0m\u001b[0;34m.\u001b[0m\u001b[0mset_data_ndim\u001b[0m\u001b[0;34m(\u001b[0m\u001b[0mlen\u001b[0m\u001b[0;34m(\u001b[0m\u001b[0mlinPy\u001b[0m\u001b[0;34m.\u001b[0m\u001b[0mdata\u001b[0m\u001b[0;34m.\u001b[0m\u001b[0mshape\u001b[0m\u001b[0;34m)\u001b[0m\u001b[0;34m)\u001b[0m\u001b[0;34m\u001b[0m\u001b[0;34m\u001b[0m\u001b[0m\n\u001b[1;32m    522\u001b[0m         \u001b[0;32melse\u001b[0m\u001b[0;34m:\u001b[0m\u001b[0;34m\u001b[0m\u001b[0;34m\u001b[0m\u001b[0m\n\u001b[0;32m--> 523\u001b[0;31m             \u001b[0mset_linC_data\u001b[0m\u001b[0;34m(\u001b[0m\u001b[0mlinC\u001b[0m\u001b[0;34m,\u001b[0m \u001b[0mlinPy\u001b[0m\u001b[0;34m)\u001b[0m\u001b[0;34m\u001b[0m\u001b[0;34m\u001b[0m\u001b[0m\n\u001b[0m\u001b[1;32m    524\u001b[0m \u001b[0;34m\u001b[0m\u001b[0m\n\u001b[1;32m    525\u001b[0m \u001b[0;34m\u001b[0m\u001b[0m\n",
            "\u001b[0;32m/usr/local/lib/python3.9/dist-packages/cvxpy/cvxcore/python/canonInterface.py\u001b[0m in \u001b[0;36mset_linC_data\u001b[0;34m(linC, linPy)\u001b[0m\n\u001b[1;32m    495\u001b[0m         \u001b[0mlinC\u001b[0m\u001b[0;34m.\u001b[0m\u001b[0mset_data_ndim\u001b[0m\u001b[0;34m(\u001b[0m\u001b[0;36m0\u001b[0m\u001b[0;34m)\u001b[0m\u001b[0;34m\u001b[0m\u001b[0;34m\u001b[0m\u001b[0m\n\u001b[1;32m    496\u001b[0m     \u001b[0;32melse\u001b[0m\u001b[0;34m:\u001b[0m\u001b[0;34m\u001b[0m\u001b[0;34m\u001b[0m\u001b[0m\n\u001b[0;32m--> 497\u001b[0;31m         \u001b[0mset_matrix_data\u001b[0m\u001b[0;34m(\u001b[0m\u001b[0mlinC\u001b[0m\u001b[0;34m,\u001b[0m \u001b[0mlinPy\u001b[0m\u001b[0;34m)\u001b[0m\u001b[0;34m\u001b[0m\u001b[0;34m\u001b[0m\u001b[0m\n\u001b[0m\u001b[1;32m    498\u001b[0m \u001b[0;34m\u001b[0m\u001b[0m\n\u001b[1;32m    499\u001b[0m \u001b[0;34m\u001b[0m\u001b[0m\n",
            "\u001b[0;32m/usr/local/lib/python3.9/dist-packages/cvxpy/cvxcore/python/canonInterface.py\u001b[0m in \u001b[0;36mset_matrix_data\u001b[0;34m(linC, linPy)\u001b[0m\n\u001b[1;32m    467\u001b[0m                              coo.shape[1])\n\u001b[1;32m    468\u001b[0m     \u001b[0;32melse\u001b[0m\u001b[0;34m:\u001b[0m\u001b[0;34m\u001b[0m\u001b[0;34m\u001b[0m\u001b[0m\n\u001b[0;32m--> 469\u001b[0;31m         \u001b[0mlinC\u001b[0m\u001b[0;34m.\u001b[0m\u001b[0mset_dense_data\u001b[0m\u001b[0;34m(\u001b[0m\u001b[0mformat_matrix\u001b[0m\u001b[0;34m(\u001b[0m\u001b[0mlinPy\u001b[0m\u001b[0;34m.\u001b[0m\u001b[0mdata\u001b[0m\u001b[0;34m,\u001b[0m \u001b[0mshape\u001b[0m\u001b[0;34m=\u001b[0m\u001b[0mlinPy\u001b[0m\u001b[0;34m.\u001b[0m\u001b[0mshape\u001b[0m\u001b[0;34m)\u001b[0m\u001b[0;34m)\u001b[0m\u001b[0;34m\u001b[0m\u001b[0;34m\u001b[0m\u001b[0m\n\u001b[0m\u001b[1;32m    470\u001b[0m         \u001b[0mlinC\u001b[0m\u001b[0;34m.\u001b[0m\u001b[0mset_data_ndim\u001b[0m\u001b[0;34m(\u001b[0m\u001b[0mlen\u001b[0m\u001b[0;34m(\u001b[0m\u001b[0mlinPy\u001b[0m\u001b[0;34m.\u001b[0m\u001b[0mdata\u001b[0m\u001b[0;34m.\u001b[0m\u001b[0mshape\u001b[0m\u001b[0;34m)\u001b[0m\u001b[0;34m)\u001b[0m\u001b[0;34m\u001b[0m\u001b[0;34m\u001b[0m\u001b[0m\n\u001b[1;32m    471\u001b[0m \u001b[0;34m\u001b[0m\u001b[0m\n",
            "\u001b[0;32m/usr/local/lib/python3.9/dist-packages/cvxpy/cvxcore/python/cvxcore.py\u001b[0m in \u001b[0;36mset_dense_data\u001b[0;34m(self, matrix)\u001b[0m\n\u001b[1;32m    201\u001b[0m \u001b[0;34m\u001b[0m\u001b[0m\n\u001b[1;32m    202\u001b[0m     \u001b[0;32mdef\u001b[0m \u001b[0mset_dense_data\u001b[0m\u001b[0;34m(\u001b[0m\u001b[0mself\u001b[0m\u001b[0;34m,\u001b[0m \u001b[0mmatrix\u001b[0m\u001b[0;34m:\u001b[0m \u001b[0;34m\"double *\"\u001b[0m\u001b[0;34m)\u001b[0m \u001b[0;34m->\u001b[0m \u001b[0;34m\"void\"\u001b[0m\u001b[0;34m:\u001b[0m\u001b[0;34m\u001b[0m\u001b[0;34m\u001b[0m\u001b[0m\n\u001b[0;32m--> 203\u001b[0;31m         \u001b[0;32mreturn\u001b[0m \u001b[0m_cvxcore\u001b[0m\u001b[0;34m.\u001b[0m\u001b[0mLinOp_set_dense_data\u001b[0m\u001b[0;34m(\u001b[0m\u001b[0mself\u001b[0m\u001b[0;34m,\u001b[0m \u001b[0mmatrix\u001b[0m\u001b[0;34m)\u001b[0m\u001b[0;34m\u001b[0m\u001b[0;34m\u001b[0m\u001b[0m\n\u001b[0m\u001b[1;32m    204\u001b[0m \u001b[0;34m\u001b[0m\u001b[0m\n\u001b[1;32m    205\u001b[0m     \u001b[0;32mdef\u001b[0m \u001b[0mset_sparse_data\u001b[0m\u001b[0;34m(\u001b[0m\u001b[0mself\u001b[0m\u001b[0;34m,\u001b[0m \u001b[0mdata\u001b[0m\u001b[0;34m:\u001b[0m \u001b[0;34m\"double *\"\u001b[0m\u001b[0;34m,\u001b[0m \u001b[0mrow_idxs\u001b[0m\u001b[0;34m:\u001b[0m \u001b[0;34m\"double *\"\u001b[0m\u001b[0;34m,\u001b[0m \u001b[0mcol_idxs\u001b[0m\u001b[0;34m:\u001b[0m \u001b[0;34m\"double *\"\u001b[0m\u001b[0;34m,\u001b[0m \u001b[0mrows\u001b[0m\u001b[0;34m:\u001b[0m \u001b[0;34m\"int\"\u001b[0m\u001b[0;34m,\u001b[0m \u001b[0mcols\u001b[0m\u001b[0;34m:\u001b[0m \u001b[0;34m\"int\"\u001b[0m\u001b[0;34m)\u001b[0m \u001b[0;34m->\u001b[0m \u001b[0;34m\"void\"\u001b[0m\u001b[0;34m:\u001b[0m\u001b[0;34m\u001b[0m\u001b[0;34m\u001b[0m\u001b[0m\n",
            "\u001b[0;31mKeyboardInterrupt\u001b[0m: "
          ]
        }
      ],
      "source": [
        "P,x,r = aciton_history_dependent_learning(A, pi, b, 10000)"
      ]
    },
    {
      "cell_type": "code",
      "execution_count": null,
      "metadata": {
        "id": "b8myfklGgUEO"
      },
      "outputs": [],
      "source": [
        "print(f'Dual price: {P.T[0,:]} \\n')\n",
        "print(f'Allocation: {x.T[0,:]} \\n')\n",
        "print(f'Revenue: {r} \\n')\n",
        "print(f'Ratio: {r/opv1} \\n')"
      ]
    },
    {
      "cell_type": "code",
      "execution_count": null,
      "metadata": {
        "id": "q2-vZlEAh-ZJ"
      },
      "outputs": [],
      "source": []
    }
  ],
  "metadata": {
    "colab": {
      "provenance": [],
      "toc_visible": true
    },
    "kernelspec": {
      "display_name": "base",
      "language": "python",
      "name": "python3"
    },
    "language_info": {
      "codemirror_mode": {
        "name": "ipython",
        "version": 3
      },
      "file_extension": ".py",
      "mimetype": "text/x-python",
      "name": "python",
      "nbconvert_exporter": "python",
      "pygments_lexer": "ipython3",
      "version": "3.9.7"
    },
    "orig_nbformat": 4
  },
  "nbformat": 4,
  "nbformat_minor": 0
}
