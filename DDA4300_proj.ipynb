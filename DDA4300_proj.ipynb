{
  "cells": [
    {
      "cell_type": "markdown",
      "source": [
        "# 0） Gererate the Data and Preparation"
      ],
      "metadata": {
        "id": "54IA_3KI1LJM"
      }
    },
    {
      "cell_type": "code",
      "source": [
        "import numpy as np\n",
        "import cvxpy as cp\n",
        "import random\n",
        "import pandas as pd\n",
        "from matplotlib import pyplot as plt\n",
        "import seaborn\n",
        "seaborn.set()"
      ],
      "metadata": {
        "id": "X-ilaGKr1vcD"
      },
      "execution_count": 33,
      "outputs": []
    },
    {
      "cell_type": "markdown",
      "source": [
        "Set the random seed for reproducibility"
      ],
      "metadata": {
        "id": "6dFMcSTx2IQV"
      }
    },
    {
      "cell_type": "code",
      "source": [
        "# for reproducibility\n",
        "random.seed(4300)\n",
        "\n",
        "n = 10000    # number of bidders\n",
        "m = 10       # type of resources\n",
        "p = np.array([float(random.randint(10,50)) for i in range(m)])      # ground truth price vector\n",
        "A = np.random.randint(0, high = 2, size = (m, n))\n",
        "\n",
        "pi = p.T@A\n",
        "for i in range(n):\n",
        "    pi[i] += random.gauss(0, 0.2)\n",
        "\n",
        "b = np.array([1000.0]*10).reshape(-1,1)\n",
        "pi = np.array(pi).reshape(-1,1)\n",
        "\n",
        "print(f'Ground Truth Price: {p}')\n",
        "print(f'The shape of A :  {A.shape}')\n",
        "print(f'The shape of pi:  {pi.shape}')\n",
        "print(f'The shape of b :  {b.shape}')\n",
        "print(f'The dtype of A :  {A.dtype}')\n",
        "print(f'The dtype of pi:  {pi.dtype}')\n",
        "print(f'The dtype of b :  {b.dtype}')                                                                                                                                                                                                                                                                                                                                                                                                                                                                                                                                       "
      ],
      "metadata": {
        "id": "8LUTBvcu1Tja",
        "colab": {
          "base_uri": "https://localhost:8080/"
        },
        "outputId": "dfac2d57-ed15-4958-c554-2bdd70167d45"
      },
      "execution_count": 236,
      "outputs": [
        {
          "output_type": "stream",
          "name": "stdout",
          "text": [
            "Ground Truth Price: [42. 40. 13. 28. 14. 45. 44. 35. 32. 49.]\n",
            "The shape of A :  (10, 10000)\n",
            "The shape of pi:  (10000, 1)\n",
            "The shape of b :  (10, 1)\n",
            "The dtype of A :  int64\n",
            "The dtype of pi:  float64\n",
            "The dtype of b :  float64\n"
          ]
        }
      ]
    },
    {
      "cell_type": "markdown",
      "metadata": {
        "id": "4J2d7F_dkoAe"
      },
      "source": [
        "# 1) One-time Online Learning (SLPM)"
      ]
    },
    {
      "cell_type": "markdown",
      "metadata": {
        "id": "ua5SShffkoAj"
      },
      "source": [
        "## Offline Learning"
      ]
    },
    {
      "cell_type": "code",
      "execution_count": 97,
      "metadata": {
        "colab": {
          "base_uri": "https://localhost:8080/"
        },
        "id": "qEeUlaYHkoAj",
        "outputId": "00450b32-ea80-43b9-9bf1-a79eaeef77f6"
      },
      "outputs": [
        {
          "output_type": "stream",
          "name": "stdout",
          "text": [
            "Optimal Solution: \n",
            "[0 1 0 ... 0 0 0]\n",
            "Optimal Value: 342578.0178830947\n"
          ]
        }
      ],
      "source": [
        "x = cp.Variable((n,1))\n",
        "objective = cp.Maximize(pi.T@x)\n",
        "constraints = [A@x <= b, x >= 0, x <= 1]\n",
        "prob = cp.Problem(objective, constraints)\n",
        "\n",
        "prob.solve()\n",
        "\n",
        "opv1 = prob.value\n",
        "x = np.where(x.value >= 0.5, 1, 0)\n",
        "\n",
        "print(f'Optimal Solution: \\n{x[:,0].T}')\n",
        "print(f'Optimal Value: {opv1}')"
      ]
    },
    {
      "cell_type": "markdown",
      "metadata": {
        "id": "NUF9NkvPkoAk"
      },
      "source": [
        "## One-time Online Learning (SLPM) Algorithm Implement and Sensitivity Analysis"
      ]
    },
    {
      "cell_type": "code",
      "source": [
        "def online_learning_SLPM(A, pi, b, n, k):\n",
        "  # solve the dual SLPM with k bidders \n",
        "  m = len(b)\n",
        "  y = cp.Variable((m+k,1))\n",
        "  A_prime = np.hstack([A[:,:k].T, np.eye(k)])\n",
        "  b_prime = np.append((k/n)*b,np.ones(k)).reshape(1,-1)\n",
        "  pi_prime = pi[:k,:]\n",
        "  objective = cp.Minimize(b_prime@y)\n",
        "  constraints = [A_prime@y >= pi_prime, y >= 0]\n",
        "  prob = cp.Problem(objective, constraints)\n",
        "  prob.solve()\n",
        "\n",
        "  # obtain the dual prices\n",
        "  P = y[:m,:].value\n",
        "  \n",
        "  # proposal of x\n",
        "  x = np.where(pi>A.T@P,1,0)\n",
        "  x[:k,:] = 0\n",
        "  # output x\n",
        "  sold = np.zeros_like(b)\n",
        "  for i in range(k,n):\n",
        "    if ((A[:,i].T*x[i,:]).reshape(-1,1) > b-sold).any():\n",
        "      x[i,:] = 0\n",
        "    else: sold += (A[:,i].T*x[i,:]).reshape(-1,1)\n",
        "\n",
        "  # ouptut the optimal revenue\n",
        "  revenue = (pi.T@x)[0,0]\n",
        "  return P, x, revenue\n"
      ],
      "metadata": {
        "id": "SaLmLctN46Qt"
      },
      "execution_count": 98,
      "outputs": []
    },
    {
      "cell_type": "code",
      "source": [
        "print('-'*25 + 'One-time Online Learning SLPM' + '-'*25 + '\\n')\n",
        "for k in [50, 100, 200]:\n",
        "  P,x,r = online_learning_SLPM(A,pi,b,10000,k)\n",
        "  print('-'*25 + f'k = {k}' + '-'*25 + '\\n')\n",
        "  print(f'Dual price: {P.T[0,:]} \\n')\n",
        "  print(f'Allocation: {x.T[0,:]} \\n')\n",
        "  print(f'Revenue: {r} \\n')\n",
        "  print(f'Ratio: {r/opv1} \\n')"
      ],
      "metadata": {
        "colab": {
          "base_uri": "https://localhost:8080/"
        },
        "id": "QchmuNGp_tba",
        "outputId": "a6a6dc06-2188-4b3b-cc01-4fe89cf8ef87"
      },
      "execution_count": 99,
      "outputs": [
        {
          "output_type": "stream",
          "name": "stdout",
          "text": [
            "-------------------------One-time Online Learning SLPM-------------------------\n",
            "\n",
            "-------------------------k = 50-------------------------\n",
            "\n",
            "Dual price: [42.09524933 40.07830557 12.91890055 28.13841729 14.12850993 44.97120076\n",
            " 44.29096608 34.75537615 31.92627561 48.83908168] \n",
            "\n",
            "Allocation: [0 0 0 ... 0 0 0] \n",
            "\n",
            "Revenue: 281924.5262591263 \n",
            "\n",
            "Ratio: 0.8229498436625712 \n",
            "\n",
            "-------------------------k = 100-------------------------\n",
            "\n",
            "Dual price: [42.02542953 40.02410356 12.97687624 28.0136053  14.0214921  45.07902658\n",
            " 44.10853032 34.9971968  31.9860877  49.02810338] \n",
            "\n",
            "Allocation: [0 0 0 ... 0 0 0] \n",
            "\n",
            "Revenue: 317777.0358779295 \n",
            "\n",
            "Ratio: 0.9276048645548862 \n",
            "\n",
            "-------------------------k = 200-------------------------\n",
            "\n",
            "Dual price: [42.06679891 39.98613229 13.0452631  27.98828437 14.06365282 44.98599629\n",
            " 44.07049988 34.99895155 32.02794355 49.06377563] \n",
            "\n",
            "Allocation: [0 0 0 ... 0 0 0] \n",
            "\n",
            "Revenue: 306509.3148007253 \n",
            "\n",
            "Ratio: 0.8947139010691635 \n",
            "\n"
          ]
        }
      ]
    },
    {
      "cell_type": "markdown",
      "source": [
        "## Comments"
      ],
      "metadata": {
        "id": "4rLCdYT311Nv"
      }
    },
    {
      "cell_type": "markdown",
      "source": [
        "As k increasing, the ratio of the generated revenue over the offline revenue increases. "
      ],
      "metadata": {
        "id": "mur_iLYx1fsn"
      }
    },
    {
      "cell_type": "markdown",
      "source": [
        "Trade-off:---------------------------------------------------------------------------"
      ],
      "metadata": {
        "id": "_uo779Mh16Ls"
      }
    },
    {
      "cell_type": "markdown",
      "source": [
        "# 2) Dynamic Learning (SLPM)"
      ],
      "metadata": {
        "id": "2SI3AOZ1fzN3"
      }
    },
    {
      "cell_type": "markdown",
      "source": [
        "## Dynamic Learning (SLPM) Algorithm Implement"
      ],
      "metadata": {
        "id": "kCRXAgxp2K31"
      }
    },
    {
      "cell_type": "code",
      "source": [
        "def dynamic_learning_SLPM(A, pi, b, n, k):\n",
        "  global x_out\n",
        "  x_out = np.zeros_like(pi)\n",
        "  kk = k\n",
        "  m = len(b)\n",
        "  print('-'*30 + 'The Track of Dual Price' + '-'*30 + '\\n')\n",
        "  while kk < n:\n",
        "    # solve the dual SLPM with kk bidders \n",
        "    y = cp.Variable((m+kk,1))\n",
        "    A_prime = np.hstack([A[:,:kk].T, np.eye(kk)])\n",
        "    b_prime = np.append((kk/n)*b,np.ones(kk)).reshape(1,-1)\n",
        "    pi_prime = pi[:kk,:]\n",
        "    objective = cp.Minimize(b_prime@y)\n",
        "    constraints = [A_prime@y >= pi_prime, y >= 0]\n",
        "    prob = cp.Problem(objective, constraints)\n",
        "    prob.solve()\n",
        "\n",
        "    # obtain the dual prices\n",
        "    P = y[:m,:].value\n",
        "    print('-'*25 + f'k = {kk}', '-'*25 + '\\n')\n",
        "    print(f'Dual price: {P.T[0,:]}\\n')\n",
        "\n",
        "    # proposal of x\n",
        "    x = np.where(pi>A.T@P,1,0)\n",
        "    x[:kk,:] = x_out[:kk,:]\n",
        "\n",
        "    # update x\n",
        "    sold = A[:,:kk]@x_out[:kk,:]\n",
        "    for i in range(kk,min(2*kk, n)):\n",
        "      if ((A[:,i].T*x[i,:]).reshape(-1,1) > b-sold).any():\n",
        "        x[i,:] = 0\n",
        "      else: sold += (A[:,i].T*x[i,:]).reshape(-1,1)\n",
        "    \n",
        "    # update x_out\n",
        "    x_out[kk:min(2*kk, n),:] = x[kk:min(2*kk, n),:]\n",
        "\n",
        "    # update kk\n",
        "    kk += kk\n",
        "  \n",
        "  # ouptut the optimal revenue\n",
        "  revenue = (pi.T@x_out)[0,0]\n",
        "  print('-'*40 + 'END' + '-'*40)\n",
        "  return P, x_out, revenue"
      ],
      "metadata": {
        "id": "JA5hSrEQoqcR"
      },
      "execution_count": 237,
      "outputs": []
    },
    {
      "cell_type": "code",
      "source": [
        "P,x,r = dynamic_learning_SLPM(A, pi, b, 10000, 50)"
      ],
      "metadata": {
        "colab": {
          "base_uri": "https://localhost:8080/"
        },
        "id": "a3zGniHZtwQm",
        "outputId": "725ecb07-52d4-4762-ec44-6189ad3d09e5"
      },
      "execution_count": 238,
      "outputs": [
        {
          "output_type": "stream",
          "name": "stdout",
          "text": [
            "------------------------------The Track of Dual Price------------------------------\n",
            "\n",
            "-------------------------k = 50 -------------------------\n",
            "\n",
            "Dual price: [41.92470215 39.93611369 13.09183905 28.03852328 13.99035868 45.03170535\n",
            " 44.01460259 35.09950145 32.07536296 48.9852754 ]\n",
            "\n",
            "-------------------------k = 100 -------------------------\n",
            "\n",
            "Dual price: [41.95153609 39.98734707 13.13385514 28.04136026 13.95122006 45.03314122\n",
            " 43.96470978 35.09612411 32.02607105 49.07449758]\n",
            "\n",
            "-------------------------k = 200 -------------------------\n",
            "\n",
            "Dual price: [41.98581702 40.07091166 13.04621869 28.03355083 13.98906852 45.00992688\n",
            " 44.00239452 35.05057191 32.05004197 49.05893684]\n",
            "\n",
            "-------------------------k = 400 -------------------------\n",
            "\n",
            "Dual price: [42.04300156 40.05546711 13.03985182 28.05187972 14.02526828 45.0540577\n",
            " 43.9819837  35.04163749 32.00933121 49.02082852]\n",
            "\n",
            "-------------------------k = 800 -------------------------\n",
            "\n",
            "Dual price: [42.02744793 40.03691966 13.03373219 28.08422506 14.00911624 45.06360491\n",
            " 43.99585402 35.02189113 32.03842341 49.01740094]\n",
            "\n",
            "-------------------------k = 1600 -------------------------\n",
            "\n",
            "Dual price: [42.04139554 40.03913675 13.03817835 28.07185208 14.01748468 45.03051758\n",
            " 43.99937945 35.04905858 32.02276985 49.01797263]\n",
            "\n",
            "-------------------------k = 3200 -------------------------\n",
            "\n",
            "Dual price: [42.03132354 40.0422656  13.03167342 28.05559146 14.01898579 45.03638727\n",
            " 44.00173595 35.03774223 32.02908341 49.02635149]\n",
            "\n",
            "-------------------------k = 6400 -------------------------\n",
            "\n",
            "Dual price: [42.03257378 40.03448651 13.02197293 28.04838184 14.0279296  45.03120455\n",
            " 44.02360368 35.03773103 32.02681347 49.02924428]\n",
            "\n",
            "----------------------------------------END----------------------------------------\n"
          ]
        }
      ]
    },
    {
      "cell_type": "code",
      "source": [
        "# groud truth dual price\n",
        "y = cp.Variable((m+n,1))\n",
        "A_prime = np.hstack([A.T, np.eye(n)])\n",
        "b_prime = np.append(b,np.ones(n)).reshape(1,-1)\n",
        "pi_prime = pi\n",
        "objective = cp.Minimize(b_prime@y)\n",
        "constraints = [A_prime@y >= pi_prime, y >= 0]\n",
        "prob = cp.Problem(objective, constraints)\n",
        "prob.solve()\n",
        "print(f'The optimal revenue: {prob.value}')\n",
        "print(f'The ground truth dual price: \\n{y.value[:10,:].T[0,:]}')"
      ],
      "metadata": {
        "colab": {
          "base_uri": "https://localhost:8080/"
        },
        "id": "2qpkOP2V2bHo",
        "outputId": "07a6b143-31ed-4a55-bf9f-8289d490a47a"
      },
      "execution_count": 239,
      "outputs": [
        {
          "output_type": "stream",
          "name": "stdout",
          "text": [
            "The optimal revenue: 342576.73361144733\n",
            "The ground truth dual price: \n",
            "[42.02968075 40.03323076 13.03043518 28.05147507 14.03079998 45.03609215\n",
            " 44.02421831 35.03256109 32.02375631 49.0269159 ]\n"
          ]
        }
      ]
    },
    {
      "cell_type": "code",
      "source": [
        "print('-'*30 + 'Dynamic Learning SCLM' + '-'*30 + '\\n')\n",
        "print(f'Dual price: {P.T[0,:]} \\n')\n",
        "print(f'Allocation: {x.T[0,:]} \\n')\n",
        "print(f'Revenue: {r} \\n')\n",
        "print(f'Ratio: {r/opv1} \\n')"
      ],
      "metadata": {
        "colab": {
          "base_uri": "https://localhost:8080/"
        },
        "id": "TPG78Aorvalb",
        "outputId": "683801d6-17b3-4524-fb9c-96ac31de3d3f"
      },
      "execution_count": 240,
      "outputs": [
        {
          "output_type": "stream",
          "name": "stdout",
          "text": [
            "------------------------------Dynamic Learning SCLM------------------------------\n",
            "\n",
            "Dual price: [42.03257378 40.03448651 13.02197293 28.04838184 14.0279296  45.03120455\n",
            " 44.02360368 35.03773103 32.02681347 49.02924428] \n",
            "\n",
            "Allocation: [0. 0. 0. ... 0. 0. 0.] \n",
            "\n",
            "Revenue: 332196.80191494554 \n",
            "\n",
            "Ratio: 0.9104691367029145 \n",
            "\n"
          ]
        }
      ]
    },
    {
      "cell_type": "markdown",
      "source": [
        "## Comments"
      ],
      "metadata": {
        "id": "aCW5x2K64Y2W"
      }
    },
    {
      "cell_type": "markdown",
      "source": [
        "--------------------------------------------------"
      ],
      "metadata": {
        "id": "2lTzSC9R4dM2"
      }
    },
    {
      "cell_type": "markdown",
      "source": [
        "# 3) Proof"
      ],
      "metadata": {
        "id": "-l9V7pY15UjK"
      }
    },
    {
      "cell_type": "markdown",
      "source": [
        "# 4) One-time Online Learning (SCPM)"
      ],
      "metadata": {
        "id": "WFS4ATan5YzQ"
      }
    },
    {
      "cell_type": "markdown",
      "source": [
        "## One-time Online Learning (SCPM) Algorithm Implement"
      ],
      "metadata": {
        "id": "Q8N-jniltizD"
      }
    },
    {
      "cell_type": "code",
      "source": [
        "!pip install SCS"
      ],
      "metadata": {
        "colab": {
          "base_uri": "https://localhost:8080/"
        },
        "id": "gzMNxRMasR0X",
        "outputId": "82fc4b65-3f8f-4ef3-b97f-ce0632e85216"
      },
      "execution_count": 107,
      "outputs": [
        {
          "output_type": "stream",
          "name": "stdout",
          "text": [
            "Looking in indexes: https://pypi.org/simple, https://us-python.pkg.dev/colab-wheels/public/simple/\n",
            "Requirement already satisfied: SCS in /usr/local/lib/python3.9/dist-packages (3.2.3)\n",
            "Requirement already satisfied: numpy>=1.7 in /usr/local/lib/python3.9/dist-packages (from SCS) (1.22.4)\n",
            "Requirement already satisfied: scipy>=0.13.2 in /usr/local/lib/python3.9/dist-packages (from SCS) (1.10.1)\n"
          ]
        }
      ]
    },
    {
      "cell_type": "code",
      "source": [
        "def online_learning_SCPM(A, pi, b, n, k, w):\n",
        "  # solve the primal SCPM with k bidders \n",
        "  m = len(b)\n",
        "  b = b.reshape(m)\n",
        "  y = cp.Variable(k)\n",
        "  s = cp.Variable(m)\n",
        "  objective = cp.Maximize(pi[:k,:].T@y + (w/m)*cp.sum(cp.log(s)))\n",
        "  constraints = [A[:,:k]@y + s <= (k/n)*b, y >= 0, y <= 1]\n",
        "  prob = cp.Problem(objective, constraints)\n",
        "  prob.solve(cp.SCS)\n",
        "\n",
        "  # obtain the dual prices\n",
        "  P = prob.constraints[0].dual_value.reshape(-1,1)\n",
        "  \n",
        "  # proposal of x\n",
        "  x = np.where(pi>A.T@P,1,0)\n",
        "  x[:k,:] = 0\n",
        "\n",
        "  # output x\n",
        "  b = b.reshape(-1,1)\n",
        "  sold = np.zeros_like(b)\n",
        "  for i in range(k,n):\n",
        "    if ((A[:,i].T*x[i,:]).reshape(-1,1) > b-sold).any():\n",
        "      x[i,:] = 0\n",
        "    else: sold += (A[:,i].T*x[i,:]).reshape(-1,1)\n",
        "\n",
        "  # ouptut the optimal revenue\n",
        "  revenue = (pi.T@x)[0,0]\n",
        "  return P, x, revenue\n"
      ],
      "metadata": {
        "id": "fzPde5KiDVAE"
      },
      "execution_count": 108,
      "outputs": []
    },
    {
      "cell_type": "code",
      "source": [
        "print('-'*25 + 'One-time Online Learning SCPM' + '-'*25 + '\\n')\n",
        "for k in [50, 100, 200]:\n",
        "  P,x,r = online_learning_SCPM(A,pi,b,10000,k,1)\n",
        "  print('-'*25 + f'k = {k}' + '-'*25 + '\\n')\n",
        "  print(f'Dual price: {P.T[0,:]} \\n')\n",
        "  print(f'Allocation: {x.T[0,:]} \\n')\n",
        "  print(f'Revenue: {r} \\n')\n",
        "  print(f'Ratio: {r/opv1} \\n')"
      ],
      "metadata": {
        "colab": {
          "base_uri": "https://localhost:8080/"
        },
        "id": "nRHGNmn2rIpD",
        "outputId": "0c1f0221-c1b4-43fa-be2c-bd43cd8753b3"
      },
      "execution_count": 109,
      "outputs": [
        {
          "output_type": "stream",
          "name": "stdout",
          "text": [
            "-------------------------One-time Online Learning SCPM-------------------------\n",
            "\n",
            "-------------------------k = 50-------------------------\n",
            "\n",
            "Dual price: [42.06770631 40.10714237 12.92484833 28.13697838 14.15863824 44.97028194\n",
            " 44.28784445 34.75320574 31.92694416 48.83793752] \n",
            "\n",
            "Allocation: [0 0 0 ... 0 0 0] \n",
            "\n",
            "Revenue: 279662.73057159677 \n",
            "\n",
            "Ratio: 0.8163475645627447 \n",
            "\n",
            "-------------------------k = 100-------------------------\n",
            "\n",
            "Dual price: [42.02434697 40.02468626 12.9844493  28.01795766 14.02081891 45.08097233\n",
            " 44.11135886 34.99078378 31.98000138 49.02827477] \n",
            "\n",
            "Allocation: [0 0 0 ... 0 0 0] \n",
            "\n",
            "Revenue: 317256.40167255903 \n",
            "\n",
            "Ratio: 0.9260851108690321 \n",
            "\n",
            "-------------------------k = 200-------------------------\n",
            "\n",
            "Dual price: [42.06159088 39.99277259 13.04380863 27.98956097 14.0628219  44.98753668\n",
            " 44.07110124 34.9985111  32.02804375 49.06328834] \n",
            "\n",
            "Allocation: [0 0 0 ... 0 0 0] \n",
            "\n",
            "Revenue: 309527.8667653154 \n",
            "\n",
            "Ratio: 0.9035251843594421 \n",
            "\n"
          ]
        }
      ]
    },
    {
      "cell_type": "markdown",
      "source": [
        "## Comments"
      ],
      "metadata": {
        "id": "qZpowxkgtmoX"
      }
    },
    {
      "cell_type": "markdown",
      "source": [
        "# 5) Dynamic Learning (SCPM)"
      ],
      "metadata": {
        "id": "H5gMGEsctqa9"
      }
    },
    {
      "cell_type": "markdown",
      "source": [
        "## Dynamic Learning (SCPM) Algorithm Implement"
      ],
      "metadata": {
        "id": "NNFJNsY8t5dF"
      }
    },
    {
      "cell_type": "code",
      "source": [
        "def dynamic_learning_SCPM(A, pi, b, n, k, w):\n",
        "  global x_out\n",
        "  x_out = np.zeros_like(pi)\n",
        "  kk = k\n",
        "  m = len(b)\n",
        "  print('-'*30 + 'The Track of Dual Price' + '-'*30 + '\\n')\n",
        "  while kk < n:\n",
        "    # solve the primal SCPM with k bidders \n",
        "    b = b.reshape(m)\n",
        "    y = cp.Variable(kk)\n",
        "    s = cp.Variable(m)\n",
        "    objective = cp.Maximize(pi[:kk,:].T@y + (w/m)*cp.sum(cp.log(s)))\n",
        "    constraints = [A[:,:kk]@y + s <= (kk/n)*b, y >= 0, y <= 1]\n",
        "    prob = cp.Problem(objective, constraints)\n",
        "    prob.solve(cp.SCS)\n",
        "\n",
        "    # obtain the dual prices\n",
        "    P = prob.constraints[0].dual_value.reshape(-1,1)\n",
        "    print('-'*25 + f'k = {kk}', '-'*25 + '\\n')\n",
        "    print(f'Dual price: {P.T[0,:]}\\n')\n",
        "\n",
        "    # proposal of x\n",
        "    x = np.where(pi>A.T@P,1,0)\n",
        "    x[:kk,:] = x_out[:kk,:]\n",
        "    \n",
        "    # update x\n",
        "    b = b.reshape(-1,1)\n",
        "    sold = A[:,:kk]@x_out[:kk,:]\n",
        "    for i in range(kk,min(2*kk, n)):\n",
        "      if ((A[:,i].T*x[i,:]).reshape(-1,1) > b-sold).any():\n",
        "        x[i,:] = 0\n",
        "      else: sold += (A[:,i].T*x[i,:]).reshape(-1,1)\n",
        "    \n",
        "    # update x_out\n",
        "    x_out[kk:min(2*kk, n),:] = x[kk:min(2*kk, n),:]\n",
        "\n",
        "    # update kk\n",
        "    kk += kk\n",
        "  \n",
        "  # ouptut the optimal revenue\n",
        "  revenue = (pi.T@x_out)[0,0]\n",
        "  print('-'*40 + 'END' + '-'*40)\n",
        "  return P, x_out, revenue"
      ],
      "metadata": {
        "id": "bacqlvr0t1Qb"
      },
      "execution_count": 110,
      "outputs": []
    },
    {
      "cell_type": "code",
      "source": [
        "P,x,r = dynamic_learning_SCPM(A, pi, b, 10000, 50, 1)"
      ],
      "metadata": {
        "colab": {
          "base_uri": "https://localhost:8080/"
        },
        "id": "v1T6aGaAupTN",
        "outputId": "7645e802-3968-48f0-f7b9-73332b47b448"
      },
      "execution_count": 111,
      "outputs": [
        {
          "output_type": "stream",
          "name": "stdout",
          "text": [
            "------------------------------The Track of Dual Price------------------------------\n",
            "\n",
            "-------------------------k = 50 -------------------------\n",
            "\n",
            "Dual price: [42.06770631 40.10714237 12.92484833 28.13697838 14.15863824 44.97028194\n",
            " 44.28784445 34.75320574 31.92694416 48.83793752]\n",
            "\n",
            "-------------------------k = 100 -------------------------\n",
            "\n",
            "Dual price: [42.02434697 40.02468626 12.9844493  28.01795766 14.02081891 45.08097233\n",
            " 44.11135886 34.99078378 31.98000138 49.02827477]\n",
            "\n",
            "-------------------------k = 200 -------------------------\n",
            "\n",
            "Dual price: [42.06159088 39.99277259 13.04380863 27.98956097 14.0628219  44.98753668\n",
            " 44.07110124 34.9985111  32.02804375 49.06328834]\n",
            "\n",
            "-------------------------k = 400 -------------------------\n",
            "\n",
            "Dual price: [42.01838815 39.96858886 13.03110248 28.03886347 14.07715188 45.00940824\n",
            " 44.08207999 35.02531801 32.00801841 49.04628453]\n",
            "\n",
            "-------------------------k = 800 -------------------------\n",
            "\n",
            "Dual price: [42.02994343 40.00120455 13.02055544 28.03029639 14.05309548 45.05084878\n",
            " 44.06578499 35.01317755 32.03560475 49.03242081]\n",
            "\n",
            "-------------------------k = 1600 -------------------------\n",
            "\n",
            "Dual price: [42.04563212 40.00157791 13.03499845 28.0504395  14.03664788 45.0371811\n",
            " 44.03912957 35.02348246 32.02862847 49.0378833 ]\n",
            "\n",
            "-------------------------k = 3200 -------------------------\n",
            "\n",
            "Dual price: [42.03577005 40.01551555 13.03836522 28.04184099 14.03165614 45.03723784\n",
            " 44.03475834 35.02036222 32.02827086 49.03836307]\n",
            "\n",
            "-------------------------k = 6400 -------------------------\n",
            "\n",
            "Dual price: [42.0298827  40.02679994 13.0273968  28.03990943 14.02725631 45.03221061\n",
            " 44.03203465 35.01947016 32.03856441 49.04343053]\n",
            "\n",
            "----------------------------------------END----------------------------------------\n"
          ]
        }
      ]
    },
    {
      "cell_type": "code",
      "source": [
        "# groud truth dual price\n",
        "w = 1\n",
        "b = b.reshape(m)\n",
        "y = cp.Variable(n)\n",
        "s = cp.Variable(m)\n",
        "objective = cp.Maximize(pi[:,:].T@y + (w/m)*cp.sum(cp.log(s)))\n",
        "constraints = [A@y + s <= b, y >= 0, y <= 1]\n",
        "prob = cp.Problem(objective, constraints)\n",
        "prob.solve(cp.SCS)\n",
        "b = b.reshape(-1,1)\n",
        "print(f'The optimal revenue: {prob.value}')\n",
        "print(f'The ground truth dual price: \\n{prob.constraints[0].dual_value}')"
      ],
      "metadata": {
        "colab": {
          "base_uri": "https://localhost:8080/"
        },
        "id": "wmH7VRbPxcVL",
        "outputId": "0ce36f36-201d-4b5c-9b37-08ac36d2c834"
      },
      "execution_count": 112,
      "outputs": [
        {
          "output_type": "stream",
          "name": "stdout",
          "text": [
            "The optimal revenue: 342571.2648508994\n",
            "The ground truth dual price: \n",
            "[42.03118605 40.02613658 13.02447837 28.03943959 14.03186248 45.03076422\n",
            " 44.02694688 35.02879459 32.03610367 49.0415067 ]\n"
          ]
        }
      ]
    },
    {
      "cell_type": "code",
      "source": [
        "print('-'*30 + 'Dynamic Learning SCPM' + '-'*30 + '\\n')\n",
        "print(f'Dual price: {P.T[0,:]} \\n')\n",
        "print(f'Allocation: {x.T[0,:]} \\n')\n",
        "print(f'Revenue: {r} \\n')\n",
        "print(f'Ratio: {r/opv1} \\n')"
      ],
      "metadata": {
        "colab": {
          "base_uri": "https://localhost:8080/"
        },
        "id": "M7q0SuT0xNz2",
        "outputId": "7fedfe23-b19e-420e-c9b3-ded0eb398dd7"
      },
      "execution_count": 113,
      "outputs": [
        {
          "output_type": "stream",
          "name": "stdout",
          "text": [
            "------------------------------Dynamic Learning SCPM------------------------------\n",
            "\n",
            "Dual price: [42.0298827  40.02679994 13.0273968  28.03990943 14.02725631 45.03221061\n",
            " 44.03203465 35.01947016 32.03856441 49.04343053] \n",
            "\n",
            "Allocation: [0. 0. 0. ... 0. 0. 0.] \n",
            "\n",
            "Revenue: 332787.48511808814 \n",
            "\n",
            "Ratio: 0.971421012867359 \n",
            "\n"
          ]
        }
      ]
    },
    {
      "cell_type": "markdown",
      "source": [
        "## Comments"
      ],
      "metadata": {
        "id": "_KmnvwNCt643"
      }
    },
    {
      "cell_type": "markdown",
      "source": [
        "--------------------------------------"
      ],
      "metadata": {
        "id": "MsCqCuY1ywjB"
      }
    },
    {
      "cell_type": "markdown",
      "metadata": {
        "id": "WJ_7kcGDkoAp"
      },
      "source": [
        "# 6) Action-history-dependent Learning Algorithm"
      ]
    },
    {
      "cell_type": "code",
      "source": [
        "def aciton_history_dependent_learning(A, pi, b, n):\n",
        "  # initialization\n",
        "  bb = b\n",
        "  P = np.zeros_like(b)\n",
        "  x = np.zeros_like(pi)\n",
        "  m = len(b)\n",
        "  for k in range(n):\n",
        "    # update allocation and remaining resource each iteration\n",
        "    if pi[k,0] > (A[:,k]@P)[0] and (A[:,k].reshape(-1,1) <= bb).all():\n",
        "      # determine the value of x at time point k\n",
        "      x[k,:] = 1 \n",
        "      # update the remaining resource bb\n",
        "      bb = bb - A[:,k].reshape(-1,1)\n",
        "    else: x[k,:] = 0\n",
        "    \n",
        "    # exit the loop\n",
        "    if k == n-1: break\n",
        "\n",
        "    # solve the dual SLPM with k bidders observed \n",
        "    y = cp.Variable((m+k+1,1))\n",
        "    A_prime = np.hstack([A[:,:k+1].T, np.eye(k+1)])\n",
        "    b_prime = np.append(((k+1)/(n-k-1))*bb,np.ones(k+1)).reshape(1,-1)\n",
        "    pi_prime = pi[:k+1,:]\n",
        "    objective = cp.Minimize(b_prime@y)\n",
        "    constraints = [A_prime@y >= pi_prime, y >= 0]\n",
        "    prob = cp.Problem(objective, constraints)\n",
        "    prob.solve()\n",
        "\n",
        "    # update the dual prices\n",
        "    P = y[:m,:].value\n",
        "\n",
        "    # keep track of the program\n",
        "    if k%1000 == 0:\n",
        "      print('-'*30 + f'k = {k}' + '-'*30)\n",
        "      print(f'current remaining goods: {bb.T}')\n",
        "      print(f'current dual price: {P.T}')\n",
        "      print(f'current allocated number: {int(np.sum(x))}')\n",
        "\n",
        "  # ouptut the optimal revenue\n",
        "  revenue = (pi.T@x)[0,0]\n",
        "  return P, x, revenue\n"
      ],
      "metadata": {
        "id": "kPYj0hCkzwcL"
      },
      "execution_count": null,
      "outputs": []
    },
    {
      "cell_type": "code",
      "source": [
        "P,x,r = aciton_history_dependent_learning(A, pi, b, 10000)"
      ],
      "metadata": {
        "colab": {
          "base_uri": "https://localhost:8080/"
        },
        "id": "RSyYhOjP4Zki",
        "outputId": "fe750acd-e9cd-49f5-da7e-5bf6acd850c3"
      },
      "execution_count": null,
      "outputs": [
        {
          "metadata": {
            "tags": null
          },
          "name": "stdout",
          "output_type": "stream",
          "text": [
            "------------------------------k = 0------------------------------\n",
            "current remaining goods: [[ 999 1000  999  999 1000  999  999  999 1000 1000]]\n",
            "current dual price: [[2.81621214e+01 7.17660165e-09 2.81621214e+01 2.81621214e+01\n",
            "  7.17660165e-09 2.81621214e+01 2.81621214e+01 2.81621214e+01\n",
            "  7.17660165e-09 7.17660165e-09]]\n",
            "current allocated number: 1\n",
            "------------------------------k = 1000------------------------------\n",
            "current remaining goods: [[886 885 885 896 889 880 892 888 886 891]]\n",
            "current dual price: [[44.08902159 35.07693621 14.10157764 49.05961068 25.08402291 26.06919854\n",
            "  10.11546797 25.05775621 13.94293721 39.13464773]]\n",
            "current allocated number: 245\n",
            "------------------------------k = 2000------------------------------\n",
            "current remaining goods: [[781 795 800 802 796 790 805 789 776 803]]\n",
            "current dual price: [[44.12160125 35.0559864  14.06601746 49.05462079 25.06934173 26.06791338\n",
            "  10.08272049 25.08168653 14.04554555 39.06314697]]\n",
            "current allocated number: 460\n",
            "------------------------------k = 3000------------------------------\n",
            "current remaining goods: [[691 698 708 703 703 699 714 687 680 706]]\n",
            "current dual price: [[44.11488338 35.04647352 14.04669439 49.06456545 25.06694257 26.05263255\n",
            "  10.06467686 25.11724035 14.06933425 39.04456286]]\n",
            "current allocated number: 663\n",
            "------------------------------k = 4000------------------------------\n",
            "current remaining goods: [[586 589 604 607 599 595 613 602 573 597]]\n",
            "current dual price: [[44.11286486 35.08091116 14.05040699 49.05699981 25.06262835 26.06350387\n",
            "  10.05483553 25.07357567 14.08840263 39.05237635]]\n",
            "current allocated number: 882\n",
            "------------------------------k = 5000------------------------------\n",
            "current remaining goods: [[489 494 507 505 497 490 516 503 481 502]]\n",
            "current dual price: [[44.12158336 35.06462444 14.04255165 49.05717415 25.0755474  26.08514758\n",
            "  10.04896913 25.06997931 14.08550967 39.0411217 ]]\n",
            "current allocated number: 1105\n",
            "------------------------------k = 6000------------------------------\n",
            "current remaining goods: [[392 380 402 404 390 382 416 393 378 390]]\n",
            "current dual price: [[44.09476288 35.08789675 14.04370105 49.04173022 25.08114871 26.09134943\n",
            "  10.02737409 25.08055496 14.09243566 39.06545777]]\n",
            "current allocated number: 1336\n",
            "------------------------------k = 7000------------------------------\n",
            "current remaining goods: [[287 293 298 295 281 275 309 292 273 282]]\n",
            "current dual price: [[44.09575067 35.04817359 14.03522853 49.05180655 25.0961513  26.11552734\n",
            "  10.01170171 25.07169005 14.11216877 39.08333838]]\n",
            "current allocated number: 1565\n",
            "------------------------------k = 8000------------------------------\n",
            "current remaining goods: [[195 195 197 204 190 190 216 203 194 196]]\n",
            "current dual price: [[44.10381007 35.06773755 14.06122431 49.04097694 25.1102601  26.10438255\n",
            "   9.99444605 25.06226879 14.08800997 39.06889973]]\n",
            "current allocated number: 1770\n",
            "------------------------------k = 9000------------------------------\n",
            "current remaining goods: [[ 87  90  91  95 101  98 101  99  92  94]]\n",
            "current dual price: [[44.15493699 35.09774146 14.09126214 49.06600848 25.04177759 26.05457034\n",
            "  10.02356549 25.04589508 14.0857125  39.07332933]]\n",
            "current allocated number: 1993\n"
          ]
        }
      ]
    },
    {
      "cell_type": "code",
      "source": [
        "print(f'Dual price: {P.T[0,:]} \\n')\n",
        "print(f'Allocation: {x.T[0,:]} \\n')\n",
        "print(f'Revenue: {r} \\n')\n",
        "print(f'Ratio: {r/opv1} \\n')"
      ],
      "metadata": {
        "id": "b8myfklGgUEO",
        "colab": {
          "base_uri": "https://localhost:8080/"
        },
        "outputId": "d1b5131f-626c-4740-b89f-98960841debd"
      },
      "execution_count": null,
      "outputs": [
        {
          "output_type": "stream",
          "name": "stdout",
          "text": [
            "Dual price: [-7.52614192e-12  2.07950030e+02  5.18685355e-09 -1.46000226e-09\n",
            " -1.33127880e-09  6.64775919e-09  1.82535329e+02  1.98449259e+02\n",
            "  2.91051566e-10  2.12017821e+02] \n",
            "\n",
            "Allocation: [1. 1. 0. ... 0. 0. 0.] \n",
            "\n",
            "Revenue: 281827.81100056745 \n",
            "\n",
            "Ratio: 0.9984331904608402 \n",
            "\n"
          ]
        }
      ]
    },
    {
      "cell_type": "markdown",
      "source": [
        "# 7) Proof"
      ],
      "metadata": {
        "id": "FrDndKK7Qtng"
      }
    },
    {
      "cell_type": "markdown",
      "source": [
        "# 8) Dynamic Online Learning with SGD"
      ],
      "metadata": {
        "id": "pWiWdJHaQwVv"
      }
    },
    {
      "cell_type": "code",
      "source": [
        "#initialization\n",
        "A = pd.read_csv(\"A.csv\")\n",
        "pi = pd.read_csv(\"pi.csv\")\n",
        "A = np.array(A)\n",
        "pi  = np.array(pi)\n",
        "pi = pi.T\n",
        "print(pi.shape)\n",
        "n = 10000\n",
        "m = 10\n",
        "b_i = 1000\n",
        "k = 50\n",
        "b = np.array([1000 for _ in range(m)])  \n",
        "\n",
        "x = cp.Variable(k)\n",
        "s = cp.Variable(m)\n"
      ],
      "metadata": {
        "colab": {
          "base_uri": "https://localhost:8080/"
        },
        "id": "quJTk2UlTmLr",
        "outputId": "954834eb-a65c-4779-fe8b-34c8ba86fc8a"
      },
      "execution_count": null,
      "outputs": [
        {
          "output_type": "stream",
          "name": "stdout",
          "text": [
            "(1, 10000)\n"
          ]
        }
      ]
    },
    {
      "cell_type": "code",
      "source": [
        "print(A.shape)\n",
        "print(b.shape)\n",
        "print(pi.shape)"
      ],
      "metadata": {
        "id": "roPk6uuiUPt3",
        "outputId": "c09152ae-d25e-4461-91fe-07d80c82908f",
        "colab": {
          "base_uri": "https://localhost:8080/"
        }
      },
      "execution_count": null,
      "outputs": [
        {
          "output_type": "stream",
          "name": "stdout",
          "text": [
            "(10, 10000)\n",
            "(10,)\n",
            "(1, 10000)\n"
          ]
        }
      ]
    },
    {
      "cell_type": "code",
      "source": [
        "l_decision = []\n",
        "b_k = b.copy()\n",
        "d = b/n\n",
        "rev = 0.0\n",
        "price = np.array([0.0 for _ in range(m)])\n",
        "for k in range(0,n):\n",
        "    # Decide whether to accept (k)th request and the remaining resource\n",
        "    if pi[0][k] > A[:,k].dot(price) and np.min(b_k - A[:,k]) >= 0:\n",
        "        x = 1\n",
        "        b_k -=  A[:,k]\n",
        "    else:\n",
        "        x = 0\n",
        "    l_decision.append(x)\n",
        "    rev += x*pi[0][k]\n",
        "    # update price first\n",
        "    grad = d - A[:,k]*np.heaviside((pi[0][k]-np.dot(A[:,k],price)),0.)\n",
        "    price = np.maximum(price - grad/np.sqrt(k+1), 0.)"
      ],
      "metadata": {
        "id": "bd__9E6HTH96"
      },
      "execution_count": null,
      "outputs": []
    },
    {
      "cell_type": "code",
      "source": [
        "x = cp.Variable(n)\n",
        "ee = np.ones(n)\n",
        "objective = cp.Maximize(pi@x)\n",
        "constraints = [A@x <= b, x >= 0, x <= ee]\n",
        "prob = cp.Problem(objective, constraints)\n",
        "\n",
        "prob.solve()\n",
        "x.value\n",
        "opv1 = prob.value\n",
        "print(opv1)"
      ],
      "metadata": {
        "colab": {
          "base_uri": "https://localhost:8080/"
        },
        "id": "7luVwOijTVs0",
        "outputId": "2d1204b5-18cc-435c-9c14-cf033931472a"
      },
      "execution_count": null,
      "outputs": [
        {
          "output_type": "stream",
          "name": "stdout",
          "text": [
            "282270.0744458285\n"
          ]
        }
      ]
    },
    {
      "cell_type": "code",
      "source": [
        "opv2 = rev\n",
        "print(\"optimal value:\", opv2)\n",
        "print(\"competetive ratio\", opv2/opv1)\n"
      ],
      "metadata": {
        "colab": {
          "base_uri": "https://localhost:8080/"
        },
        "id": "6XuNK27mTZdd",
        "outputId": "aebee462-451a-40c1-8eb6-7439afe29a92"
      },
      "execution_count": null,
      "outputs": [
        {
          "output_type": "stream",
          "name": "stdout",
          "text": [
            "optimal value: 256570.91785383492\n",
            "competetive ratio 0.9089554334002714\n"
          ]
        }
      ]
    },
    {
      "cell_type": "markdown",
      "source": [
        "# 9) More General Setting"
      ],
      "metadata": {
        "id": "0Tl3qBOfRCj9"
      }
    },
    {
      "cell_type": "markdown",
      "source": [
        "## Generate Dependent Data"
      ],
      "metadata": {
        "id": "NZIp557PKCM_"
      }
    },
    {
      "cell_type": "code",
      "source": [
        "# dependent data: Brownian Motion\n",
        "class Brownian():\n",
        "  def __init__(self, x0=0, alpha=5):\n",
        "    self.x0 = float(x0)\n",
        "    self.alpha = float(alpha)\n",
        "\n",
        "  def gen_random_walk(self, n):\n",
        "    w = np.ones(n)*self.x0\n",
        "    for i in range(1, n):\n",
        "      if w[i-1] > self.x0/10:\n",
        "        w[i] = w[i-1] + (self.alpha*np.random.choice([-1,1])/np.sqrt(n))\n",
        "      else: w[i] = self.x0/10 + np.abs(self.alpha*np.random.choice([-1,1])/np.sqrt(n))\n",
        "    return w\n",
        "\n",
        "  def gen_normal(self, n):\n",
        "    w = np.ones(n)*self.x0\n",
        "    for i in range(1, n):\n",
        "      if w[i-1] > self.x0/10:\n",
        "        w[i] = w[i-1] + (self.alpha*np.random.normal()/np.sqrt(n))\n",
        "      else: w[i] = self.x0/10 + np.abs(self.alpha*np.random.normal()/np.sqrt(n))\n",
        "    return w"
      ],
      "metadata": {
        "id": "opprRKmyIYBD"
      },
      "execution_count": 254,
      "outputs": []
    },
    {
      "cell_type": "code",
      "source": [
        "print(f'Ground Truth Price: {p}')"
      ],
      "metadata": {
        "colab": {
          "base_uri": "https://localhost:8080/"
        },
        "id": "X9Wv9HhDbObD",
        "outputId": "5cfe43d9-ad78-460d-f137-7416d8a7efa8"
      },
      "execution_count": 255,
      "outputs": [
        {
          "output_type": "stream",
          "name": "stdout",
          "text": [
            "Ground Truth Price: [42. 40. 13. 28. 14. 45. 44. 35. 32. 49.]\n"
          ]
        }
      ]
    },
    {
      "cell_type": "code",
      "source": [
        "# let ground truth price p be a Brownian Montion\n",
        "np.random.seed(0)\n",
        "P = np.zeros((n,m))\n",
        "fig, ax = plt.subplots(figsize=[10, 8])\n",
        "for i in range(m):\n",
        "  gen_p = Brownian(p[i], p[i]/2)\n",
        "  # now the ground truth price is fluctuate\n",
        "  p_new = gen_p.gen_normal(n)\n",
        "  P[:,i] = p_new\n",
        "  plt.plot(p_new)\n",
        "plt.title('Ground Truth Price Track of Each Goods')\n",
        "plt.legend([f'Good{i+1}' for i in range(m)])\n",
        "plt.show()\n",
        "# adjust pi according to ground truth price"
      ],
      "metadata": {
        "colab": {
          "base_uri": "https://localhost:8080/",
          "height": 703
        },
        "id": "5Ba0lzjxIKHT",
        "outputId": "50acb155-775d-43c0-ed44-3354223688cb"
      },
      "execution_count": 256,
      "outputs": [
        {
          "output_type": "display_data",
          "data": {
            "text/plain": [
              "<Figure size 1000x800 with 1 Axes>"
            ],
            "image/png": "[encoded data removed]"
          },
          "metadata": {}
        }
      ]
    },
    {
      "cell_type": "code",
      "source": [
        "pi_new = np.sum(P*A.T, axis=1).reshape(-1,1).astype(float) + random.gauss(0, 0.2)"
      ],
      "metadata": {
        "id": "ocSbVBkIb1Hv"
      },
      "execution_count": 259,
      "outputs": []
    },
    {
      "cell_type": "code",
      "source": [
        "print(f'The shape of A     :  {A.shape}')\n",
        "print(f'The shape of pi_new:  {pi_new.shape}')\n",
        "print(f'The shape of b     :  {b.shape}')\n",
        "print(f'The dtype of A     :  {A.dtype}')\n",
        "print(f'The dtype of pi_new:  {pi_new.dtype}')\n",
        "print(f'The dtype of b     :  {b.dtype}')"
      ],
      "metadata": {
        "colab": {
          "base_uri": "https://localhost:8080/"
        },
        "id": "_lH4rY2FXiSP",
        "outputId": "49c01470-1b47-4de0-b8bd-02612c076ea3"
      },
      "execution_count": 260,
      "outputs": [
        {
          "output_type": "stream",
          "name": "stdout",
          "text": [
            "The shape of A     :  (10, 10000)\n",
            "The shape of pi_new:  (10000, 1)\n",
            "The shape of b     :  (10, 1)\n",
            "The dtype of A     :  int64\n",
            "The dtype of pi_new:  float64\n",
            "The dtype of b     :  float64\n"
          ]
        }
      ]
    },
    {
      "cell_type": "markdown",
      "source": [
        "## Previous Algorithm Applied to Dependent Data"
      ],
      "metadata": {
        "id": "qckrKTzAeIoB"
      }
    },
    {
      "cell_type": "markdown",
      "source": [
        "### Offline Learning"
      ],
      "metadata": {
        "id": "nTOd4VnjgyHs"
      }
    },
    {
      "cell_type": "code",
      "source": [
        "x = cp.Variable((n,1))\n",
        "objective = cp.Maximize(pi_new.T@x)\n",
        "constraints = [A@x <= b, x >= 0, x <= 1]\n",
        "prob = cp.Problem(objective, constraints)\n",
        "\n",
        "prob.solve()\n",
        "\n",
        "opv2 = prob.value\n",
        "x = np.where(x.value >= 0.5, 1, 0)\n",
        "\n",
        "print(f'Optimal Solution: \\n{x[:,0].T}')\n",
        "print(f'Optimal Value: {opv2}')"
      ],
      "metadata": {
        "colab": {
          "base_uri": "https://localhost:8080/"
        },
        "id": "BJr7ZO-bVoIW",
        "outputId": "e60a5844-f400-4853-be19-17a9606c7d56"
      },
      "execution_count": 261,
      "outputs": [
        {
          "output_type": "stream",
          "name": "stdout",
          "text": [
            "Optimal Solution: \n",
            "[0 0 0 ... 1 1 0]\n",
            "Optimal Value: 388175.1592895987\n"
          ]
        }
      ]
    },
    {
      "cell_type": "markdown",
      "source": [
        "### One-time Online Learning (SLPM)"
      ],
      "metadata": {
        "id": "nttHdGpOgxSN"
      }
    },
    {
      "cell_type": "code",
      "source": [
        "print('-'*25 + 'One-time Online Learning SLPM' + '-'*25 + '\\n')\n",
        "for k in [50, 100, 200]:\n",
        "  P_ol_slpm_dpt, x_ol_slpm_dpt, r_ol_slpm_dpt = online_learning_SLPM(A,pi_new,b,10000,k)\n",
        "  print('-'*25 + f'k = {k}' + '-'*25 + '\\n')\n",
        "  print(f'Dual price: {P_ol_slpm_dpt.T[0,:]} \\n')\n",
        "  print(f'Allocation: {x_ol_slpm_dpt.T[0,:]} \\n')\n",
        "  print(f'Revenue: {r_ol_slpm_dpt} \\n')\n",
        "  print(f'Ratio: {r_ol_slpm_dpt/opv2} \\n')"
      ],
      "metadata": {
        "colab": {
          "base_uri": "https://localhost:8080/"
        },
        "id": "1dqkEdm0eMmN",
        "outputId": "53c89867-c91b-4327-d937-4aed496c25c9"
      },
      "execution_count": 262,
      "outputs": [
        {
          "output_type": "stream",
          "name": "stdout",
          "text": [
            "-------------------------One-time Online Learning SLPM-------------------------\n",
            "\n",
            "-------------------------k = 50-------------------------\n",
            "\n",
            "Dual price: [44.1172563  40.47505796 13.05239202 27.82502033 14.46094933 44.36894089\n",
            " 41.92443951 33.88702653 32.65667172 49.82944742] \n",
            "\n",
            "Allocation: [0 0 0 ... 0 0 0] \n",
            "\n",
            "Revenue: 289662.61664250033 \n",
            "\n",
            "Ratio: 0.746216262711435 \n",
            "\n",
            "-------------------------k = 100-------------------------\n",
            "\n",
            "Dual price: [43.55652274 41.32288004 12.45449442 27.35015596 14.56503144 44.00392798\n",
            " 41.77610045 33.76717803 32.90530176 50.76810903] \n",
            "\n",
            "Allocation: [0 0 0 ... 0 0 0] \n",
            "\n",
            "Revenue: 293690.980106796 \n",
            "\n",
            "Ratio: 0.7565939578521237 \n",
            "\n",
            "-------------------------k = 200-------------------------\n",
            "\n",
            "Dual price: [44.92890828 42.77302011 13.14143464 29.09929002 14.21024153 41.93478178\n",
            " 42.09307475 33.85702304 31.78678937 50.5390655 ] \n",
            "\n",
            "Allocation: [0 0 0 ... 0 0 0] \n",
            "\n",
            "Revenue: 285632.3939233362 \n",
            "\n",
            "Ratio: 0.735833777839039 \n",
            "\n"
          ]
        }
      ]
    },
    {
      "cell_type": "markdown",
      "source": [
        "### Dynamic Learning (SLPM)"
      ],
      "metadata": {
        "id": "UeNQE15vg-U3"
      }
    },
    {
      "cell_type": "code",
      "source": [
        "P_dl_slpm_dpt, x_dl_slpm_dpt, r_dl_slpm_dpt = dynamic_learning_SLPM(A, pi_new, b, 10000, 50)"
      ],
      "metadata": {
        "colab": {
          "base_uri": "https://localhost:8080/"
        },
        "id": "Md6XHToAe-B8",
        "outputId": "8f9f685a-e7d3-454d-ca9b-cf0a742e6ff3"
      },
      "execution_count": 263,
      "outputs": [
        {
          "output_type": "stream",
          "name": "stdout",
          "text": [
            "------------------------------The Track of Dual Price------------------------------\n",
            "\n",
            "-------------------------k = 50 -------------------------\n",
            "\n",
            "Dual price: [44.1172563  40.47505796 13.05239202 27.82502033 14.46094933 44.36894089\n",
            " 41.92443951 33.88702653 32.65667172 49.82944742]\n",
            "\n",
            "-------------------------k = 100 -------------------------\n",
            "\n",
            "Dual price: [43.55652274 41.32288004 12.45449442 27.35015596 14.56503144 44.00392798\n",
            " 41.77610045 33.76717803 32.90530176 50.76810903]\n",
            "\n",
            "-------------------------k = 200 -------------------------\n",
            "\n",
            "Dual price: [44.92890828 42.77302011 13.14143464 29.09929002 14.21024153 41.93478178\n",
            " 42.09307475 33.85702304 31.78678937 50.5390655 ]\n",
            "\n",
            "-------------------------k = 400 -------------------------\n",
            "\n",
            "Dual price: [43.95981809 43.50164364 13.43129541 28.31513509 13.59923269 42.06785722\n",
            " 41.02008104 34.45870844 31.62849745 50.86750836]\n",
            "\n",
            "-------------------------k = 800 -------------------------\n",
            "\n",
            "Dual price: [40.8165094  44.47011803 14.20692918 27.7256612  14.01048339 44.0441213\n",
            " 39.62111024 35.793035   30.27119746 52.68121059]\n",
            "\n",
            "-------------------------k = 1600 -------------------------\n",
            "\n",
            "Dual price: [36.98687196 46.65193114 14.27311942 27.96132502 14.09814205 44.78427263\n",
            " 39.39357788 35.2265652  31.74534029 54.27277778]\n",
            "\n",
            "-------------------------k = 3200 -------------------------\n",
            "\n",
            "Dual price: [36.53111476 44.17120894 15.21756149 28.40735124 13.97596564 47.4679576\n",
            " 36.7196239  34.55183522 30.96966925 54.74073707]\n",
            "\n",
            "-------------------------k = 6400 -------------------------\n",
            "\n",
            "Dual price: [32.15662111 44.7446484  15.47938867 27.00721011 15.80557132 50.91525434\n",
            " 31.2480005  34.7906677  31.59767278 61.7923568 ]\n",
            "\n",
            "----------------------------------------END----------------------------------------\n"
          ]
        }
      ]
    },
    {
      "cell_type": "code",
      "source": [
        "print('-'*30 + 'Dynamic Learning SCLM' + '-'*30 + '\\n')\n",
        "print(f'Dual price: {P_dl_slpm_dpt.T[0,:]} \\n')\n",
        "print(f'Allocation: {x_dl_slpm_dpt.T[0,:]} \\n')\n",
        "print(f'Revenue: {r_dl_slpm_dpt} \\n')\n",
        "print(f'Ratio: {r_dl_slpm_dpt/opv2} \\n')"
      ],
      "metadata": {
        "colab": {
          "base_uri": "https://localhost:8080/"
        },
        "id": "0HWhTnaafIbD",
        "outputId": "46527815-43de-4536-a522-1cd0acebaa72"
      },
      "execution_count": 264,
      "outputs": [
        {
          "output_type": "stream",
          "name": "stdout",
          "text": [
            "------------------------------Dynamic Learning SCLM------------------------------\n",
            "\n",
            "Dual price: [32.15662111 44.7446484  15.47938867 27.00721011 15.80557132 50.91525434\n",
            " 31.2480005  34.7906677  31.59767278 61.7923568 ] \n",
            "\n",
            "Allocation: [0. 0. 0. ... 0. 0. 0.] \n",
            "\n",
            "Revenue: 311315.3989387841 \n",
            "\n",
            "Ratio: 0.8019972208126969 \n",
            "\n"
          ]
        }
      ]
    },
    {
      "cell_type": "markdown",
      "source": [
        "### One-time Online Learning (SCPM)"
      ],
      "metadata": {
        "id": "tzgmA6vYhMxY"
      }
    },
    {
      "cell_type": "code",
      "source": [
        "print('-'*25 + 'One-time Online Learning SCPM' + '-'*25 + '\\n')\n",
        "for k in [50, 100, 200]:\n",
        "  P_ol_scpm_dpt, x_ol_scpm_dpt, r_ol_scpm_dpt = online_learning_SCPM(A,pi_new,b,10000,k,1)\n",
        "  print('-'*25 + f'k = {k}' + '-'*25 + '\\n')\n",
        "  print(f'Dual price: {P_ol_scpm_dpt.T[0,:]} \\n')\n",
        "  print(f'Allocation: {x_ol_scpm_dpt.T[0,:]} \\n')\n",
        "  print(f'Revenue: {r_ol_scpm_dpt} \\n')\n",
        "  print(f'Ratio: {r_ol_scpm_dpt/opv2} \\n')"
      ],
      "metadata": {
        "colab": {
          "base_uri": "https://localhost:8080/"
        },
        "id": "yVRkp4yvfIzp",
        "outputId": "98c05fe2-02f6-47aa-f29c-4a93988b06d7"
      },
      "execution_count": 265,
      "outputs": [
        {
          "output_type": "stream",
          "name": "stdout",
          "text": [
            "-------------------------One-time Online Learning SCPM-------------------------\n",
            "\n",
            "-------------------------k = 50-------------------------\n",
            "\n",
            "Dual price: [44.10226036 40.4750672  13.03739942 27.83999276 14.47596993 44.38392626\n",
            " 41.91692142 33.89451755 32.66413076 49.81450617] \n",
            "\n",
            "Allocation: [0 0 0 ... 0 0 0] \n",
            "\n",
            "Revenue: 289780.885529241 \n",
            "\n",
            "Ratio: 0.7465209418850255 \n",
            "\n",
            "-------------------------k = 100-------------------------\n",
            "\n",
            "Dual price: [43.57284252 41.32683699 12.45366707 27.32937376 14.58727596 44.00365558\n",
            " 41.75452147 33.7757748  32.90584929 50.78554972] \n",
            "\n",
            "Allocation: [0 0 0 ... 0 0 0] \n",
            "\n",
            "Revenue: 293561.4331037437 \n",
            "\n",
            "Ratio: 0.7562602244847196 \n",
            "\n",
            "-------------------------k = 200-------------------------\n",
            "\n",
            "Dual price: [44.96981643 42.77228753 13.14220453 29.09960785 14.25130078 41.93496542\n",
            " 42.09320394 33.8154055  31.78736114 50.49755388] \n",
            "\n",
            "Allocation: [0 0 0 ... 0 0 0] \n",
            "\n",
            "Revenue: 285429.8086024523 \n",
            "\n",
            "Ratio: 0.7353118863268293 \n",
            "\n"
          ]
        }
      ]
    },
    {
      "cell_type": "markdown",
      "source": [
        "### Dynamic Learning (SCPM)"
      ],
      "metadata": {
        "id": "Q4WQMDeuhRlQ"
      }
    },
    {
      "cell_type": "code",
      "source": [
        "P_dl_scpm_dpt, x_dl_scpm_dpt, r_dl_scpm_dpt = dynamic_learning_SCPM(A, pi, b, 10000, 50, 1)"
      ],
      "metadata": {
        "colab": {
          "base_uri": "https://localhost:8080/"
        },
        "id": "Rj6_freefknI",
        "outputId": "e3cd4fec-9949-4aef-b670-06b330747f2d"
      },
      "execution_count": 266,
      "outputs": [
        {
          "output_type": "stream",
          "name": "stdout",
          "text": [
            "------------------------------The Track of Dual Price------------------------------\n",
            "\n",
            "-------------------------k = 50 -------------------------\n",
            "\n",
            "Dual price: [41.92338156 39.93266507 13.08516266 28.04229976 13.99425831 45.03049319\n",
            " 44.00483478 35.10566977 32.07186129 48.98607429]\n",
            "\n",
            "-------------------------k = 100 -------------------------\n",
            "\n",
            "Dual price: [41.95154232 39.99446041 13.126772   28.04139221 13.95823589 45.02612459\n",
            " 43.96471564 35.08903968 32.03306005 49.07456704]\n",
            "\n",
            "-------------------------k = 200 -------------------------\n",
            "\n",
            "Dual price: [41.9873758  40.07294697 13.04864637 28.03318545 14.00067572 44.99682408\n",
            " 43.99985096 35.04775694 32.05333288 49.05850749]\n",
            "\n",
            "-------------------------k = 400 -------------------------\n",
            "\n",
            "Dual price: [42.04296933 40.05546653 13.03977378 28.05171377 14.0253611  45.05396169\n",
            " 43.98220289 35.04153648 32.00936091 49.02078454]\n",
            "\n",
            "-------------------------k = 800 -------------------------\n",
            "\n",
            "Dual price: [42.02739567 40.03692257 13.03376007 28.0842535  14.00908146 45.06362738\n",
            " 43.99589997 35.02191153 32.03840167 49.01741169]\n",
            "\n",
            "-------------------------k = 1600 -------------------------\n",
            "\n",
            "Dual price: [42.04141455 40.0393212  13.03793068 28.07175411 14.01757828 45.03053008\n",
            " 43.99931252 35.04894364 32.02288368 49.01804531]\n",
            "\n",
            "-------------------------k = 3200 -------------------------\n",
            "\n",
            "Dual price: [42.03118958 40.04227412 13.03168251 28.05553899 14.01915322 45.03642068\n",
            " 44.00184233 35.03779775 32.02882724 49.02652161]\n",
            "\n",
            "-------------------------k = 6400 -------------------------\n",
            "\n",
            "Dual price: [42.03245245 40.03431611 13.02215352 28.04882685 14.02775944 45.0311608\n",
            " 44.02381648 35.03742288 32.02708104 49.02902938]\n",
            "\n",
            "----------------------------------------END----------------------------------------\n"
          ]
        }
      ]
    },
    {
      "cell_type": "code",
      "source": [
        "print('-'*30 + 'Dynamic Learning SCPM' + '-'*30 + '\\n')\n",
        "print(f'Dual price: {P_dl_scpm_dpt.T[0,:]} \\n')\n",
        "print(f'Allocation: {x_dl_scpm_dpt.T[0,:]} \\n')\n",
        "print(f'Revenue: {r_dl_scpm_dpt} \\n')\n",
        "print(f'Ratio: {r_dl_scpm_dpt/opv2} \\n')"
      ],
      "metadata": {
        "colab": {
          "base_uri": "https://localhost:8080/"
        },
        "id": "uQKGSIJRfvmi",
        "outputId": "e142979a-a193-4baa-8950-5e651fe620b8"
      },
      "execution_count": 267,
      "outputs": [
        {
          "output_type": "stream",
          "name": "stdout",
          "text": [
            "------------------------------Dynamic Learning SCPM------------------------------\n",
            "\n",
            "Dual price: [42.03245245 40.03431611 13.02215352 28.04882685 14.02775944 45.0311608\n",
            " 44.02381648 35.03742288 32.02708104 49.02902938] \n",
            "\n",
            "Allocation: [0. 0. 0. ... 0. 0. 0.] \n",
            "\n",
            "Revenue: 332369.4468563321 \n",
            "\n",
            "Ratio: 0.8562357453903107 \n",
            "\n"
          ]
        }
      ]
    },
    {
      "cell_type": "markdown",
      "source": [
        "### Action-history-dependent Learning"
      ],
      "metadata": {
        "id": "_Pa6dJrLmkSz"
      }
    },
    {
      "cell_type": "code",
      "source": [
        "P_ahdl_dpt, x_ahdl_dpt, r_ahdl_dpt = aciton_history_dependent_learning(A, pi_new, b, 10000)"
      ],
      "metadata": {
        "id": "eATXQLkmf0RJ"
      },
      "execution_count": null,
      "outputs": []
    },
    {
      "cell_type": "code",
      "source": [
        "print(f'Dual price: {P_ahdl_dpt.T[0,:]} \\n')\n",
        "print(f'Allocation: {x_ahdl_dpt.T[0,:]} \\n')\n",
        "print(f'Revenue: {r_ahdl_dpt} \\n')\n",
        "print(f'Ratio: {r_ahdl_dpt/opv1} \\n')"
      ],
      "metadata": {
        "id": "VlSwvXVTnFSl"
      },
      "execution_count": null,
      "outputs": []
    },
    {
      "cell_type": "markdown",
      "source": [
        "### Dynamic Online Learning with SGD"
      ],
      "metadata": {
        "id": "nWS5vQ57mpio"
      }
    },
    {
      "cell_type": "code",
      "source": [],
      "metadata": {
        "id": "tGi4gsEQmuAI"
      },
      "execution_count": null,
      "outputs": []
    }
  ],
  "metadata": {
    "kernelspec": {
      "display_name": "base",
      "language": "python",
      "name": "python3"
    },
    "language_info": {
      "codemirror_mode": {
        "name": "ipython",
        "version": 3
      },
      "file_extension": ".py",
      "mimetype": "text/x-python",
      "name": "python",
      "nbconvert_exporter": "python",
      "pygments_lexer": "ipython3",
      "version": "3.9.7"
    },
    "orig_nbformat": 4,
    "colab": {
      "provenance": []
    }
  },
  "nbformat": 4,
  "nbformat_minor": 0
}