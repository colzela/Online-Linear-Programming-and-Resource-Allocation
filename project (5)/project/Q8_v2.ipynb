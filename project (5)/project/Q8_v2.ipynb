{
 "cells": [
  {
   "cell_type": "code",
   "execution_count": 1,
   "metadata": {},
   "outputs": [],
   "source": [
    "import numpy as np\n",
    "import math\n",
    "import cvxpy as cp\n",
    "import pandas as pd"
   ]
  },
  {
   "cell_type": "code",
   "execution_count": 2,
   "metadata": {},
   "outputs": [
    {
     "name": "stdout",
     "output_type": "stream",
     "text": [
      "(1, 10000)\n"
     ]
    }
   ],
   "source": [
    "#initialization\n",
    "A = pd.read_csv(\"A.csv\")\n",
    "pi = pd.read_csv(\"pi_2.csv\")\n",
    "A = np.array(A)\n",
    "pi  = np.array(pi)\n",
    "pi = pi.T\n",
    "print(pi.shape)\n",
    "n = 10000\n",
    "m = 10\n",
    "b_i = 1000\n",
    "k = 50\n",
    "b = np.array([1000 for _ in range(m)])  \n",
    "\n",
    "x = cp.Variable(k)\n",
    "s = cp.Variable(m)\n"
   ]
  },
  {
   "attachments": {},
   "cell_type": "markdown",
   "metadata": {},
   "source": [
    "Q4"
   ]
  },
  {
   "cell_type": "code",
   "execution_count": 3,
   "metadata": {},
   "outputs": [
    {
     "name": "stdout",
     "output_type": "stream",
     "text": [
      "[1 0 1 0 0 1 1 0 1 1]\n",
      "(10, 50)\n",
      "(1, 50)\n",
      "[ 4.35363331e-09  4.63716762e-01 -1.00627729e-09  9.99999972e-01\n",
      "  2.22277802e-01  4.06562551e-09 -1.87989858e-09  9.99999997e-01\n",
      "  3.09700836e-09  9.99999996e-01  2.09847594e-09  3.72352352e-10\n",
      " -2.25363543e-09 -1.97809831e-09 -9.57262325e-10  3.55981133e-09\n",
      "  2.91181978e-08  1.82409860e-08  2.28140898e-09  5.35455489e-08\n",
      " -2.14230973e-09  3.36596837e-01 -2.32582931e-09 -2.16324721e-09\n",
      "  3.16358648e-01 -2.84740204e-09 -1.67708298e-09  9.99999953e-01\n",
      "  9.99999995e-01 -8.05632498e-11  2.03181910e-01 -8.84190934e-10\n",
      " -2.10239556e-09 -2.26566727e-09  4.65110390e-01  7.32680752e-08\n",
      "  1.27019933e-08 -3.95328186e-10 -9.38514725e-10  9.32033087e-01\n",
      " -2.28377137e-09  9.99999995e-01  5.07794697e-01  9.99999997e-01\n",
      " -2.51651675e-09  9.99999998e-01 -2.99480879e-09 -2.45680171e-09\n",
      " -2.69603895e-09  9.99999995e-01]\n",
      "[0.91382769 2.20383168 0.31988552 1.58534633 1.52407329 0.69510766\n",
      " 0.1189345  2.46113792 0.05951866 2.28115224]\n",
      "\n",
      "The optimal value is 72.01354295398484\n",
      "\n",
      "The optimal value is 72.01365410479352\n",
      "A solution x is\n",
      "[ 1.83929184e-05  4.63862644e-01 -1.93878913e-05  9.99977397e-01\n",
      "  2.22266349e-01 -8.63919926e-07  2.01692172e-07  9.99977026e-01\n",
      "  8.62357545e-06  9.99994331e-01 -3.80780317e-06 -4.47773827e-06\n",
      " -4.34481665e-07 -7.85779608e-06 -1.66362267e-05  6.49324577e-06\n",
      " -9.02226930e-06 -7.86677531e-06  7.55261617e-06  1.78037143e-05\n",
      "  9.62593142e-06  3.36470899e-01  2.91473320e-06  7.72048189e-06\n",
      "  3.16306534e-01 -1.16156979e-07 -1.13148298e-05  1.00001636e+00\n",
      "  9.99995855e-01 -6.73435081e-06  2.03335098e-01 -1.20945536e-05\n",
      "  1.44663847e-05  1.21835570e-06  4.64956347e-01 -2.79929233e-06\n",
      " -8.58947377e-06  3.58225167e-06  3.97460740e-07  9.32061426e-01\n",
      " -1.63451467e-05  1.00001252e+00  5.07814697e-01  9.99994561e-01\n",
      " -1.23788710e-06  1.00000212e+00 -8.39948579e-06 -5.66552103e-06\n",
      "  2.02297016e-05  9.99999654e-01]\n",
      "A dual solution corresponding to the inequality constraints is\n",
      "[0.91383165 2.20382879 0.31987861 1.58534108 1.52407119 0.6951111\n",
      " 0.11892713 2.46114268 0.0595146  2.28115745]\n",
      "[ 4.96917623e-17  0.00000000e+00  4.96917623e-17  2.14351715e-01\n",
      "  0.00000000e+00  0.00000000e+00  4.96917623e-17  2.32522579e+00\n",
      "  0.00000000e+00  1.66213390e+00  4.96917623e-17  4.96917623e-17\n",
      "  0.00000000e+00  0.00000000e+00 -4.96917623e-17  0.00000000e+00\n",
      "  0.00000000e+00  4.96917623e-17  4.96917623e-17  0.00000000e+00\n",
      "  0.00000000e+00  0.00000000e+00  0.00000000e+00  0.00000000e+00\n",
      "  0.00000000e+00  4.96917623e-17  0.00000000e+00  2.23428556e-01\n",
      "  1.11307581e+00  0.00000000e+00  0.00000000e+00 -4.96917623e-17\n",
      "  0.00000000e+00  0.00000000e+00 -2.48458812e-17  0.00000000e+00\n",
      "  0.00000000e+00 -4.96917623e-17  0.00000000e+00  0.00000000e+00\n",
      " -4.96917623e-17  1.50968604e+00  0.00000000e+00  2.27905663e+00\n",
      "  0.00000000e+00  3.46843820e+00  0.00000000e+00  4.96917623e-17\n",
      "  0.00000000e+00  1.39202702e+00]\n"
     ]
    }
   ],
   "source": [
    "pi1 = pi[:,:k]\n",
    "A1 = A[:m,:k]\n",
    "print(A[:,k])\n",
    "print(A1.shape)\n",
    "print(pi1.shape)\n",
    "w = 1\n",
    "def u(s):\n",
    "    u_s = 0\n",
    "    for i in range(m):\n",
    "        u_s += w/m * cp.log(s[i])\n",
    "    return u_s\n",
    "    \n",
    "obj = cp.Maximize(pi1@x + u(s))\n",
    "const = [A1@x + s <= k/n * b_i, x>=0, x<=1]\n",
    "prob = cp.Problem(obj, const)\n",
    "\n",
    "prob.solve()\n",
    "print(x.value)\n",
    "print(prob.constraints[0].dual_value)\n",
    "print(\"\\nThe optimal value is\", prob.value)\n",
    "prob.solve(solver=\"SCS\")\n",
    "x.value\n",
    "\n",
    "print(\"\\nThe optimal value is\", prob.value)\n",
    "print(\"A solution x is\")\n",
    "print(x.value)\n",
    "print(\"A dual solution corresponding to the inequality constraints is\")\n",
    "print(prob.constraints[0].dual_value)\n",
    "print(prob.constraints[2].dual_value)\n",
    "\n"
   ]
  },
  {
   "attachments": {},
   "cell_type": "markdown",
   "metadata": {},
   "source": [
    "Q8"
   ]
  },
  {
   "cell_type": "code",
   "execution_count": 4,
   "metadata": {},
   "outputs": [],
   "source": [
    "l_decision = []\n",
    "b_k = b.copy()\n",
    "d = b/n\n",
    "rev = 0.0\n",
    "price = np.array([0.0 for _ in range(m)])\n",
    "for k in range(0,n):\n",
    "    # Decide whether to accept (k)th request and the remaining resource\n",
    "    if pi[0][k] > A[:,k].dot(price) and np.min(b_k - A[:,k]) >= 0:\n",
    "        x = 1\n",
    "        b_k -=  A[:,k]\n",
    "    else:\n",
    "        x = 0\n",
    "    l_decision.append(x)\n",
    "    rev += x*pi[0][k]\n",
    "    # update price first\n",
    "    grad = d - A[:,k]*np.heaviside((pi[0][k]-np.dot(A[:,k],price)),0.)\n",
    "    price = np.maximum(price - grad/np.sqrt(k+1), 0.)"
   ]
  },
  {
   "cell_type": "code",
   "execution_count": 5,
   "metadata": {},
   "outputs": [
    {
     "name": "stdout",
     "output_type": "stream",
     "text": [
      "17406.295176501088\n"
     ]
    }
   ],
   "source": [
    "x = cp.Variable(n)\n",
    "ee = np.ones(n)\n",
    "objective = cp.Maximize(pi@x)\n",
    "constraints = [A@x <= b, x >= 0, x <= ee]\n",
    "prob = cp.Problem(objective, constraints)\n",
    "\n",
    "prob.solve()\n",
    "x.value\n",
    "opv1 = prob.value\n",
    "print(opv1)"
   ]
  },
  {
   "cell_type": "code",
   "execution_count": 8,
   "metadata": {},
   "outputs": [
    {
     "name": "stdout",
     "output_type": "stream",
     "text": [
      "optimal value: 17178.426757878282\n",
      "competetive ratio 0.9869088501423076\n",
      "[17178.42675788]\n"
     ]
    }
   ],
   "source": [
    "opv2 = rev\n",
    "print(\"optimal value:\", opv2)\n",
    "print(\"competetive ratio\", opv2/opv1)\n"
   ]
  }
 ],
 "metadata": {
  "kernelspec": {
   "display_name": "base",
   "language": "python",
   "name": "python3"
  },
  "language_info": {
   "codemirror_mode": {
    "name": "ipython",
    "version": 3
   },
   "file_extension": ".py",
   "mimetype": "text/x-python",
   "name": "python",
   "nbconvert_exporter": "python",
   "pygments_lexer": "ipython3",
   "version": "3.9.12"
  },
  "orig_nbformat": 4,
  "vscode": {
   "interpreter": {
    "hash": "7b34b089ce0dfc9935940e0a22050b2949fa617f7a2b73925623c261bed16aeb"
   }
  }
 },
 "nbformat": 4,
 "nbformat_minor": 2
}
