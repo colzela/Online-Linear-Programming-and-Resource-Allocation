{
 "cells": [
  {
   "cell_type": "code",
   "execution_count": 60,
   "metadata": {},
   "outputs": [],
   "source": [
    "import numpy as np\n",
    "import cvxpy as cp\n",
    "import random\n",
    "import pandas as pd\n"
   ]
  },
  {
   "cell_type": "code",
   "execution_count": 61,
   "metadata": {},
   "outputs": [],
   "source": [
    "n = 10000    # number of bidders\n",
    "m = 10       # type of resources\n",
    "\n",
    "A = pd.read_csv(\"A.csv\")\n",
    "pi = pd.read_csv(\"pi_2.csv\")\n",
    "\n",
    "A = np.array(A)\n",
    "pi = np.array(pi)\n",
    "pi = pi.T\n",
    "b = np.array([1000 for _ in range(m)])  "
   ]
  },
  {
   "cell_type": "code",
   "execution_count": 62,
   "metadata": {},
   "outputs": [],
   "source": [
    "x = cp.Variable(n)\n",
    "ee = np.ones(n)\n",
    "objective = cp.Maximize(pi@x)\n",
    "constraints = [A@x <= b, x >= 0, x <= ee]\n",
    "prob = cp.Problem(objective, constraints)\n",
    "prob.solve()\n",
    "opv1 = prob.value"
   ]
  },
  {
   "cell_type": "code",
   "execution_count": 63,
   "metadata": {},
   "outputs": [],
   "source": [
    "def u(s,w):\n",
    "    value = 0\n",
    "    for i in range(m):\n",
    "        value += w/m * cp.log(s[i])\n",
    "    return value"
   ]
  },
  {
   "cell_type": "code",
   "execution_count": 64,
   "metadata": {},
   "outputs": [],
   "source": [
    "def dynamicLearning(start, k, xp, xk, w):\n",
    "\tA1 = A[:m, :k]\n",
    "\tpi1 = pi[:,:k]\n",
    "\tx = cp.Variable(k)\n",
    "\ts = cp.Variable(m)\n",
    "\t# print(x.shape)\n",
    "\tobj = cp.Maximize(pi1@x + u(s,w))\n",
    "\tcons = [A1@x + s <= k/n * b, x>=0, x<=1]\n",
    "\tprob = cp.Problem(obj, cons)\n",
    "\tprob.solve(solver=\"SCS\")\n",
    "\tP = prob.constraints[0].dual_value\n",
    "\t# print(P)\n",
    "\tAT = A.T\n",
    "\n",
    "\txpNow = xp\n",
    "\txkNow = xk\n",
    "\tfor i in range(start, 2*k):\n",
    "\t\tif i >= n:\n",
    "\t\t\t# print(xkNow)\n",
    "\t\t\tglobal xTrue\n",
    "\t\t\txTrue = xkNow\n",
    "\t\t\treturn xkNow\n",
    "\t\t\n",
    "\t\tcri = (AT[i].dot(P))\n",
    "\t\tif(pi[0][i] > cri):\n",
    "\t\t\txpNow.append(1)\n",
    "\t\telse:\n",
    "\t\t\txpNow.append(0)\n",
    "\n",
    "\t\ttest = 1\n",
    "\t\tfor j in range(m):\n",
    "\t\t\ttemp1 = A[j,i]*xpNow[i]\n",
    "\t\t\ttemp2 = b[j] - (A[j:j+1, :i]).dot(np.array(xkNow))\n",
    "\t\t\t# print(i)\n",
    "\t\t\t# print(len(xkNow))\n",
    "\t\t\tif temp1 > temp2:\n",
    "\t\t\t\ttest = 0\n",
    "\t\t\t\tbreak\n",
    "\t\tif test == 1:\n",
    "\t\t\txkNow.append(xpNow[i])\n",
    "\t\telse:\n",
    "\t\t\txkNow.append(0)\n",
    "\n",
    "\tdynamicLearning(2*k, 2*k, xpNow, xkNow, w)\n",
    "\treturn xTrue\n",
    "\t\t"
   ]
  },
  {
   "cell_type": "code",
   "execution_count": 65,
   "metadata": {},
   "outputs": [
    {
     "name": "stdout",
     "output_type": "stream",
     "text": [
      "when w = 1\n",
      "the competetive ratio is 0.978601456837532\n",
      "when w = 2\n",
      "the competetive ratio is 0.9782351605652236\n",
      "when w = 3\n",
      "the competetive ratio is 0.9783264725544019\n",
      "when w = 4\n",
      "the competetive ratio is 0.9777789615658169\n",
      "when w = 5\n",
      "the competetive ratio is 0.9782048763772149\n",
      "when w = 6\n",
      "the competetive ratio is 0.9778269529973068\n",
      "when w = 7\n",
      "the competetive ratio is 0.9779359523875596\n",
      "when w = 8\n",
      "the competetive ratio is 0.9780411875586937\n",
      "when w = 9\n",
      "the competetive ratio is 0.9780147928364383\n",
      "when w = 10\n",
      "the competetive ratio is 0.978833635415891\n",
      "when w = 11\n",
      "the competetive ratio is 0.9788856729038952\n",
      "when w = 12\n",
      "the competetive ratio is 0.9796775096986613\n",
      "when w = 13\n",
      "the competetive ratio is 0.9796020061908668\n",
      "when w = 14\n",
      "the competetive ratio is 0.9805342841342056\n",
      "when w = 15\n",
      "the competetive ratio is 0.9805787033152006\n",
      "when w = 16\n",
      "the competetive ratio is 0.981413721956705\n",
      "when w = 17\n",
      "the competetive ratio is 0.9816809764912773\n",
      "when w = 18\n",
      "the competetive ratio is 0.9813585028959266\n",
      "when w = 19\n",
      "the competetive ratio is 0.9815234764232756\n",
      "when w = 20\n",
      "the competetive ratio is 0.9817959456778435\n"
     ]
    }
   ],
   "source": [
    "for i in range(1,21):\n",
    "    w = i\n",
    "    xk = [0]*50\n",
    "    xp = [0]*50\n",
    "    l_decision = np.array(dynamicLearning(50, 50, xp, xk, w))\n",
    "    opv2 = (np.dot(pi,l_decision)[0])\n",
    "    print(\"when w =\", w)\n",
    "    print(\"the competetive ratio is\", opv2/opv1)"
   ]
  }
 ],
 "metadata": {
  "kernelspec": {
   "display_name": "Python 3",
   "language": "python",
   "name": "python3"
  },
  "language_info": {
   "codemirror_mode": {
    "name": "ipython",
    "version": 3
   },
   "file_extension": ".py",
   "mimetype": "text/x-python",
   "name": "python",
   "nbconvert_exporter": "python",
   "pygments_lexer": "ipython3",
   "version": "3.9.12"
  },
  "orig_nbformat": 4
 },
 "nbformat": 4,
 "nbformat_minor": 2
}
