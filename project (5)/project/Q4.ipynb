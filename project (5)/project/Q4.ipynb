{
 "cells": [
  {
   "cell_type": "code",
   "execution_count": 52,
   "metadata": {},
   "outputs": [],
   "source": [
    "import numpy as np\n",
    "import cvxpy as cp\n",
    "import random\n",
    "import pandas as pd\n",
    "import math"
   ]
  },
  {
   "cell_type": "code",
   "execution_count": 53,
   "metadata": {},
   "outputs": [],
   "source": [
    "n = 10000    # number of bidders\n",
    "m = 10       # type of resources\n",
    "\n",
    "A = pd.read_csv(\"A.csv\")\n",
    "pi = pd.read_csv(\"pi.csv\")\n",
    "pi = np.array(pi)\n",
    "pi = pi.T\n",
    "A = np.array(A)\n",
    "b = np.array([1000 for _ in range(m)])  \n"
   ]
  },
  {
   "cell_type": "code",
   "execution_count": 54,
   "metadata": {},
   "outputs": [
    {
     "name": "stdout",
     "output_type": "stream",
     "text": [
      "offline optimal value,  282270.0744458285\n"
     ]
    }
   ],
   "source": [
    "x = cp.Variable(n)\n",
    "ee = np.ones(n)\n",
    "objective = cp.Maximize(pi@x)\n",
    "constraints = [A@x <= b, x >= 0, x <= ee]\n",
    "prob = cp.Problem(objective, constraints)\n",
    "prob.solve()\n",
    "opv1 = prob.value\n",
    "print(\"offline optimal value, \", opv1)"
   ]
  },
  {
   "cell_type": "code",
   "execution_count": 55,
   "metadata": {},
   "outputs": [],
   "source": [
    "def u(s,w):\n",
    "    value = 0\n",
    "    for i in range(m):\n",
    "        value += w/m * cp.log(s[i])\n",
    "    return value\n",
    "def learning(k=50):\n",
    "    A1 = A[:m, :k]\n",
    "    # pi = np.array(pi)\n",
    "    pi1 = pi[:,:k]\n",
    "    x = cp.Variable(k)\n",
    "    s = cp.Variable(m)\n",
    "    # print(pi1.shape)\n",
    "    # print(x.shape)\n",
    "    obj = cp.Maximize(pi1@x + u(s,1))\n",
    "    cons = [A1@x + s <= k/n * b, x>=0, x<=1]\n",
    "    prob = cp.Problem(obj, cons)\n",
    "    # prob.solve(solver=\"ECOS\")\n",
    "    prob.solve(solver=\"SCS\")\n",
    "    opt_sol = x.value\n",
    "    dual_price = prob.constraints[0].dual_value\n",
    "    opt_value = prob.value \n",
    "    return opt_sol, dual_price, opt_value\n",
    "\n",
    "def decision(dual_price,k=50):\n",
    "    # Make the decisions based on the dual prices\n",
    "    AT = A.T\n",
    "    xp = []\n",
    "    xk = []\n",
    "    for i in range(n):\n",
    "        cri = (AT[i].dot(dual_price))\n",
    "        if(pi[0][i] > cri):\n",
    "            xp.append(1)\n",
    "        else:\n",
    "            xp.append(0)  # xt(p) 10000\n",
    "        if i < k:\n",
    "            xk.append(0)  #50\n",
    "    # Check whether the resource constriant is satisfied\n",
    "    for t in range(k,n):\n",
    "        flag = 1\n",
    "        for j in range(m):\n",
    "            temp1 = A[j,t]*xp[t]\n",
    "            temp2 = b[j] - (A[j, :t]).dot(np.array(xk))\n",
    "            if temp1 > temp2:\n",
    "                flag = 0\n",
    "                break\n",
    "        if flag == 1:\n",
    "            xk.append(xp[t])\n",
    "        else:\n",
    "            xk.append(0)\n",
    "    return xk"
   ]
  },
  {
   "attachments": {},
   "cell_type": "markdown",
   "metadata": {},
   "source": [
    "**K = 50**"
   ]
  },
  {
   "cell_type": "code",
   "execution_count": 56,
   "metadata": {},
   "outputs": [
    {
     "name": "stdout",
     "output_type": "stream",
     "text": [
      "when k =  50\n",
      "dual price is [44.08107686 34.73455245 14.28391645 49.16567588 25.33065137 26.23536667\n",
      "  9.97934682 25.22723773 13.64142675 39.05960145]\n",
      "objective value is  202844.59559326863\n",
      "the competetive ratio is  0.7186188475399198\n"
     ]
    }
   ],
   "source": [
    "k = 50 \n",
    "opt_sol, dual_price, opt_value = learning(k)\n",
    "l_decision = decision(dual_price, k)\n",
    "opv2 = (pi.dot(l_decision))[0]\n",
    "\n",
    "ratio = opv2/opv1\n",
    "print(\"when k = \", k)\n",
    "print(\"dual price is\", dual_price)\n",
    "print(\"objective value is \", opv2)\n",
    "print(\"the competetive ratio is \", ratio)"
   ]
  },
  {
   "attachments": {},
   "cell_type": "markdown",
   "metadata": {},
   "source": [
    "**K = 100**"
   ]
  },
  {
   "cell_type": "code",
   "execution_count": 57,
   "metadata": {},
   "outputs": [
    {
     "name": "stdout",
     "output_type": "stream",
     "text": [
      "when k =  100\n",
      "dual price is [44.0952587  35.03066016 13.98477837 49.09057023 25.0396567  26.01271964\n",
      " 10.18851327 25.08728669 13.9836784  39.14983996]\n",
      "objective value is  259779.69410064444\n",
      "the competetive ratio is  0.9203231855543359\n"
     ]
    }
   ],
   "source": [
    "k = 100\n",
    "opt_sol, dual_price, opt_value = learning(k)\n",
    "l_decision = decision(dual_price, k)\n",
    "opv2 = (pi.dot(l_decision))[0]\n",
    "ratio = opv2/opv1\n",
    "print(\"when k = \", k)\n",
    "print(\"dual price is\", dual_price)\n",
    "print(\"objective value is \", opv2)\n",
    "print(\"the competetive ratio is \", ratio)"
   ]
  },
  {
   "attachments": {},
   "cell_type": "markdown",
   "metadata": {},
   "source": [
    "**K = 200**"
   ]
  },
  {
   "cell_type": "code",
   "execution_count": 58,
   "metadata": {},
   "outputs": [
    {
     "name": "stdout",
     "output_type": "stream",
     "text": [
      "when k =  200\n",
      "dual price is [44.08538016 35.00755035 14.04530684 49.09774847 24.96418303 26.03348051\n",
      " 10.09854051 25.08253542 13.98054604 39.17291032]\n",
      "objective value is  261796.93642631202\n",
      "the competetive ratio is  0.9274696828570627\n"
     ]
    }
   ],
   "source": [
    "k = 200\n",
    "opt_sol, dual_price, opt_value = learning(k)\n",
    "l_decision = decision(dual_price, k)\n",
    "opv2 = (pi.dot(l_decision))[0]\n",
    "ratio = opv2/opv1\n",
    "print(\"when k = \", k)\n",
    "print(\"dual price is\", dual_price)\n",
    "print(\"objective value is \", opv2)\n",
    "print(\"the competetive ratio is \", ratio)"
   ]
  }
 ],
 "metadata": {
  "kernelspec": {
   "display_name": "Python 3",
   "language": "python",
   "name": "python3"
  },
  "language_info": {
   "codemirror_mode": {
    "name": "ipython",
    "version": 3
   },
   "file_extension": ".py",
   "mimetype": "text/x-python",
   "name": "python",
   "nbconvert_exporter": "python",
   "pygments_lexer": "ipython3",
   "version": "3.9.12"
  },
  "orig_nbformat": 4
 },
 "nbformat": 4,
 "nbformat_minor": 2
}
