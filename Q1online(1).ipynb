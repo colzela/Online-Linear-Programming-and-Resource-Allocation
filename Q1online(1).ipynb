{
 "cells": [
  {
   "cell_type": "code",
   "execution_count": 2,
   "metadata": {},
   "outputs": [],
   "source": [
    "import numpy as np\n",
    "import cvxpy as cp\n",
    "import random\n",
    "import pandas as pd\n"
   ]
  },
  {
   "cell_type": "code",
   "execution_count": 3,
   "metadata": {},
   "outputs": [],
   "source": [
    "\n",
    "n = 10000    # number of bidders\n",
    "m = 10       # type of resources\n",
    "\n",
    "A = pd.read_csv(\"A.csv\")\n",
    "pi = pd.read_csv(\"pi.csv\")\n",
    "\n",
    "A = np.array(A)\n",
    "pi = np.array(pi)\n",
    "pi = pi.T\n",
    "b = np.array([1000 for _ in range(m)])  \n"
   ]
  },
  {
   "cell_type": "markdown",
   "metadata": {},
   "source": [
    "OffLine"
   ]
  },
  {
   "cell_type": "code",
   "execution_count": 4,
   "metadata": {},
   "outputs": [
    {
     "name": "stdout",
     "output_type": "stream",
     "text": [
      "===============================================================================\n",
      "                                     CVXPY                                     \n",
      "                                     v1.2.1                                    \n",
      "===============================================================================\n",
      "(CVXPY) Apr 03 05:09:40 PM: Your problem has 10000 variables, 3 constraints, and 0 parameters.\n",
      "(CVXPY) Apr 03 05:09:40 PM: It is compliant with the following grammars: DCP, DQCP\n",
      "(CVXPY) Apr 03 05:09:40 PM: (If you need to solve this problem multiple times, but with different data, consider using parameters.)\n",
      "(CVXPY) Apr 03 05:09:40 PM: CVXPY will first compile your problem; then, it will invoke a numerical solver to obtain a solution.\n",
      "-------------------------------------------------------------------------------\n",
      "                                  Compilation                                  \n",
      "-------------------------------------------------------------------------------\n",
      "(CVXPY) Apr 03 05:09:40 PM: Compiling problem (target solver=ECOS).\n",
      "(CVXPY) Apr 03 05:09:40 PM: Reduction chain: FlipObjective -> Dcp2Cone -> CvxAttr2Constr -> ConeMatrixStuffing -> ECOS\n",
      "(CVXPY) Apr 03 05:09:40 PM: Applying reduction FlipObjective\n",
      "(CVXPY) Apr 03 05:09:40 PM: Applying reduction Dcp2Cone\n",
      "(CVXPY) Apr 03 05:09:40 PM: Applying reduction CvxAttr2Constr\n",
      "(CVXPY) Apr 03 05:09:40 PM: Applying reduction ConeMatrixStuffing\n",
      "(CVXPY) Apr 03 05:09:40 PM: Applying reduction ECOS\n",
      "(CVXPY) Apr 03 05:09:40 PM: Finished problem compilation (took 9.528e-02 seconds).\n",
      "-------------------------------------------------------------------------------\n",
      "                                Numerical solver                               \n",
      "-------------------------------------------------------------------------------\n",
      "(CVXPY) Apr 03 05:09:40 PM: Invoking solver ECOS  to obtain a solution.\n",
      "-------------------------------------------------------------------------------\n",
      "                                    Summary                                    \n",
      "-------------------------------------------------------------------------------\n",
      "(CVXPY) Apr 03 05:09:40 PM: Problem status: optimal\n",
      "(CVXPY) Apr 03 05:09:40 PM: Optimal value: 3.223e+05\n",
      "(CVXPY) Apr 03 05:09:40 PM: Compilation took 9.528e-02 seconds\n",
      "(CVXPY) Apr 03 05:09:40 PM: Solver (including time spent in interface) took 2.036e-01 seconds\n",
      "[1.70556843e-09 1.02415242e-07 9.29747462e-10 ... 2.61134051e-09\n",
      " 9.99999993e-01 9.99999921e-01]\n",
      "322315.19134004146\n"
     ]
    }
   ],
   "source": [
    "x = cp.Variable(n)\n",
    "ee = np.ones(n)\n",
    "objective = cp.Maximize(pi@x)\n",
    "constraints = [A@x <= b, x >= 0, x <= ee]\n",
    "prob = cp.Problem(objective, constraints)\n",
    "\n",
    "prob.solve(verbose = True)\n",
    "x.value\n",
    "\n",
    "\n",
    "print(x.value)\n",
    "print(prob.value)\n",
    "opv1 = prob.value\n",
    "\n",
    "x = x.value\n",
    "x = np.where(x >= 0.5, 1, 0)"
   ]
  },
  {
   "attachments": {},
   "cell_type": "markdown",
   "metadata": {},
   "source": [
    "K = 50"
   ]
  },
  {
   "cell_type": "code",
   "execution_count": 5,
   "metadata": {},
   "outputs": [
    {
     "name": "stdout",
     "output_type": "stream",
     "text": [
      "===============================================================================\n",
      "                                     CVXPY                                     \n",
      "                                     v1.2.1                                    \n",
      "===============================================================================\n",
      "(CVXPY) Apr 03 05:09:40 PM: Your problem has 60 variables, 2 constraints, and 0 parameters.\n",
      "(CVXPY) Apr 03 05:09:40 PM: It is compliant with the following grammars: DCP, DQCP\n",
      "(CVXPY) Apr 03 05:09:40 PM: (If you need to solve this problem multiple times, but with different data, consider using parameters.)\n",
      "(CVXPY) Apr 03 05:09:40 PM: CVXPY will first compile your problem; then, it will invoke a numerical solver to obtain a solution.\n",
      "-------------------------------------------------------------------------------\n",
      "                                  Compilation                                  \n",
      "-------------------------------------------------------------------------------\n",
      "(CVXPY) Apr 03 05:09:40 PM: Compiling problem (target solver=ECOS).\n",
      "(CVXPY) Apr 03 05:09:40 PM: Reduction chain: Dcp2Cone -> CvxAttr2Constr -> ConeMatrixStuffing -> ECOS\n",
      "(CVXPY) Apr 03 05:09:40 PM: Applying reduction Dcp2Cone\n",
      "(CVXPY) Apr 03 05:09:40 PM: Applying reduction CvxAttr2Constr\n",
      "(CVXPY) Apr 03 05:09:40 PM: Applying reduction ConeMatrixStuffing\n",
      "(CVXPY) Apr 03 05:09:40 PM: Applying reduction ECOS\n",
      "(CVXPY) Apr 03 05:09:40 PM: Finished problem compilation (took 2.037e-02 seconds).\n",
      "-------------------------------------------------------------------------------\n",
      "                                Numerical solver                               \n",
      "-------------------------------------------------------------------------------\n",
      "(CVXPY) Apr 03 05:09:40 PM: Invoking solver ECOS  to obtain a solution.\n",
      "-------------------------------------------------------------------------------\n",
      "                                    Summary                                    \n",
      "-------------------------------------------------------------------------------\n",
      "(CVXPY) Apr 03 05:09:40 PM: Problem status: optimal\n",
      "(CVXPY) Apr 03 05:09:40 PM: Optimal value: 1.609e+03\n",
      "(CVXPY) Apr 03 05:09:40 PM: Compilation took 2.037e-02 seconds\n",
      "(CVXPY) Apr 03 05:09:40 PM: Solver (including time spent in interface) took 2.993e-03 seconds\n"
     ]
    },
    {
     "data": {
      "text/plain": [
       "array([0, 0, 0, ..., 0, 1, 0])"
      ]
     },
     "execution_count": 5,
     "metadata": {},
     "output_type": "execute_result"
    }
   ],
   "source": [
    "k = 50\n",
    "steps = n/k\n",
    "Anow = A[:, 0:k]\n",
    "Anow = Anow.T\n",
    "# print(Anow.shape)\n",
    "piNow = (pi.T)[0:k]\n",
    "piNow = np.reshape(piNow, (k,))\n",
    "bNow = b*(float(k/n))\n",
    "bNow = bNow.T\n",
    "\n",
    "temp = m+k\n",
    "y = cp.Variable(temp)\n",
    "e = np.ones(k)\n",
    "objective = cp.Minimize(bNow@(y[:m]) + e@(y[m:]))\n",
    "constraints = [(Anow@(y[:m])+ (y[m:]))>= piNow, y >= 0]\n",
    "prob = cp.Problem(objective, constraints)\n",
    "\n",
    "prob.solve(verbose = True)\n",
    "# print(\"==============\")\n",
    "# print(prob.value)\n",
    "# print(y.value.shape)\n",
    "P = y[:m].value\n",
    "# print(P)\n",
    "\n",
    "AT = A.T\n",
    "# print(\"----------\")\n",
    "# print(AT[0].dot(P))\n",
    "\n",
    "xk50 = []\n",
    "for i in range(n):\n",
    "    if i < k:\n",
    "        xk50.append(0)\n",
    "        continue\n",
    "\n",
    "    cri = (AT[i].dot(P))\n",
    "    if(pi[0][i] > cri):\n",
    "        xk50.append(1)\n",
    "    else:\n",
    "        xk50.append(0)\n",
    "\n",
    "# xk50\n",
    "xk50 = np.array(xk50)\n",
    "xk50"
   ]
  },
  {
   "cell_type": "code",
   "execution_count": 12,
   "metadata": {},
   "outputs": [
    {
     "data": {
      "text/plain": [
       "1.5461338042975328"
      ]
     },
     "execution_count": 12,
     "metadata": {},
     "output_type": "execute_result"
    }
   ],
   "source": [
    "\n",
    "\n",
    "# opv1 = (pi.dot(x))[0]\n",
    "opv2 = (pi.dot(xk50))[0]\n",
    "# print(opv1)\n",
    "# print(type(opv1))\n",
    "rateK50 = opv2/opv1\n",
    "\n",
    "rateK50\n",
    "\n"
   ]
  },
  {
   "cell_type": "code",
   "execution_count": 7,
   "metadata": {},
   "outputs": [
    {
     "name": "stdout",
     "output_type": "stream",
     "text": [
      "498342.4129694655\n",
      "[[143.51727313 131.30498817 153.5118627  ... 220.84468889 168.75088448\n",
      "  220.45304832]]\n",
      "143.51727312522942\n",
      "131.30498817185403\n",
      "<class 'int'>\n",
      "322526.58047619497\n",
      "498342.41296946653\n",
      "1695\n",
      "0\n"
     ]
    }
   ],
   "source": [
    "print(opv2)\n",
    "# print(opv1)\n",
    "i1 = 0\n",
    "i2 = 0\n",
    "\n",
    "# print(x)\n",
    "# x = np.where(x >= 0.5, 1, 0)\n",
    "# print(x)\n",
    "# print(xk50)\n",
    "i3 = 0\n",
    "i4 = 0\n",
    "print(pi)\n",
    "print(pi[0][0])\n",
    "print(pi[0][1])\n",
    "for j in range(n):\n",
    "    i1 += pi[0][j]*int(x[j])\n",
    "    i2 += pi[0][j]*int(xk50[j])\n",
    "    # print(pi[0][i])\n",
    "    # print(pi[0][i]*xk50[i])\n",
    "    if int(x[j]) != int(xk50[j]) :\n",
    "        i3 += 1\n",
    "    if int(x[j]) != 1 and int(x[j]) != 0:\n",
    "        i4 += 1\n",
    "\n",
    "\n",
    "\n",
    "print(type(int(xk50[0])))\n",
    "print(i1)\n",
    "print(i2)\n",
    "print(i3)\n",
    "print(i4)"
   ]
  },
  {
   "attachments": {},
   "cell_type": "markdown",
   "metadata": {},
   "source": [
    "k100"
   ]
  },
  {
   "cell_type": "code",
   "execution_count": 13,
   "metadata": {},
   "outputs": [
    {
     "name": "stdout",
     "output_type": "stream",
     "text": [
      "===============================================================================\n",
      "                                     CVXPY                                     \n",
      "                                     v1.2.1                                    \n",
      "===============================================================================\n",
      "(CVXPY) Apr 03 05:10:16 PM: Your problem has 110 variables, 2 constraints, and 0 parameters.\n",
      "(CVXPY) Apr 03 05:10:16 PM: It is compliant with the following grammars: DCP, DQCP\n",
      "(CVXPY) Apr 03 05:10:16 PM: (If you need to solve this problem multiple times, but with different data, consider using parameters.)\n",
      "(CVXPY) Apr 03 05:10:16 PM: CVXPY will first compile your problem; then, it will invoke a numerical solver to obtain a solution.\n",
      "-------------------------------------------------------------------------------\n",
      "                                  Compilation                                  \n",
      "-------------------------------------------------------------------------------\n",
      "(CVXPY) Apr 03 05:10:16 PM: Compiling problem (target solver=ECOS).\n",
      "(CVXPY) Apr 03 05:10:16 PM: Reduction chain: Dcp2Cone -> CvxAttr2Constr -> ConeMatrixStuffing -> ECOS\n",
      "(CVXPY) Apr 03 05:10:16 PM: Applying reduction Dcp2Cone\n",
      "(CVXPY) Apr 03 05:10:16 PM: Applying reduction CvxAttr2Constr\n",
      "(CVXPY) Apr 03 05:10:16 PM: Applying reduction ConeMatrixStuffing\n",
      "(CVXPY) Apr 03 05:10:16 PM: Applying reduction ECOS\n",
      "(CVXPY) Apr 03 05:10:16 PM: Finished problem compilation (took 3.494e-02 seconds).\n",
      "-------------------------------------------------------------------------------\n",
      "                                Numerical solver                               \n",
      "-------------------------------------------------------------------------------\n",
      "(CVXPY) Apr 03 05:10:16 PM: Invoking solver ECOS  to obtain a solution.\n",
      "-------------------------------------------------------------------------------\n",
      "                                    Summary                                    \n",
      "-------------------------------------------------------------------------------\n",
      "(CVXPY) Apr 03 05:10:16 PM: Problem status: optimal\n",
      "(CVXPY) Apr 03 05:10:16 PM: Optimal value: 3.220e+03\n",
      "(CVXPY) Apr 03 05:10:16 PM: Compilation took 3.494e-02 seconds\n",
      "(CVXPY) Apr 03 05:10:16 PM: Solver (including time spent in interface) took 5.934e-03 seconds\n"
     ]
    }
   ],
   "source": [
    "k = 100\n",
    "steps = n/k\n",
    "Anow = A[:, 0:k]\n",
    "Anow = Anow.T\n",
    "# print(Anow.shape)\n",
    "piNow = (pi.T)[0:k]\n",
    "piNow = np.reshape(piNow, (k,))\n",
    "bNow = b*(float(k/n))\n",
    "bNow = bNow.T\n",
    "\n",
    "\n",
    "y = cp.Variable((m+k))\n",
    "e = np.ones(k)\n",
    "objective = cp.Minimize(bNow@(y[:m]) + e@(y[m:]))\n",
    "constraints = [(Anow@(y[:m])+ (y[m:]))>= piNow, y >= 0]\n",
    "prob = cp.Problem(objective, constraints)\n",
    "\n",
    "prob.solve(verbose = True)\n",
    "P = y[:m].value\n",
    "\n",
    "AT = A.T\n",
    "# print(\"----------\")\n",
    "# print(AT[0])\n",
    "\n",
    "xk100 = []\n",
    "for i in range(n):\n",
    "    if i <= k:\n",
    "        xk100.append(0)\n",
    "        continue\n",
    "    cri = (AT[i].dot(P))\n",
    "    # print(cri)\n",
    "    if(pi[0][i] > cri):\n",
    "        xk100.append(1)\n",
    "    else:\n",
    "        xk100.append(0)\n",
    "\n",
    "# xk100\n",
    "xk100 = np.array(xk100)\n"
   ]
  },
  {
   "cell_type": "code",
   "execution_count": 14,
   "metadata": {},
   "outputs": [
    {
     "data": {
      "text/plain": [
       "1.352617774061117"
      ]
     },
     "execution_count": 14,
     "metadata": {},
     "output_type": "execute_result"
    }
   ],
   "source": [
    "# opv1 = (pi.dot(x))[0]\n",
    "opv3 = (pi.dot(xk100))[0]\n",
    "# print(opv1)\n",
    "# print(type(opv1))\n",
    "rateK100 = opv3/opv1\n",
    "\n",
    "rateK100\n"
   ]
  },
  {
   "attachments": {},
   "cell_type": "markdown",
   "metadata": {},
   "source": [
    "k200"
   ]
  },
  {
   "cell_type": "code",
   "execution_count": 15,
   "metadata": {},
   "outputs": [
    {
     "name": "stdout",
     "output_type": "stream",
     "text": [
      "===============================================================================\n",
      "                                     CVXPY                                     \n",
      "                                     v1.2.1                                    \n",
      "===============================================================================\n",
      "(CVXPY) Apr 03 05:10:43 PM: Your problem has 210 variables, 2 constraints, and 0 parameters.\n",
      "(CVXPY) Apr 03 05:10:43 PM: It is compliant with the following grammars: DCP, DQCP\n",
      "(CVXPY) Apr 03 05:10:43 PM: (If you need to solve this problem multiple times, but with different data, consider using parameters.)\n",
      "(CVXPY) Apr 03 05:10:43 PM: CVXPY will first compile your problem; then, it will invoke a numerical solver to obtain a solution.\n",
      "-------------------------------------------------------------------------------\n",
      "                                  Compilation                                  \n",
      "-------------------------------------------------------------------------------\n",
      "(CVXPY) Apr 03 05:10:43 PM: Compiling problem (target solver=ECOS).\n",
      "(CVXPY) Apr 03 05:10:43 PM: Reduction chain: Dcp2Cone -> CvxAttr2Constr -> ConeMatrixStuffing -> ECOS\n",
      "(CVXPY) Apr 03 05:10:43 PM: Applying reduction Dcp2Cone\n",
      "(CVXPY) Apr 03 05:10:43 PM: Applying reduction CvxAttr2Constr\n",
      "(CVXPY) Apr 03 05:10:43 PM: Applying reduction ConeMatrixStuffing\n",
      "(CVXPY) Apr 03 05:10:43 PM: Applying reduction ECOS\n",
      "(CVXPY) Apr 03 05:10:43 PM: Finished problem compilation (took 2.892e-02 seconds).\n",
      "-------------------------------------------------------------------------------\n",
      "                                Numerical solver                               \n",
      "-------------------------------------------------------------------------------\n",
      "(CVXPY) Apr 03 05:10:43 PM: Invoking solver ECOS  to obtain a solution.\n",
      "-------------------------------------------------------------------------------\n",
      "                                    Summary                                    \n",
      "-------------------------------------------------------------------------------\n",
      "(CVXPY) Apr 03 05:10:43 PM: Problem status: optimal\n",
      "(CVXPY) Apr 03 05:10:43 PM: Optimal value: 6.443e+03\n",
      "(CVXPY) Apr 03 05:10:43 PM: Compilation took 2.892e-02 seconds\n",
      "(CVXPY) Apr 03 05:10:43 PM: Solver (including time spent in interface) took 5.983e-03 seconds\n"
     ]
    }
   ],
   "source": [
    "k = 200\n",
    "steps = n/k\n",
    "Anow = A[:, 0:k]\n",
    "Anow = Anow.T\n",
    "# print(Anow.shape)\n",
    "piNow = (pi.T)[0:k]\n",
    "piNow = np.reshape(piNow, (k,))\n",
    "bNow = b*(float(k/n))\n",
    "bNow = bNow.T\n",
    "\n",
    "\n",
    "y = cp.Variable((m+k))\n",
    "e = np.ones(k)\n",
    "objective = cp.Minimize(bNow@(y[:m]) + e@(y[m:]))\n",
    "constraints = [(Anow@(y[:m])+ (y[m:]))>= piNow, y >= 0]\n",
    "prob = cp.Problem(objective, constraints)\n",
    "\n",
    "prob.solve(verbose = True)\n",
    "P = y[:m].value\n",
    "\n",
    "AT = A.T\n",
    "# print(\"----------\")\n",
    "# print(AT[0])\n",
    "\n",
    "xk200 = []\n",
    "for i in range(n):\n",
    "    if i <= k:\n",
    "        xk200.append(0)\n",
    "        continue\n",
    "    cri = (AT[i].dot(P))\n",
    "    # print(cri)\n",
    "    if(pi[0][i] > cri):\n",
    "        xk200.append(1)\n",
    "    else:\n",
    "        xk200.append(0)\n",
    "\n",
    "# xk200\n",
    "xk200 = np.array(xk200)"
   ]
  },
  {
   "cell_type": "code",
   "execution_count": 16,
   "metadata": {},
   "outputs": [
    {
     "name": "stdout",
     "output_type": "stream",
     "text": [
      "[0 0 0 ... 0 1 1]\n"
     ]
    },
    {
     "data": {
      "text/plain": [
       "1.2106607544397603"
      ]
     },
     "execution_count": 16,
     "metadata": {},
     "output_type": "execute_result"
    }
   ],
   "source": [
    "# opv1 = (pi.dot(x))[0]\n",
    "opv4 = (pi.dot(xk200))[0]\n",
    "# print(opv1)\n",
    "# print(type(opv1))\n",
    "rateK200 = opv4/opv1\n",
    "print(xk200)\n",
    "rateK200"
   ]
  },
  {
   "cell_type": "code",
   "execution_count": null,
   "metadata": {},
   "outputs": [],
   "source": []
  }
 ],
 "metadata": {
  "kernelspec": {
   "display_name": "Python 3",
   "language": "python",
   "name": "python3"
  },
  "language_info": {
   "codemirror_mode": {
    "name": "ipython",
    "version": 3
   },
   "file_extension": ".py",
   "mimetype": "text/x-python",
   "name": "python",
   "nbconvert_exporter": "python",
   "pygments_lexer": "ipython3",
   "version": "3.10.4"
  },
  "orig_nbformat": 4
 },
 "nbformat": 4,
 "nbformat_minor": 2
}
