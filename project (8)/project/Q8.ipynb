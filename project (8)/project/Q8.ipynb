{
 "cells": [
  {
   "cell_type": "code",
   "execution_count": 1,
   "metadata": {},
   "outputs": [],
   "source": [
    "import numpy as np\n",
    "import math\n",
    "import cvxpy as cp\n",
    "import pandas as pd"
   ]
  },
  {
   "cell_type": "code",
   "execution_count": 2,
   "metadata": {},
   "outputs": [
    {
     "name": "stdout",
     "output_type": "stream",
     "text": [
      "(1, 10000)\n"
     ]
    }
   ],
   "source": [
    "#initialization\n",
    "A = pd.read_csv(\"A_3.csv\")\n",
    "pi = pd.read_csv(\"pi_dependent.csv\")\n",
    "A = np.array(A)\n",
    "pi  = np.array(pi)\n",
    "pi = pi.T\n",
    "print(pi.shape)\n",
    "n = 10000\n",
    "m = 10\n",
    "b_i = 1000\n",
    "k = 50\n",
    "b = np.array([1000 for _ in range(m)])  \n",
    "\n",
    "x = cp.Variable(k)\n",
    "s = cp.Variable(m)\n"
   ]
  },
  {
   "attachments": {},
   "cell_type": "markdown",
   "metadata": {},
   "source": [
    "Q4"
   ]
  },
  {
   "cell_type": "code",
   "execution_count": 3,
   "metadata": {},
   "outputs": [
    {
     "name": "stdout",
     "output_type": "stream",
     "text": [
      "[0. 0. 1. 0. 1. 1. 0. 1. 1. 1.]\n",
      "(10, 50)\n",
      "(1, 50)\n",
      "[-7.19666198e-09 -7.02438281e-09 -7.73367471e-09  3.61848124e-08\n",
      " -4.32615971e-09 -6.23087483e-09 -6.51137131e-09 -7.08545525e-09\n",
      "  4.49427100e-01 -5.32037921e-09 -7.70612118e-09  7.44924178e-10\n",
      " -5.56628848e-09 -7.49554649e-09  4.22715503e-11 -5.88068791e-09\n",
      " -7.29229656e-09 -6.26022450e-09  9.97235553e-01 -4.58936373e-09\n",
      " -4.68311466e-09  1.35253422e-07  1.40163397e-08 -6.19236024e-09\n",
      "  1.15969323e-10 -6.63431985e-09 -5.77915346e-09 -4.59751273e-09\n",
      " -6.08790519e-09  4.80794590e-01 -5.87135741e-09  9.99999983e-01\n",
      "  2.52584181e-03 -5.10909461e-09  9.99999993e-01  5.13617503e-01\n",
      "  9.99999992e-01 -4.74347634e-09 -5.16118467e-11  4.83648907e-01\n",
      "  9.99999968e-01 -6.72152294e-09  9.99999993e-01  9.97769655e-01\n",
      "  9.99999876e-01  1.27965796e-09  3.37289430e-02  9.99999944e-01\n",
      "  9.99999996e-01  2.47540047e-08]\n",
      "[34.11751686 44.83465361 18.89477484  2.81241286 48.39357632  0.20589859\n",
      "  0.09972473 24.64264651 36.57907666 16.69175834]\n",
      "\n",
      "The optimal value is 1291.8016878255594\n",
      "\n",
      "The optimal value is 1291.8140055019862\n",
      "A solution x is\n",
      "[-1.92604607e-05 -1.52065918e-05 -2.54644176e-06 -5.41921275e-06\n",
      "  9.75902870e-06 -6.14596353e-07  7.92185250e-06  1.05483575e-05\n",
      "  4.49981455e-01 -1.48594627e-05 -1.10082041e-05 -6.75081543e-06\n",
      " -2.06261170e-05 -8.19646576e-06 -2.14544325e-05  4.18482055e-06\n",
      " -1.59024314e-05 -6.68776726e-06  9.97650556e-01 -1.59781836e-05\n",
      " -1.70873600e-05 -1.75685996e-05  3.68691111e-06 -9.68300664e-06\n",
      " -1.01784914e-05 -5.24386973e-06  1.74773373e-05  3.13083814e-06\n",
      " -2.12896059e-07  4.80729293e-01 -2.19137390e-07  9.99992102e-01\n",
      "  2.53158982e-03 -1.01314038e-05  9.99998238e-01  5.13347617e-01\n",
      "  1.00000859e+00  4.45079994e-06 -1.62488709e-05  4.83978175e-01\n",
      "  9.99986078e-01 -7.33076485e-06  9.99991997e-01  9.98130879e-01\n",
      "  1.00000043e+00 -1.94470107e-05  3.31596183e-02  9.99987499e-01\n",
      "  9.99990111e-01  1.18046840e-05]\n",
      "A dual solution corresponding to the inequality constraints is\n",
      "[34.11827133 44.8286028  18.89660464  2.81000069 48.39380571  0.20308919\n",
      "  0.10031969 24.64591459 36.58057746 16.6906357 ]\n",
      "[ 0.          0.          0.          0.          0.          0.\n",
      "  0.          0.          0.          0.          0.          0.\n",
      "  0.          0.          0.          0.          0.          0.\n",
      "  0.          0.          0.          0.          0.          0.\n",
      "  0.          0.          0.          0.          0.          0.\n",
      "  0.         10.58839832  0.          0.         35.05963152  0.\n",
      " 24.58181189  0.          0.          0.          5.0088135   0.\n",
      " 31.97358411  0.          1.49183888  0.          0.          2.83258547\n",
      " 49.31894902  0.        ]\n"
     ]
    }
   ],
   "source": [
    "pi1 = pi[:,:k]\n",
    "A1 = A[:m,:k]\n",
    "print(A[:,k])\n",
    "print(A1.shape)\n",
    "print(pi1.shape)\n",
    "w = 1\n",
    "def u(s):\n",
    "    u_s = 0\n",
    "    for i in range(m):\n",
    "        u_s += w/m * cp.log(s[i])\n",
    "    return u_s\n",
    "    \n",
    "obj = cp.Maximize(pi1@x + u(s))\n",
    "const = [A1@x + s <= k/n * b_i, x>=0, x<=1]\n",
    "prob = cp.Problem(obj, const)\n",
    "\n",
    "prob.solve()\n",
    "print(x.value)\n",
    "print(prob.constraints[0].dual_value)\n",
    "print(\"\\nThe optimal value is\", prob.value)\n",
    "prob.solve(solver=\"SCS\")\n",
    "x.value\n",
    "\n",
    "print(\"\\nThe optimal value is\", prob.value)\n",
    "print(\"A solution x is\")\n",
    "print(x.value)\n",
    "print(\"A dual solution corresponding to the inequality constraints is\")\n",
    "print(prob.constraints[0].dual_value)\n",
    "print(prob.constraints[2].dual_value)\n",
    "\n"
   ]
  },
  {
   "attachments": {},
   "cell_type": "markdown",
   "metadata": {},
   "source": [
    "Q8"
   ]
  },
  {
   "cell_type": "code",
   "execution_count": 4,
   "metadata": {},
   "outputs": [
    {
     "name": "stdout",
     "output_type": "stream",
     "text": [
      "10000\n"
     ]
    }
   ],
   "source": [
    "l_decision = []\n",
    "b_k = b\n",
    "d = b/n\n",
    "price = [0 for _ in range(m)]\n",
    "x = 0\n",
    "flag = 1\n",
    "AT = A.T\n",
    "\n",
    "# k = 0 initialization\n",
    "l_decision.append(0)\n",
    "for k in range(1,n):\n",
    "    alpha = k**(-0.5)\n",
    "    # update price first\n",
    "    price = price + alpha*(AT[k]*x-d)\n",
    "    for i in range(price.shape[0]):\n",
    "        if price[i] < 0:\n",
    "            price[i] = 0\n",
    "    flag = 1\n",
    "    # Check whether remaining certain resources needed for k\n",
    "    for i in range(len(b_k)):\n",
    "        if A[:,k][i] > b_k[i]:\n",
    "            # print(\"cannot satisfy\")\n",
    "            l_decision.append(0)\n",
    "            flag = 0\n",
    "            break\n",
    "    if flag == 0:\n",
    "        continue\n",
    "\n",
    "    # Decide whether to accept (k)th request and the remaining resource\n",
    "    if pi[0][k] > AT[k].dot(price):\n",
    "        x = 1\n",
    "        b_k = b_k - A[:,k]\n",
    "    else:\n",
    "        x = 0\n",
    "    l_decision.append(x)\n",
    "\n",
    "    # Update the dual price after making the decision\n",
    "    A1 = A[:, :k+1]\n",
    "    pik = pi[:,:k+1]\n",
    "    # print(\"ak\", A[:,k+1])\n",
    "    # print(\"bk\", b_k) \n",
    "    Anow = A1.T\n",
    "    # y = cp.Variable((m+k+1))\n",
    "    e = np.ones(k+1)\n",
    "    bnow = b_k * (float((k+1)/(n-k+1)))\n",
    "    pNow = np.reshape(pik, (k+1,)) \n",
    "\n",
    "l_decision\n",
    "print(len(l_decision))"
   ]
  },
  {
   "cell_type": "code",
   "execution_count": 5,
   "metadata": {},
   "outputs": [
    {
     "name": "stdout",
     "output_type": "stream",
     "text": [
      "42255092.735269636\n"
     ]
    }
   ],
   "source": [
    "x = cp.Variable(n)\n",
    "ee = np.ones(n)\n",
    "objective = cp.Maximize(pi@x)\n",
    "constraints = [A@x <= b, x >= 0, x <= ee]\n",
    "prob = cp.Problem(objective, constraints)\n",
    "\n",
    "prob.solve()\n",
    "x.value\n",
    "opv1 = prob.value\n",
    "print(opv1)"
   ]
  },
  {
   "cell_type": "code",
   "execution_count": null,
   "metadata": {},
   "outputs": [],
   "source": []
  },
  {
   "cell_type": "code",
   "execution_count": 6,
   "metadata": {},
   "outputs": [
    {
     "name": "stdout",
     "output_type": "stream",
     "text": [
      "10000\n",
      "(1, 10000)\n"
     ]
    }
   ],
   "source": [
    "print(len(l_decision))\n",
    "print(pi.shape)\n",
    "# print(pi@l_decision)\n",
    "# print(pi@l_decision - opv1)"
   ]
  },
  {
   "cell_type": "code",
   "execution_count": 7,
   "metadata": {},
   "outputs": [
    {
     "name": "stdout",
     "output_type": "stream",
     "text": [
      "optimal value: 4498324.485462521\n",
      "competetive ratio 0.10645638653889034\n"
     ]
    }
   ],
   "source": [
    "\n",
    "opv2 = (pi.dot(l_decision))[0]\n",
    "print(\"optimal value:\", opv2)\n",
    "print(\"competetive ratio\", opv2/opv1)"
   ]
  }
 ],
 "metadata": {
  "kernelspec": {
   "display_name": "Python 3.10.4 64-bit",
   "language": "python",
   "name": "python3"
  },
  "language_info": {
   "codemirror_mode": {
    "name": "ipython",
    "version": 3
   },
   "file_extension": ".py",
   "mimetype": "text/x-python",
   "name": "python",
   "nbconvert_exporter": "python",
   "pygments_lexer": "ipython3",
   "version": "3.10.4"
  },
  "orig_nbformat": 4,
  "vscode": {
   "interpreter": {
    "hash": "c885396fa5069185d1a3134bc554c4a8c452f6177aabd87ebe7c04916951cc0f"
   }
  }
 },
 "nbformat": 4,
 "nbformat_minor": 2
}
