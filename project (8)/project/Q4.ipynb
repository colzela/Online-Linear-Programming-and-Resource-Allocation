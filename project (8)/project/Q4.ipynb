{
 "cells": [
  {
   "cell_type": "code",
   "execution_count": 1,
   "metadata": {},
   "outputs": [],
   "source": [
    "import numpy as np\n",
    "import cvxpy as cp\n",
    "import random\n",
    "import pandas as pd\n",
    "import math"
   ]
  },
  {
   "cell_type": "code",
   "execution_count": 4,
   "metadata": {},
   "outputs": [],
   "source": [
    "n = 10000    # number of bidders\n",
    "m = 10       # type of resources\n",
    "\n",
    "A = pd.read_csv(\"A_3.csv\")\n",
    "pi = pd.read_csv(\"pi_dependent.csv\")\n",
    "pi = np.array(pi)\n",
    "pi = pi.T\n",
    "A = np.array(A)\n",
    "b = np.array([1000 for _ in range(m)])  \n"
   ]
  },
  {
   "cell_type": "code",
   "execution_count": 5,
   "metadata": {},
   "outputs": [
    {
     "name": "stdout",
     "output_type": "stream",
     "text": [
      "offline optimal value,  42255092.735269636\n"
     ]
    }
   ],
   "source": [
    "x = cp.Variable(n)\n",
    "ee = np.ones(n)\n",
    "objective = cp.Maximize(pi@x)\n",
    "constraints = [A@x <= b, x >= 0, x <= ee]\n",
    "prob = cp.Problem(objective, constraints)\n",
    "prob.solve()\n",
    "opv1 = prob.value\n",
    "print(\"offline optimal value, \", opv1)\n"
   ]
  },
  {
   "cell_type": "code",
   "execution_count": 6,
   "metadata": {},
   "outputs": [
    {
     "data": {
      "text/plain": [
       "array([3254.36583882, 2499.16322271, 2921.66761755, 2894.17251434,\n",
       "       2981.37443506, 2955.19719493, 3492.75717658, 3141.32743696,\n",
       "       3019.70152472, 3357.56824267])"
      ]
     },
     "execution_count": 6,
     "metadata": {},
     "output_type": "execute_result"
    }
   ],
   "source": [
    "Anow = A\n",
    "Anow = Anow.T\n",
    "# print(Anow.shape)\n",
    "piNow = (pi.T)\n",
    "piNow = np.reshape(piNow, (n,))\n",
    "bNow = b\n",
    "bNow = bNow.T\n",
    "\n",
    "temp = m+n\n",
    "y = cp.Variable(temp)\n",
    "e = np.ones(n)\n",
    "objective = cp.Minimize(bNow@(y[:m]) + e@(y[m:]))\n",
    "constraints = [(Anow@(y[:m])+ (y[m:]))>= piNow, y >= 0]\n",
    "prob = cp.Problem(objective, constraints)\n",
    "\n",
    "prob.solve()\n",
    "P = y[:m].value\n",
    "p_truth = P\n",
    "p_truth"
   ]
  },
  {
   "cell_type": "code",
   "execution_count": 7,
   "metadata": {},
   "outputs": [],
   "source": [
    "def u(s,w):\n",
    "    value = 0\n",
    "    for i in range(m):\n",
    "        value += w/m * cp.log(s[i])\n",
    "    return value\n",
    "def learning(k = 100, w = 25):\n",
    "    A1 = A[:m, :k]\n",
    "    # pi = np.array(pi)\n",
    "    pi1 = pi[:,:k]\n",
    "    x = cp.Variable(k)\n",
    "    s = cp.Variable(m)\n",
    "    # print(pi1.shape)\n",
    "    # print(x.shape)\n",
    "    obj = cp.Maximize(pi1@x + u(s,w))\n",
    "    cons = [A1@x + s <= k/n * b, x>=0, x<=1]\n",
    "    prob = cp.Problem(obj, cons)\n",
    "    # prob.solve(solver=\"ECOS\")\n",
    "    prob.solve(solver=\"SCS\")\n",
    "    opt_sol = x.value\n",
    "    dual_price = prob.constraints[0].dual_value\n",
    "    opt_value = prob.value \n",
    "    return opt_sol, dual_price, opt_value\n",
    "\n",
    "def decision(dual_price,k=50):\n",
    "    # Make the decisions based on the dual prices\n",
    "    AT = A.T\n",
    "    xp = []\n",
    "    xk = []\n",
    "    for i in range(n):\n",
    "        cri = (AT[i].dot(dual_price))\n",
    "        if(pi[0][i] > cri):\n",
    "            xp.append(1)\n",
    "        else:\n",
    "            xp.append(0)  # xt(p) 10000\n",
    "        if i < k:\n",
    "            xk.append(0)  #50\n",
    "    # Check whether the resource constriant is satisfied\n",
    "    for t in range(k,n):\n",
    "        flag = 1\n",
    "        for j in range(m):\n",
    "            temp1 = A[j,t]*xp[t]\n",
    "            temp2 = b[j] - (A[j, :t]).dot(np.array(xk))\n",
    "            if temp1 > temp2:\n",
    "                flag = 0\n",
    "                break\n",
    "        if flag == 1:\n",
    "            xk.append(xp[t])\n",
    "        else:\n",
    "            xk.append(0)\n",
    "    return xk"
   ]
  },
  {
   "attachments": {},
   "cell_type": "markdown",
   "metadata": {},
   "source": [
    "**K = 50**"
   ]
  },
  {
   "cell_type": "code",
   "execution_count": 8,
   "metadata": {},
   "outputs": [
    {
     "name": "stdout",
     "output_type": "stream",
     "text": [
      "when k =  50\n",
      "dual price is [33.97523167 47.80365723 17.04662794  4.66108864 46.68961461  3.90027074\n",
      "  1.66101362 22.6512888  34.7325194  16.83462047]\n",
      "objective value is  4701133.0381201\n",
      "the competetive ratio is  0.11125601043104898\n"
     ]
    }
   ],
   "source": [
    "k = 50 \n",
    "w = 17\n",
    "opt_sol, dual_price, opt_value = learning(k,w)\n",
    "l_decision = decision(dual_price, k)\n",
    "opv2 = (pi.dot(l_decision))[0]\n",
    "\n",
    "ratio = opv2/opv1\n",
    "print(\"when k = \", k)\n",
    "print(\"dual price is\", dual_price)\n",
    "print(\"objective value is \", opv2)\n",
    "print(\"the competetive ratio is \", ratio)"
   ]
  },
  {
   "attachments": {},
   "cell_type": "markdown",
   "metadata": {},
   "source": [
    "**K = 100**"
   ]
  },
  {
   "cell_type": "code",
   "execution_count": 9,
   "metadata": {},
   "outputs": [
    {
     "name": "stdout",
     "output_type": "stream",
     "text": [
      "when k =  100\n",
      "dual price is [34.2889613  34.51483403  0.63133451 40.03179062  7.56905443 88.35475604\n",
      " 60.05112989 64.04893197 25.37958422 12.88714673]\n",
      "objective value is  4983592.165841901\n",
      "the competetive ratio is  0.11794062782122776\n"
     ]
    }
   ],
   "source": [
    "k = 100\n",
    "w = 17\n",
    "opt_sol, dual_price, opt_value = learning(k,w)\n",
    "l_decision = decision(dual_price, k)\n",
    "opv2 = (pi.dot(l_decision))[0]\n",
    "ratio = opv2/opv1\n",
    "print(\"when k = \", k)\n",
    "print(\"dual price is\", dual_price)\n",
    "print(\"objective value is \", opv2)\n",
    "print(\"the competetive ratio is \", ratio)"
   ]
  },
  {
   "attachments": {},
   "cell_type": "markdown",
   "metadata": {},
   "source": [
    "**K = 200**"
   ]
  },
  {
   "cell_type": "code",
   "execution_count": 10,
   "metadata": {},
   "outputs": [
    {
     "name": "stdout",
     "output_type": "stream",
     "text": [
      "when k =  200\n",
      "dual price is [ 29.98734851 133.65339032 102.61899359 108.90328176  21.91929313\n",
      "  45.88611008 116.49714492  27.75055694  57.80000283  57.16061925]\n",
      "objective value is  5474034.090580982\n",
      "the competetive ratio is  0.12954732166548757\n"
     ]
    }
   ],
   "source": [
    "k = 200\n",
    "w = 25\n",
    "opt_sol, dual_price, opt_value = learning(k,w)\n",
    "l_decision = decision(dual_price, k)\n",
    "opv2 = (pi.dot(l_decision))[0]\n",
    "ratio = opv2/opv1\n",
    "print(\"when k = \", k)\n",
    "print(\"dual price is\", dual_price)\n",
    "print(\"objective value is \", opv2)\n",
    "print(\"the competetive ratio is \", ratio)"
   ]
  },
  {
   "cell_type": "code",
   "execution_count": 8,
   "metadata": {},
   "outputs": [],
   "source": [
    "dic_ratio = {}\n",
    "dic_price = {}\n",
    "dua_price = []\n",
    "for k in range(100, 10100, 100):\n",
    "    opt_sol, dual_price, opt_value = learning(k, 25)\n",
    "    l_decision = decision(dual_price, k)\n",
    "    opv2 = (pi.dot(l_decision))[0]\n",
    "    ratio = opv2/opv1\n",
    "    dic_ratio[k] = ratio\n",
    "    dic_price[k] = dual_price\n",
    "    # print(\"when k = \", k)\n",
    "    # print(\"competetive ratio is\", ratio)\n",
    "    # print(\"norm of dual price difference\", np.linalg.norm(dual_price-p_truth))\n",
    "    dua_price.append(np.linalg.norm(dual_price-p_truth))"
   ]
  },
  {
   "cell_type": "code",
   "execution_count": 10,
   "metadata": {},
   "outputs": [],
   "source": [
    "dua_price = pd.DataFrame(np.array(dua_price))\n",
    "dua_price.to_csv('dua_price.csv',index=False)"
   ]
  }
 ],
 "metadata": {
  "kernelspec": {
   "display_name": "Python 3",
   "language": "python",
   "name": "python3"
  },
  "language_info": {
   "codemirror_mode": {
    "name": "ipython",
    "version": 3
   },
   "file_extension": ".py",
   "mimetype": "text/x-python",
   "name": "python",
   "nbconvert_exporter": "python",
   "pygments_lexer": "ipython3",
   "version": "3.10.4"
  },
  "orig_nbformat": 4,
  "vscode": {
   "interpreter": {
    "hash": "29b437adf8fcfecd5fd4d34e3e08f00fd6fcfdb1eb5c14cdc4e4853a17d92868"
   }
  }
 },
 "nbformat": 4,
 "nbformat_minor": 2
}
