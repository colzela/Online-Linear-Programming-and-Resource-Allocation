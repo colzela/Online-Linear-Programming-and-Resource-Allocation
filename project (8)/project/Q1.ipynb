{
 "cells": [
  {
   "cell_type": "code",
   "execution_count": 2,
   "metadata": {},
   "outputs": [],
   "source": [
    "import numpy as np\n",
    "import cvxpy as cp\n",
    "import random\n",
    "import pandas as pd\n",
    "import matplotlib.pyplot as plt"
   ]
  },
  {
   "cell_type": "code",
   "execution_count": 3,
   "metadata": {},
   "outputs": [],
   "source": [
    "\n",
    "n = 10000    # number of bidders\n",
    "m = 10       # type of resources\n",
    "\n",
    "A = pd.read_csv(\"A_3.csv\")\n",
    "pi = pd.read_csv(\"pi_dependent.csv\")\n",
    "\n",
    "A = np.array(A)\n",
    "pi = np.array(pi)\n",
    "pi = pi.T\n",
    "b = np.array([1000 for _ in range(m)]) \n"
   ]
  },
  {
   "cell_type": "markdown",
   "metadata": {},
   "source": [
    "OffLine"
   ]
  },
  {
   "cell_type": "code",
   "execution_count": 4,
   "metadata": {},
   "outputs": [
    {
     "name": "stdout",
     "output_type": "stream",
     "text": [
      "[ 1.17969537e-11 -5.96513473e-12 -4.24879066e-11 ...  1.00000000e+00\n",
      "  1.00000000e+00  1.00000000e+00]\n",
      "42255092.735269636\n"
     ]
    }
   ],
   "source": [
    "x = cp.Variable(n)\n",
    "ee = np.ones(n)\n",
    "objective = cp.Maximize(pi@x)\n",
    "constraints = [A@x <= b, x >= 0, x <= ee]\n",
    "prob = cp.Problem(objective, constraints)\n",
    "\n",
    "prob.solve()\n",
    "x.value\n",
    "\n",
    "\n",
    "print(x.value)\n",
    "print(prob.value)\n",
    "opv1 = prob.value\n",
    "\n",
    "x = x.value\n",
    "x = np.where(x >= 0.5, 1, 0)"
   ]
  },
  {
   "cell_type": "code",
   "execution_count": 5,
   "metadata": {},
   "outputs": [
    {
     "data": {
      "text/plain": [
       "array([3254.36583882, 2499.16322271, 2921.66761755, 2894.17251434,\n",
       "       2981.37443506, 2955.19719493, 3492.75717658, 3141.32743696,\n",
       "       3019.70152472, 3357.56824267])"
      ]
     },
     "execution_count": 5,
     "metadata": {},
     "output_type": "execute_result"
    }
   ],
   "source": [
    "Anow = A\n",
    "Anow = Anow.T\n",
    "# print(Anow.shape)\n",
    "piNow = (pi.T)\n",
    "piNow = np.reshape(piNow, (n,))\n",
    "bNow = b\n",
    "bNow = bNow.T\n",
    "\n",
    "temp = m+n\n",
    "y = cp.Variable(temp)\n",
    "e = np.ones(n)\n",
    "objective = cp.Minimize(bNow@(y[:m]) + e@(y[m:]))\n",
    "constraints = [(Anow@(y[:m])+ (y[m:]))>= piNow, y >= 0]\n",
    "prob = cp.Problem(objective, constraints)\n",
    "\n",
    "prob.solve()\n",
    "P = y[:m].value\n",
    "p_truth = P\n",
    "P"
   ]
  },
  {
   "cell_type": "code",
   "execution_count": 6,
   "metadata": {},
   "outputs": [],
   "source": [
    "def one_time_learning(k):\n",
    "    Anow = A[:, 0:k]\n",
    "    Anow = Anow.T\n",
    "    piNow = (pi.T)[0:k]\n",
    "    piNow = np.reshape(piNow, (k,))\n",
    "    bNow = b*(float(k/n))\n",
    "    bNow = bNow.T\n",
    "\n",
    "    temp = m+(k)\n",
    "    y = cp.Variable(temp)\n",
    "    e = np.ones(k)\n",
    "    objective = cp.Minimize(bNow@(y[:m]) + e@(y[m:]))\n",
    "    constraints = [(Anow@(y[:m])+ (y[m:]))>= piNow, y >= 0]\n",
    "    prob = cp.Problem(objective, constraints)\n",
    "    prob.solve()\n",
    "    P = y[:m].value\n",
    "    AT = A.T\n",
    "    xp50 = []\n",
    "    xk50 = []\n",
    "    for i in range(n):\n",
    "        cri = (AT[i].dot(P))\n",
    "        if(pi[0][i] > cri):\n",
    "            xp50.append(1)\n",
    "        else:\n",
    "            xp50.append(0)  # xt(p) 10000\n",
    "        if i < k:\n",
    "            xk50.append(0)  #50\n",
    "    for t in range(k,n):\n",
    "        test = 1\n",
    "        for j in range(m):\n",
    "            temp1 = A[j,t]*xp50[t]\n",
    "            temp2 = b[j] - (A[j, :t]).dot(np.array(xk50))\n",
    "            if temp1 > temp2:\n",
    "                test = 0\n",
    "                break\n",
    "        if test == 1:\n",
    "            xk50.append(xp50[t])\n",
    "        else:\n",
    "            xk50.append(0)\n",
    "    return xk50, P"
   ]
  },
  {
   "cell_type": "code",
   "execution_count": 7,
   "metadata": {},
   "outputs": [
    {
     "name": "stdout",
     "output_type": "stream",
     "text": [
      "when k = 50\n",
      "optimal value 4701133.0381201\n",
      "competetive ratio is 0.11125601043104898\n",
      "dual price is [ 3.69029026e+01  3.91151384e+01  1.89977243e+01  1.27289141e+00\n",
      "  4.72187572e+01  5.01720980e-08 -1.91475822e-11  2.74599370e+01\n",
      "  3.66820264e+01  1.39063729e+01]\n"
     ]
    }
   ],
   "source": [
    "k = 50\n",
    "l_decision, dual_price = one_time_learning(k)\n",
    "opv2 = (pi.dot(l_decision))[0]\n",
    "ratio = opv2/opv1\n",
    "print(\"when k =\", k)\n",
    "print('optimal value', opv2)\n",
    "print(\"competetive ratio is\", ratio)\n",
    "print(\"dual price is\", dual_price)"
   ]
  },
  {
   "cell_type": "code",
   "execution_count": 8,
   "metadata": {},
   "outputs": [
    {
     "name": "stdout",
     "output_type": "stream",
     "text": [
      "when k = 100\n",
      "competetive ratio is 0.11794062782122776\n",
      "dual price is [ 3.20287977e+01  3.64009913e+01 -2.90919991e-09  3.77715438e+01\n",
      "  5.18412751e+00  8.81053432e+01  6.14306170e+01  6.53036848e+01\n",
      "  2.73904781e+01  1.20064439e+01]\n"
     ]
    }
   ],
   "source": [
    "k = 100\n",
    "l_decision, dual_price = one_time_learning(k)\n",
    "opv2 = (pi.dot(l_decision))[0]\n",
    "ratio = opv2/opv1\n",
    "print(\"when k =\", k)\n",
    "print(\"competetive ratio is\", ratio)\n",
    "print(\"dual price is\", dual_price)"
   ]
  },
  {
   "cell_type": "code",
   "execution_count": 9,
   "metadata": {},
   "outputs": [
    {
     "name": "stdout",
     "output_type": "stream",
     "text": [
      "when k = 200\n",
      "competetive ratio is 0.12954732166548757\n",
      "dual price is [ 29.98674191 133.653304   102.61912599 108.90369943  21.91915926\n",
      "  45.88719649 116.49775007  27.75100899  57.79942752  57.16005245]\n"
     ]
    }
   ],
   "source": [
    "k = 200\n",
    "l_decision, dual_price = one_time_learning(k)\n",
    "opv2 = (pi.dot(l_decision))[0]\n",
    "ratio = opv2/opv1\n",
    "print(\"when k =\", k)\n",
    "print(\"competetive ratio is\", ratio)\n",
    "print(\"dual price is\", dual_price)"
   ]
  },
  {
   "cell_type": "code",
   "execution_count": 10,
   "metadata": {},
   "outputs": [
    {
     "name": "stdout",
     "output_type": "stream",
     "text": [
      "when k =  50\n",
      "competetive ratio is 0.11125601043104898\n",
      "norm of difference of dual price 9618.457703371476\n"
     ]
    },
    {
     "ename": "KeyboardInterrupt",
     "evalue": "",
     "output_type": "error",
     "traceback": [
      "\u001b[1;31m---------------------------------------------------------------------------\u001b[0m",
      "\u001b[1;31mKeyboardInterrupt\u001b[0m                         Traceback (most recent call last)",
      "Cell \u001b[1;32mIn [10], line 6\u001b[0m\n\u001b[0;32m      4\u001b[0m l_norm \u001b[38;5;241m=\u001b[39m []\n\u001b[0;32m      5\u001b[0m \u001b[38;5;28;01mfor\u001b[39;00m k \u001b[38;5;129;01min\u001b[39;00m \u001b[38;5;28mrange\u001b[39m(\u001b[38;5;241m50\u001b[39m, \u001b[38;5;241m1050\u001b[39m, \u001b[38;5;241m50\u001b[39m):\n\u001b[1;32m----> 6\u001b[0m     l_decision, dual_price \u001b[38;5;241m=\u001b[39m \u001b[43mone_time_learning\u001b[49m\u001b[43m(\u001b[49m\u001b[43mk\u001b[49m\u001b[43m)\u001b[49m\n\u001b[0;32m      7\u001b[0m     opv2 \u001b[38;5;241m=\u001b[39m (pi\u001b[38;5;241m.\u001b[39mdot(l_decision))[\u001b[38;5;241m0\u001b[39m]\n\u001b[0;32m      8\u001b[0m     ratio \u001b[38;5;241m=\u001b[39m opv2\u001b[38;5;241m/\u001b[39mopv1\n",
      "Cell \u001b[1;32mIn [6], line 32\u001b[0m, in \u001b[0;36mone_time_learning\u001b[1;34m(k)\u001b[0m\n\u001b[0;32m     30\u001b[0m \u001b[38;5;28;01mfor\u001b[39;00m j \u001b[38;5;129;01min\u001b[39;00m \u001b[38;5;28mrange\u001b[39m(m):\n\u001b[0;32m     31\u001b[0m     temp1 \u001b[38;5;241m=\u001b[39m A[j,t]\u001b[38;5;241m*\u001b[39mxp50[t]\n\u001b[1;32m---> 32\u001b[0m     temp2 \u001b[38;5;241m=\u001b[39m b[j] \u001b[38;5;241m-\u001b[39m \u001b[43m(\u001b[49m\u001b[43mA\u001b[49m\u001b[43m[\u001b[49m\u001b[43mj\u001b[49m\u001b[43m,\u001b[49m\u001b[43m \u001b[49m\u001b[43m:\u001b[49m\u001b[43mt\u001b[49m\u001b[43m]\u001b[49m\u001b[43m)\u001b[49m\u001b[38;5;241;43m.\u001b[39;49m\u001b[43mdot\u001b[49m\u001b[43m(\u001b[49m\u001b[43mnp\u001b[49m\u001b[38;5;241;43m.\u001b[39;49m\u001b[43marray\u001b[49m\u001b[43m(\u001b[49m\u001b[43mxk50\u001b[49m\u001b[43m)\u001b[49m\u001b[43m)\u001b[49m\n\u001b[0;32m     33\u001b[0m     \u001b[38;5;28;01mif\u001b[39;00m temp1 \u001b[38;5;241m>\u001b[39m temp2:\n\u001b[0;32m     34\u001b[0m         test \u001b[38;5;241m=\u001b[39m \u001b[38;5;241m0\u001b[39m\n",
      "\u001b[1;31mKeyboardInterrupt\u001b[0m: "
     ]
    }
   ],
   "source": [
    "dic_ratio = {}\n",
    "dic_price = {}\n",
    "dua_price = []\n",
    "l_norm = []\n",
    "for k in range(50, 1050, 50):\n",
    "    l_decision, dual_price = one_time_learning(k)\n",
    "    opv2 = (pi.dot(l_decision))[0]\n",
    "    ratio = opv2/opv1\n",
    "    dic_ratio[k] = ratio\n",
    "    dic_price[k] = dual_price\n",
    "    dua_price.append(dual_price)\n",
    "    print(\"when k = \", k)\n",
    "    print(\"competetive ratio is\", ratio)\n",
    "    print(\"norm of difference of dual price\", np.linalg.norm(dual_price-p_truth))\n",
    "    l_norm.append(np.linalg.norm(dual_price-p_truth))"
   ]
  },
  {
   "cell_type": "code",
   "execution_count": null,
   "metadata": {},
   "outputs": [],
   "source": [
    "# for i in dua_price:\n",
    "#     dif = np.linalg.norm(i-p_truth)\n",
    "#     l_norm.append(dif)"
   ]
  },
  {
   "cell_type": "code",
   "execution_count": null,
   "metadata": {},
   "outputs": [],
   "source": [
    "# l_norm = pd.DataFrame(np.array(l_norm))\n",
    "# l_norm.to_csv('l_norm.csv',index=False)"
   ]
  },
  {
   "cell_type": "code",
   "execution_count": null,
   "metadata": {},
   "outputs": [
    {
     "data": {
      "image/png": "[encoded data removed]",
      "text/plain": [
       "<Figure size 640x480 with 1 Axes>"
      ]
     },
     "metadata": {},
     "output_type": "display_data"
    }
   ],
   "source": [
    "x = [50*i for i in range(20)]\n",
    "plt.plot(x, l_norm, color='red', linestyle='solid', linewidth=1, markersize=4)\n",
    "plt.xlabel(\"k\")\n",
    "plt.ylabel(\"norm of difference of dual price\")\n",
    "plt.title(\"norm of difference of dual price to k in SLPM\")\n",
    "plt.savefig(\"Q1_different_k.jpg\", dpi=400)\n",
    "plt.show()\n",
    "# plt.savefig(\"Q5_different_2.png\")\n",
    "# one time dual price(虚线)， ratio with(1-emsilon) 1 2\n",
    "#"
   ]
  },
  {
   "attachments": {},
   "cell_type": "markdown",
   "metadata": {},
   "source": [
    "one time: 1. 定dual price(虚线)，两个dual分别（三条） 2. ratio 两条(with 1-epsilon)  橙蓝  \n",
    "dynamic: 和one time（1-epsilon） revenue一起"
   ]
  }
 ],
 "metadata": {
  "kernelspec": {
   "display_name": "Python 3.10.4 64-bit",
   "language": "python",
   "name": "python3"
  },
  "language_info": {
   "codemirror_mode": {
    "name": "ipython",
    "version": 3
   },
   "file_extension": ".py",
   "mimetype": "text/x-python",
   "name": "python",
   "nbconvert_exporter": "python",
   "pygments_lexer": "ipython3",
   "version": "3.10.4"
  },
  "orig_nbformat": 4,
  "vscode": {
   "interpreter": {
    "hash": "c885396fa5069185d1a3134bc554c4a8c452f6177aabd87ebe7c04916951cc0f"
   }
  }
 },
 "nbformat": 4,
 "nbformat_minor": 2
}
