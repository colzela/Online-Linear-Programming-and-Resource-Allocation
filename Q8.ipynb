{
 "cells": [
  {
   "cell_type": "code",
   "execution_count": 1,
   "metadata": {},
   "outputs": [],
   "source": [
    "import numpy as np\n",
    "import math\n",
    "import cvxpy as cp\n",
    "import pandas as pd"
   ]
  },
  {
   "cell_type": "code",
   "execution_count": 2,
   "metadata": {},
   "outputs": [
    {
     "ename": "FileNotFoundError",
     "evalue": "[Errno 2] No such file or directory: 'pi_2.csv'",
     "output_type": "error",
     "traceback": [
      "\u001b[1;31m---------------------------------------------------------------------------\u001b[0m",
      "\u001b[1;31mFileNotFoundError\u001b[0m                         Traceback (most recent call last)",
      "\u001b[1;32md:\\E：study\\大学\\大三下\\DDA 4300\\project\\Q8.ipynb 单元格 2\u001b[0m in \u001b[0;36m3\n\u001b[0;32m      <a href='vscode-notebook-cell:/d%3A/E%EF%BC%9Astudy/%E5%A4%A7%E5%AD%A6/%E5%A4%A7%E4%B8%89%E4%B8%8B/DDA%204300/project/Q8.ipynb#W1sZmlsZQ%3D%3D?line=0'>1</a>\u001b[0m \u001b[39m#initialization\u001b[39;00m\n\u001b[0;32m      <a href='vscode-notebook-cell:/d%3A/E%EF%BC%9Astudy/%E5%A4%A7%E5%AD%A6/%E5%A4%A7%E4%B8%89%E4%B8%8B/DDA%204300/project/Q8.ipynb#W1sZmlsZQ%3D%3D?line=1'>2</a>\u001b[0m A \u001b[39m=\u001b[39m pd\u001b[39m.\u001b[39mread_csv(\u001b[39m\"\u001b[39m\u001b[39mA.csv\u001b[39m\u001b[39m\"\u001b[39m)\n\u001b[1;32m----> <a href='vscode-notebook-cell:/d%3A/E%EF%BC%9Astudy/%E5%A4%A7%E5%AD%A6/%E5%A4%A7%E4%B8%89%E4%B8%8B/DDA%204300/project/Q8.ipynb#W1sZmlsZQ%3D%3D?line=2'>3</a>\u001b[0m pi \u001b[39m=\u001b[39m pd\u001b[39m.\u001b[39;49mread_csv(\u001b[39m\"\u001b[39;49m\u001b[39mpi_2.csv\u001b[39;49m\u001b[39m\"\u001b[39;49m)\n\u001b[0;32m      <a href='vscode-notebook-cell:/d%3A/E%EF%BC%9Astudy/%E5%A4%A7%E5%AD%A6/%E5%A4%A7%E4%B8%89%E4%B8%8B/DDA%204300/project/Q8.ipynb#W1sZmlsZQ%3D%3D?line=3'>4</a>\u001b[0m A \u001b[39m=\u001b[39m np\u001b[39m.\u001b[39marray(A)\n\u001b[0;32m      <a href='vscode-notebook-cell:/d%3A/E%EF%BC%9Astudy/%E5%A4%A7%E5%AD%A6/%E5%A4%A7%E4%B8%89%E4%B8%8B/DDA%204300/project/Q8.ipynb#W1sZmlsZQ%3D%3D?line=4'>5</a>\u001b[0m pi  \u001b[39m=\u001b[39m np\u001b[39m.\u001b[39marray(pi)\n",
      "File \u001b[1;32md:\\program_languages\\python\\lib\\site-packages\\pandas\\util\\_decorators.py:311\u001b[0m, in \u001b[0;36mdeprecate_nonkeyword_arguments.<locals>.decorate.<locals>.wrapper\u001b[1;34m(*args, **kwargs)\u001b[0m\n\u001b[0;32m    305\u001b[0m \u001b[39mif\u001b[39;00m \u001b[39mlen\u001b[39m(args) \u001b[39m>\u001b[39m num_allow_args:\n\u001b[0;32m    306\u001b[0m     warnings\u001b[39m.\u001b[39mwarn(\n\u001b[0;32m    307\u001b[0m         msg\u001b[39m.\u001b[39mformat(arguments\u001b[39m=\u001b[39marguments),\n\u001b[0;32m    308\u001b[0m         \u001b[39mFutureWarning\u001b[39;00m,\n\u001b[0;32m    309\u001b[0m         stacklevel\u001b[39m=\u001b[39mstacklevel,\n\u001b[0;32m    310\u001b[0m     )\n\u001b[1;32m--> 311\u001b[0m \u001b[39mreturn\u001b[39;00m func(\u001b[39m*\u001b[39margs, \u001b[39m*\u001b[39m\u001b[39m*\u001b[39mkwargs)\n",
      "File \u001b[1;32md:\\program_languages\\python\\lib\\site-packages\\pandas\\io\\parsers\\readers.py:680\u001b[0m, in \u001b[0;36mread_csv\u001b[1;34m(filepath_or_buffer, sep, delimiter, header, names, index_col, usecols, squeeze, prefix, mangle_dupe_cols, dtype, engine, converters, true_values, false_values, skipinitialspace, skiprows, skipfooter, nrows, na_values, keep_default_na, na_filter, verbose, skip_blank_lines, parse_dates, infer_datetime_format, keep_date_col, date_parser, dayfirst, cache_dates, iterator, chunksize, compression, thousands, decimal, lineterminator, quotechar, quoting, doublequote, escapechar, comment, encoding, encoding_errors, dialect, error_bad_lines, warn_bad_lines, on_bad_lines, delim_whitespace, low_memory, memory_map, float_precision, storage_options)\u001b[0m\n\u001b[0;32m    665\u001b[0m kwds_defaults \u001b[39m=\u001b[39m _refine_defaults_read(\n\u001b[0;32m    666\u001b[0m     dialect,\n\u001b[0;32m    667\u001b[0m     delimiter,\n\u001b[1;32m   (...)\u001b[0m\n\u001b[0;32m    676\u001b[0m     defaults\u001b[39m=\u001b[39m{\u001b[39m\"\u001b[39m\u001b[39mdelimiter\u001b[39m\u001b[39m\"\u001b[39m: \u001b[39m\"\u001b[39m\u001b[39m,\u001b[39m\u001b[39m\"\u001b[39m},\n\u001b[0;32m    677\u001b[0m )\n\u001b[0;32m    678\u001b[0m kwds\u001b[39m.\u001b[39mupdate(kwds_defaults)\n\u001b[1;32m--> 680\u001b[0m \u001b[39mreturn\u001b[39;00m _read(filepath_or_buffer, kwds)\n",
      "File \u001b[1;32md:\\program_languages\\python\\lib\\site-packages\\pandas\\io\\parsers\\readers.py:575\u001b[0m, in \u001b[0;36m_read\u001b[1;34m(filepath_or_buffer, kwds)\u001b[0m\n\u001b[0;32m    572\u001b[0m _validate_names(kwds\u001b[39m.\u001b[39mget(\u001b[39m\"\u001b[39m\u001b[39mnames\u001b[39m\u001b[39m\"\u001b[39m, \u001b[39mNone\u001b[39;00m))\n\u001b[0;32m    574\u001b[0m \u001b[39m# Create the parser.\u001b[39;00m\n\u001b[1;32m--> 575\u001b[0m parser \u001b[39m=\u001b[39m TextFileReader(filepath_or_buffer, \u001b[39m*\u001b[39m\u001b[39m*\u001b[39mkwds)\n\u001b[0;32m    577\u001b[0m \u001b[39mif\u001b[39;00m chunksize \u001b[39mor\u001b[39;00m iterator:\n\u001b[0;32m    578\u001b[0m     \u001b[39mreturn\u001b[39;00m parser\n",
      "File \u001b[1;32md:\\program_languages\\python\\lib\\site-packages\\pandas\\io\\parsers\\readers.py:933\u001b[0m, in \u001b[0;36mTextFileReader.__init__\u001b[1;34m(self, f, engine, **kwds)\u001b[0m\n\u001b[0;32m    930\u001b[0m     \u001b[39mself\u001b[39m\u001b[39m.\u001b[39moptions[\u001b[39m\"\u001b[39m\u001b[39mhas_index_names\u001b[39m\u001b[39m\"\u001b[39m] \u001b[39m=\u001b[39m kwds[\u001b[39m\"\u001b[39m\u001b[39mhas_index_names\u001b[39m\u001b[39m\"\u001b[39m]\n\u001b[0;32m    932\u001b[0m \u001b[39mself\u001b[39m\u001b[39m.\u001b[39mhandles: IOHandles \u001b[39m|\u001b[39m \u001b[39mNone\u001b[39;00m \u001b[39m=\u001b[39m \u001b[39mNone\u001b[39;00m\n\u001b[1;32m--> 933\u001b[0m \u001b[39mself\u001b[39m\u001b[39m.\u001b[39m_engine \u001b[39m=\u001b[39m \u001b[39mself\u001b[39;49m\u001b[39m.\u001b[39;49m_make_engine(f, \u001b[39mself\u001b[39;49m\u001b[39m.\u001b[39;49mengine)\n",
      "File \u001b[1;32md:\\program_languages\\python\\lib\\site-packages\\pandas\\io\\parsers\\readers.py:1217\u001b[0m, in \u001b[0;36mTextFileReader._make_engine\u001b[1;34m(self, f, engine)\u001b[0m\n\u001b[0;32m   1213\u001b[0m     mode \u001b[39m=\u001b[39m \u001b[39m\"\u001b[39m\u001b[39mrb\u001b[39m\u001b[39m\"\u001b[39m\n\u001b[0;32m   1214\u001b[0m \u001b[39m# error: No overload variant of \"get_handle\" matches argument types\u001b[39;00m\n\u001b[0;32m   1215\u001b[0m \u001b[39m# \"Union[str, PathLike[str], ReadCsvBuffer[bytes], ReadCsvBuffer[str]]\"\u001b[39;00m\n\u001b[0;32m   1216\u001b[0m \u001b[39m# , \"str\", \"bool\", \"Any\", \"Any\", \"Any\", \"Any\", \"Any\"\u001b[39;00m\n\u001b[1;32m-> 1217\u001b[0m \u001b[39mself\u001b[39m\u001b[39m.\u001b[39mhandles \u001b[39m=\u001b[39m get_handle(  \u001b[39m# type: ignore[call-overload]\u001b[39;49;00m\n\u001b[0;32m   1218\u001b[0m     f,\n\u001b[0;32m   1219\u001b[0m     mode,\n\u001b[0;32m   1220\u001b[0m     encoding\u001b[39m=\u001b[39;49m\u001b[39mself\u001b[39;49m\u001b[39m.\u001b[39;49moptions\u001b[39m.\u001b[39;49mget(\u001b[39m\"\u001b[39;49m\u001b[39mencoding\u001b[39;49m\u001b[39m\"\u001b[39;49m, \u001b[39mNone\u001b[39;49;00m),\n\u001b[0;32m   1221\u001b[0m     compression\u001b[39m=\u001b[39;49m\u001b[39mself\u001b[39;49m\u001b[39m.\u001b[39;49moptions\u001b[39m.\u001b[39;49mget(\u001b[39m\"\u001b[39;49m\u001b[39mcompression\u001b[39;49m\u001b[39m\"\u001b[39;49m, \u001b[39mNone\u001b[39;49;00m),\n\u001b[0;32m   1222\u001b[0m     memory_map\u001b[39m=\u001b[39;49m\u001b[39mself\u001b[39;49m\u001b[39m.\u001b[39;49moptions\u001b[39m.\u001b[39;49mget(\u001b[39m\"\u001b[39;49m\u001b[39mmemory_map\u001b[39;49m\u001b[39m\"\u001b[39;49m, \u001b[39mFalse\u001b[39;49;00m),\n\u001b[0;32m   1223\u001b[0m     is_text\u001b[39m=\u001b[39;49mis_text,\n\u001b[0;32m   1224\u001b[0m     errors\u001b[39m=\u001b[39;49m\u001b[39mself\u001b[39;49m\u001b[39m.\u001b[39;49moptions\u001b[39m.\u001b[39;49mget(\u001b[39m\"\u001b[39;49m\u001b[39mencoding_errors\u001b[39;49m\u001b[39m\"\u001b[39;49m, \u001b[39m\"\u001b[39;49m\u001b[39mstrict\u001b[39;49m\u001b[39m\"\u001b[39;49m),\n\u001b[0;32m   1225\u001b[0m     storage_options\u001b[39m=\u001b[39;49m\u001b[39mself\u001b[39;49m\u001b[39m.\u001b[39;49moptions\u001b[39m.\u001b[39;49mget(\u001b[39m\"\u001b[39;49m\u001b[39mstorage_options\u001b[39;49m\u001b[39m\"\u001b[39;49m, \u001b[39mNone\u001b[39;49;00m),\n\u001b[0;32m   1226\u001b[0m )\n\u001b[0;32m   1227\u001b[0m \u001b[39massert\u001b[39;00m \u001b[39mself\u001b[39m\u001b[39m.\u001b[39mhandles \u001b[39mis\u001b[39;00m \u001b[39mnot\u001b[39;00m \u001b[39mNone\u001b[39;00m\n\u001b[0;32m   1228\u001b[0m f \u001b[39m=\u001b[39m \u001b[39mself\u001b[39m\u001b[39m.\u001b[39mhandles\u001b[39m.\u001b[39mhandle\n",
      "File \u001b[1;32md:\\program_languages\\python\\lib\\site-packages\\pandas\\io\\common.py:789\u001b[0m, in \u001b[0;36mget_handle\u001b[1;34m(path_or_buf, mode, encoding, compression, memory_map, is_text, errors, storage_options)\u001b[0m\n\u001b[0;32m    784\u001b[0m \u001b[39melif\u001b[39;00m \u001b[39misinstance\u001b[39m(handle, \u001b[39mstr\u001b[39m):\n\u001b[0;32m    785\u001b[0m     \u001b[39m# Check whether the filename is to be opened in binary mode.\u001b[39;00m\n\u001b[0;32m    786\u001b[0m     \u001b[39m# Binary mode does not support 'encoding' and 'newline'.\u001b[39;00m\n\u001b[0;32m    787\u001b[0m     \u001b[39mif\u001b[39;00m ioargs\u001b[39m.\u001b[39mencoding \u001b[39mand\u001b[39;00m \u001b[39m\"\u001b[39m\u001b[39mb\u001b[39m\u001b[39m\"\u001b[39m \u001b[39mnot\u001b[39;00m \u001b[39min\u001b[39;00m ioargs\u001b[39m.\u001b[39mmode:\n\u001b[0;32m    788\u001b[0m         \u001b[39m# Encoding\u001b[39;00m\n\u001b[1;32m--> 789\u001b[0m         handle \u001b[39m=\u001b[39m \u001b[39mopen\u001b[39;49m(\n\u001b[0;32m    790\u001b[0m             handle,\n\u001b[0;32m    791\u001b[0m             ioargs\u001b[39m.\u001b[39;49mmode,\n\u001b[0;32m    792\u001b[0m             encoding\u001b[39m=\u001b[39;49mioargs\u001b[39m.\u001b[39;49mencoding,\n\u001b[0;32m    793\u001b[0m             errors\u001b[39m=\u001b[39;49merrors,\n\u001b[0;32m    794\u001b[0m             newline\u001b[39m=\u001b[39;49m\u001b[39m\"\u001b[39;49m\u001b[39m\"\u001b[39;49m,\n\u001b[0;32m    795\u001b[0m         )\n\u001b[0;32m    796\u001b[0m     \u001b[39melse\u001b[39;00m:\n\u001b[0;32m    797\u001b[0m         \u001b[39m# Binary mode\u001b[39;00m\n\u001b[0;32m    798\u001b[0m         handle \u001b[39m=\u001b[39m \u001b[39mopen\u001b[39m(handle, ioargs\u001b[39m.\u001b[39mmode)\n",
      "\u001b[1;31mFileNotFoundError\u001b[0m: [Errno 2] No such file or directory: 'pi_2.csv'"
     ]
    }
   ],
   "source": [
    "#initialization\n",
    "A = pd.read_csv(\"A.csv\")\n",
    "pi = pd.read_csv(\"pi_2.csv\")\n",
    "A = np.array(A)\n",
    "pi  = np.array(pi)\n",
    "pi = pi.T\n",
    "print(pi.shape)\n",
    "n = 10000\n",
    "m = 10\n",
    "b_i = 1000\n",
    "k = 50\n",
    "b = np.array([1000 for _ in range(m)])  \n",
    "\n",
    "x = cp.Variable(k)\n",
    "s = cp.Variable(m)\n"
   ]
  },
  {
   "attachments": {},
   "cell_type": "markdown",
   "metadata": {},
   "source": [
    "Q4"
   ]
  },
  {
   "cell_type": "code",
   "execution_count": null,
   "metadata": {},
   "outputs": [
    {
     "name": "stdout",
     "output_type": "stream",
     "text": [
      "[1 0 1 0 0 1 1 0 1 1]\n",
      "(10, 50)\n",
      "(1, 50)\n",
      "[ 4.35363331e-09  4.63716762e-01 -1.00627729e-09  9.99999972e-01\n",
      "  2.22277802e-01  4.06562551e-09 -1.87989858e-09  9.99999997e-01\n",
      "  3.09700836e-09  9.99999996e-01  2.09847594e-09  3.72352352e-10\n",
      " -2.25363543e-09 -1.97809831e-09 -9.57262325e-10  3.55981133e-09\n",
      "  2.91181978e-08  1.82409860e-08  2.28140898e-09  5.35455489e-08\n",
      " -2.14230973e-09  3.36596837e-01 -2.32582931e-09 -2.16324721e-09\n",
      "  3.16358648e-01 -2.84740204e-09 -1.67708298e-09  9.99999953e-01\n",
      "  9.99999995e-01 -8.05632498e-11  2.03181910e-01 -8.84190934e-10\n",
      " -2.10239556e-09 -2.26566727e-09  4.65110390e-01  7.32680752e-08\n",
      "  1.27019933e-08 -3.95328186e-10 -9.38514725e-10  9.32033087e-01\n",
      " -2.28377137e-09  9.99999995e-01  5.07794697e-01  9.99999997e-01\n",
      " -2.51651675e-09  9.99999998e-01 -2.99480879e-09 -2.45680171e-09\n",
      " -2.69603895e-09  9.99999995e-01]\n",
      "[0.91382769 2.20383168 0.31988552 1.58534633 1.52407329 0.69510766\n",
      " 0.1189345  2.46113792 0.05951866 2.28115224]\n",
      "\n",
      "The optimal value is 72.01354295398484\n",
      "\n",
      "The optimal value is 72.01365410479352\n",
      "A solution x is\n",
      "[ 1.83929184e-05  4.63862644e-01 -1.93878913e-05  9.99977397e-01\n",
      "  2.22266349e-01 -8.63919926e-07  2.01692172e-07  9.99977026e-01\n",
      "  8.62357545e-06  9.99994331e-01 -3.80780317e-06 -4.47773827e-06\n",
      " -4.34481665e-07 -7.85779608e-06 -1.66362267e-05  6.49324577e-06\n",
      " -9.02226930e-06 -7.86677531e-06  7.55261617e-06  1.78037143e-05\n",
      "  9.62593142e-06  3.36470899e-01  2.91473320e-06  7.72048189e-06\n",
      "  3.16306534e-01 -1.16156979e-07 -1.13148298e-05  1.00001636e+00\n",
      "  9.99995855e-01 -6.73435081e-06  2.03335098e-01 -1.20945536e-05\n",
      "  1.44663847e-05  1.21835570e-06  4.64956347e-01 -2.79929233e-06\n",
      " -8.58947377e-06  3.58225167e-06  3.97460740e-07  9.32061426e-01\n",
      " -1.63451467e-05  1.00001252e+00  5.07814697e-01  9.99994561e-01\n",
      " -1.23788710e-06  1.00000212e+00 -8.39948579e-06 -5.66552103e-06\n",
      "  2.02297016e-05  9.99999654e-01]\n",
      "A dual solution corresponding to the inequality constraints is\n",
      "[0.91383165 2.20382879 0.31987861 1.58534108 1.52407119 0.6951111\n",
      " 0.11892713 2.46114268 0.0595146  2.28115745]\n",
      "[ 4.96917623e-17  0.00000000e+00  4.96917623e-17  2.14351715e-01\n",
      "  0.00000000e+00  0.00000000e+00  4.96917623e-17  2.32522579e+00\n",
      "  0.00000000e+00  1.66213390e+00  4.96917623e-17  4.96917623e-17\n",
      "  0.00000000e+00  0.00000000e+00 -4.96917623e-17  0.00000000e+00\n",
      "  0.00000000e+00  4.96917623e-17  4.96917623e-17  0.00000000e+00\n",
      "  0.00000000e+00  0.00000000e+00  0.00000000e+00  0.00000000e+00\n",
      "  0.00000000e+00  4.96917623e-17  0.00000000e+00  2.23428556e-01\n",
      "  1.11307581e+00  0.00000000e+00  0.00000000e+00 -4.96917623e-17\n",
      "  0.00000000e+00  0.00000000e+00 -2.48458812e-17  0.00000000e+00\n",
      "  0.00000000e+00 -4.96917623e-17  0.00000000e+00  0.00000000e+00\n",
      " -4.96917623e-17  1.50968604e+00  0.00000000e+00  2.27905663e+00\n",
      "  0.00000000e+00  3.46843820e+00  0.00000000e+00  4.96917623e-17\n",
      "  0.00000000e+00  1.39202702e+00]\n"
     ]
    }
   ],
   "source": [
    "pi1 = pi[:,:k]\n",
    "A1 = A[:m,:k]\n",
    "print(A[:,k])\n",
    "print(A1.shape)\n",
    "print(pi1.shape)\n",
    "w = 1\n",
    "def u(s):\n",
    "    u_s = 0\n",
    "    for i in range(m):\n",
    "        u_s += w/m * cp.log(s[i])\n",
    "    return u_s\n",
    "    \n",
    "obj = cp.Maximize(pi1@x + u(s))\n",
    "const = [A1@x + s <= k/n * b_i, x>=0, x<=1]\n",
    "prob = cp.Problem(obj, const)\n",
    "\n",
    "prob.solve()\n",
    "print(x.value)\n",
    "print(prob.constraints[0].dual_value)\n",
    "print(\"\\nThe optimal value is\", prob.value)\n",
    "prob.solve(solver=\"SCS\")\n",
    "x.value\n",
    "\n",
    "print(\"\\nThe optimal value is\", prob.value)\n",
    "print(\"A solution x is\")\n",
    "print(x.value)\n",
    "print(\"A dual solution corresponding to the inequality constraints is\")\n",
    "print(prob.constraints[0].dual_value)\n",
    "print(prob.constraints[2].dual_value)\n",
    "\n"
   ]
  },
  {
   "attachments": {},
   "cell_type": "markdown",
   "metadata": {},
   "source": [
    "Q8"
   ]
  },
  {
   "cell_type": "code",
   "execution_count": null,
   "metadata": {},
   "outputs": [],
   "source": [
    "l_decision = []\n",
    "b_k = b.copy()\n",
    "d = b/n\n",
    "rev = 0.0\n",
    "price = np.array([0.0 for _ in range(m)])\n",
    "\n",
    "for k in range(0,n):\n",
    "    if k == 0:\n",
    "        x = 0\n",
    "    # Decide whether to accept (k)th request and the remaining resource\n",
    "    elif pi[0][k] > A[:,k].dot(price) and np.min(b_k - A[:,k]) >= 0:\n",
    "        x = 1\n",
    "        b_k -=  A[:,k]\n",
    "    else:\n",
    "        x = 0\n",
    "    l_decision.append(x)\n",
    "    rev += x*pi[0][k]\n",
    "    # update price\n",
    "    grad = d - A[:,k]*np.heaviside((pi[0][k]-np.dot(A[:,k],price)),0.)\n",
    "    price = np.maximum( price - grad/np.sqrt(k+1), 0.)"
   ]
  },
  {
   "cell_type": "code",
   "execution_count": null,
   "metadata": {},
   "outputs": [
    {
     "name": "stdout",
     "output_type": "stream",
     "text": [
      "17406.295176501088\n"
     ]
    }
   ],
   "source": [
    "x = cp.Variable(n)\n",
    "ee = np.ones(n)\n",
    "objective = cp.Maximize(pi@x)\n",
    "constraints = [A@x <= b, x >= 0, x <= ee]\n",
    "prob = cp.Problem(objective, constraints)\n",
    "\n",
    "prob.solve()\n",
    "x.value\n",
    "opv1 = prob.value\n",
    "print(opv1)"
   ]
  },
  {
   "cell_type": "code",
   "execution_count": null,
   "metadata": {},
   "outputs": [
    {
     "name": "stdout",
     "output_type": "stream",
     "text": [
      "optimal value: 17174.058710319816\n",
      "competetive ratio 0.986657903716651\n"
     ]
    }
   ],
   "source": [
    "opv2 = rev\n",
    "print(\"optimal value:\", opv2)\n",
    "print(\"competetive ratio\", opv2/opv1)"
   ]
  }
 ],
 "metadata": {
  "kernelspec": {
   "display_name": "base",
   "language": "python",
   "name": "python3"
  },
  "language_info": {
   "codemirror_mode": {
    "name": "ipython",
    "version": 3
   },
   "file_extension": ".py",
   "mimetype": "text/x-python",
   "name": "python",
   "nbconvert_exporter": "python",
   "pygments_lexer": "ipython3",
   "version": "3.10.4"
  },
  "orig_nbformat": 4,
  "vscode": {
   "interpreter": {
    "hash": "7b34b089ce0dfc9935940e0a22050b2949fa617f7a2b73925623c261bed16aeb"
   }
  }
 },
 "nbformat": 4,
 "nbformat_minor": 2
}
