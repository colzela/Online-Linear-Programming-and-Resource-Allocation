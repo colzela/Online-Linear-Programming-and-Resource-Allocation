{
 "cells": [
  {
   "cell_type": "code",
   "execution_count": 1,
   "metadata": {},
   "outputs": [],
   "source": [
    "import numpy as np\n",
    "import cvxpy as cp\n",
    "import random\n",
    "import pandas as pd\n"
   ]
  },
  {
   "cell_type": "code",
   "execution_count": 2,
   "metadata": {},
   "outputs": [],
   "source": [
    "\n",
    "n = 10000    # number of bidders\n",
    "m = 10       # type of resources\n",
    "\n",
    "A = pd.read_csv(\"A.csv\")\n",
    "pi = pd.read_csv(\"pi.csv\")\n",
    "p = pd.read_csv(\"p.csv\")\n",
    "\n",
    "A = np.array(A)\n",
    "pi = np.array(pi)\n",
    "pi = pi.T\n",
    "b = np.array([1000 for _ in range(m)])  \n"
   ]
  },
  {
   "cell_type": "markdown",
   "metadata": {},
   "source": [
    "OffLine"
   ]
  },
  {
   "cell_type": "code",
   "execution_count": 3,
   "metadata": {},
   "outputs": [
    {
     "name": "stdout",
     "output_type": "stream",
     "text": [
      "[9.99999998e-01 3.20223562e-11 9.99999998e-01 ... 1.39041461e-09\n",
      " 3.95575732e-10 3.98576014e-09]\n",
      "282270.0744458285\n"
     ]
    }
   ],
   "source": [
    "x = cp.Variable(n)\n",
    "ee = np.ones(n)\n",
    "objective = cp.Maximize(pi@x)\n",
    "constraints = [A@x <= b, x >= 0, x <= ee]\n",
    "prob = cp.Problem(objective, constraints)\n",
    "\n",
    "prob.solve()\n",
    "x.value\n",
    "\n",
    "\n",
    "print(x.value)\n",
    "print(prob.value)\n",
    "opv1 = prob.value\n",
    "\n",
    "x = x.value\n",
    "x = np.where(x >= 0.5, 1, 0)"
   ]
  },
  {
   "attachments": {},
   "cell_type": "markdown",
   "metadata": {},
   "source": [
    "K = 50"
   ]
  },
  {
   "cell_type": "code",
   "execution_count": 4,
   "metadata": {},
   "outputs": [],
   "source": [
    "k = 50\n",
    "steps = n/k\n",
    "Anow = A[:, 0:k]\n",
    "Anow = Anow.T\n",
    "# print(Anow.shape)\n",
    "piNow = (pi.T)[0:k]\n",
    "piNow = np.reshape(piNow, (k,))\n",
    "bNow = b*(float(k/n))\n",
    "bNow = bNow.T\n",
    "\n",
    "temp = m+k\n",
    "y = cp.Variable(temp)\n",
    "e = np.ones(k)\n",
    "objective = cp.Minimize(bNow@(y[:m]) + e@(y[m:]))\n",
    "constraints = [(Anow@(y[:m])+ (y[m:]))>= piNow, y >= 0]\n",
    "prob = cp.Problem(objective, constraints)\n",
    "\n",
    "prob.solve()\n",
    "P = y[:m].value\n",
    "\n",
    "AT = A.T\n",
    "\n",
    "\n",
    "xp50 = []\n",
    "xk50 = []\n",
    "for i in range(n):\n",
    "    cri = (AT[i].dot(P))\n",
    "    if(pi[0][i] > cri):\n",
    "        xp50.append(1)\n",
    "    else:\n",
    "        xp50.append(0)  # xt(p) 10000\n",
    "    if i < k:\n",
    "        xk50.append(0)  #50\n"
   ]
  },
  {
   "cell_type": "code",
   "execution_count": 5,
   "metadata": {},
   "outputs": [],
   "source": [
    "def MAE_Loss(act, pred):\n",
    "    diff = act - pred\n",
    "    diff_abs = np.absolute(diff)\n",
    "    mae = diff_abs.mean()\n",
    "    return mae"
   ]
  },
  {
   "cell_type": "code",
   "execution_count": 6,
   "metadata": {},
   "outputs": [
    {
     "data": {
      "text/plain": [
       "array([44.08131118, 34.73590639, 14.2834981 , 49.16637156, 25.32845307,\n",
       "       26.23525563,  9.9796159 , 25.22667587, 13.64073604, 39.06147426])"
      ]
     },
     "execution_count": 6,
     "metadata": {},
     "output_type": "execute_result"
    }
   ],
   "source": [
    "y[:m].value"
   ]
  },
  {
   "cell_type": "code",
   "execution_count": 7,
   "metadata": {},
   "outputs": [
    {
     "data": {
      "text/plain": [
       "0    0.202678\n",
       "dtype: float64"
      ]
     },
     "execution_count": 7,
     "metadata": {},
     "output_type": "execute_result"
    }
   ],
   "source": [
    "a = y[:m].value.reshape(-1,1)\n",
    "MAE_Loss(a, p)"
   ]
  },
  {
   "cell_type": "code",
   "execution_count": 8,
   "metadata": {},
   "outputs": [],
   "source": [
    "for t in range(k,n):\n",
    "    test = 1\n",
    "    for j in range(m):\n",
    "        temp1 = A[j,t]*xp50[t]\n",
    "        temp2 = b[j] - (A[j, :t]).dot(np.array(xk50))\n",
    "        if temp1 > temp2:\n",
    "            test = 0\n",
    "            break\n",
    "    if test == 1:\n",
    "        xk50.append(xp50[t])\n",
    "    else:\n",
    "        xk50.append(0)"
   ]
  },
  {
   "cell_type": "code",
   "execution_count": 9,
   "metadata": {},
   "outputs": [
    {
     "data": {
      "text/plain": [
       "0.7187189925298438"
      ]
     },
     "execution_count": 9,
     "metadata": {},
     "output_type": "execute_result"
    }
   ],
   "source": [
    "xk50 = np.array(xk50)\n",
    "opv2 = (pi.dot(xk50))[0]\n",
    "rateK50 = opv2/opv1\n",
    "\n",
    "rateK50"
   ]
  },
  {
   "attachments": {},
   "cell_type": "markdown",
   "metadata": {},
   "source": [
    "k100"
   ]
  },
  {
   "cell_type": "code",
   "execution_count": 10,
   "metadata": {},
   "outputs": [],
   "source": [
    "k = 100\n",
    "steps = n/k\n",
    "Anow = A[:, 0:k]\n",
    "Anow = Anow.T\n",
    "# print(Anow.shape)\n",
    "piNow = (pi.T)[0:k]\n",
    "piNow = np.reshape(piNow, (k,))\n",
    "bNow = b*(float(k/n))\n",
    "bNow = bNow.T\n",
    "\n",
    "\n",
    "y = cp.Variable((m+k))\n",
    "e = np.ones(k)\n",
    "objective = cp.Minimize(bNow@(y[:m]) + e@(y[m:]))\n",
    "constraints = [(Anow@(y[:m])+ (y[m:]))>= piNow, y >= 0]\n",
    "prob = cp.Problem(objective, constraints)\n",
    "\n",
    "prob.solve()\n",
    "P = y[:m].value\n",
    "\n",
    "AT = A.T\n",
    "\n",
    "\n",
    "xp100 = []\n",
    "xk100 = []\n",
    "\n",
    "for i in range(n):\n",
    "    cri = (AT[i].dot(P))\n",
    "    if(pi[0][i] > cri):\n",
    "        xp100.append(1)\n",
    "    else:\n",
    "        xp100.append(0)  # xt(p) 10000\n",
    "    if i < k:\n",
    "        xk100.append(0)  #50\n",
    "\n",
    "for t in range(k,n):\n",
    "    test = 1\n",
    "    for j in range(m):\n",
    "        temp1 = A[j,t]*xp100[t]\n",
    "        temp2 = b[j] - (A[j:j+1, :t]).dot(np.array(xk100))\n",
    "        if temp1 > temp2:\n",
    "            test = 0\n",
    "            break\n",
    "    if test == 1:\n",
    "        xk100.append(xp100[t])\n",
    "    else:\n",
    "        xk100.append(0)\n",
    "# for i in range(k,n):\n",
    "#     cri = (AT[i].dot(P))\n",
    "#     if(pi[0][i] > cri):\n",
    "#         xp100.append(1)\n",
    "#     else:\n",
    "#         xp100.append(0)\n",
    "\n",
    "#     if i < k:\n",
    "#         xk100.append(0)\n",
    "#         continue\n",
    "#     test = 1\n",
    "#     for j in range(m):\n",
    "#         temp1 = A[j,i]*xp100[i]\n",
    "#         temp2 = b[j] - (A[j:j+1, :i]).dot(np.array(xk100))\n",
    "#         if temp1 > temp2:\n",
    "#             test = 0\n",
    "#             break\n",
    "#     if test == 1:\n",
    "#         xk100.append(xp100[i])\n",
    "#     else:\n",
    "#         xk100.append(0)\n"
   ]
  },
  {
   "cell_type": "code",
   "execution_count": 11,
   "metadata": {},
   "outputs": [
    {
     "data": {
      "text/plain": [
       "0    0.086771\n",
       "dtype: float64"
      ]
     },
     "execution_count": 11,
     "metadata": {},
     "output_type": "execute_result"
    },
    {
     "name": "stdout",
     "output_type": "stream",
     "text": [
      "The history saving thread hit an unexpected error (OperationalError('database or disk is full')).History will not be written to the database.\n"
     ]
    }
   ],
   "source": [
    "a = y[:m].value.reshape(-1,1)\n",
    "MAE_Loss(a, p)"
   ]
  },
  {
   "cell_type": "code",
   "execution_count": 12,
   "metadata": {},
   "outputs": [
    {
     "data": {
      "text/plain": [
       "0.8890096880281994"
      ]
     },
     "execution_count": 12,
     "metadata": {},
     "output_type": "execute_result"
    }
   ],
   "source": [
    "xk100 = np.array(xk100)\n",
    "opv3 = (pi.dot(xk100))[0]\n",
    "rateK100 = opv3/opv1\n",
    "\n",
    "rateK100\n"
   ]
  },
  {
   "attachments": {},
   "cell_type": "markdown",
   "metadata": {},
   "source": [
    "k200"
   ]
  },
  {
   "cell_type": "code",
   "execution_count": 13,
   "metadata": {},
   "outputs": [],
   "source": [
    "k = 200\n",
    "steps = n/k\n",
    "Anow = A[:, 0:k]\n",
    "Anow = Anow.T\n",
    "# print(Anow.shape)\n",
    "piNow = (pi.T)[0:k]\n",
    "piNow = np.reshape(piNow, (k,))\n",
    "bNow = b*(float(k/n))\n",
    "bNow = bNow.T\n",
    "\n",
    "\n",
    "y = cp.Variable((m+k))\n",
    "e = np.ones(k)\n",
    "objective = cp.Minimize(bNow@(y[:m]) + e@(y[m:]))\n",
    "constraints = [(Anow@(y[:m])+ (y[m:]))>= piNow, y >= 0]\n",
    "prob = cp.Problem(objective, constraints)\n",
    "\n",
    "prob.solve()\n",
    "P = y[:m].value\n",
    "\n",
    "AT = A.T\n",
    "# print(\"----------\")\n",
    "# print(AT[0])\n",
    "\n",
    "xp200 = []\n",
    "xk200 = []\n",
    "\n",
    "for i in range(n):\n",
    "    cri = (AT[i].dot(P))\n",
    "    if(pi[0][i] > cri):\n",
    "        xp200.append(1)\n",
    "    else:\n",
    "        xp200.append(0)  # xt(p) 10000\n",
    "    if i < k:\n",
    "        xk200.append(0)  #50\n",
    "\n",
    "for t in range(k,n):\n",
    "    test = 1\n",
    "    for j in range(m):\n",
    "        temp1 = A[j,t]*xp200[t]\n",
    "        temp2 = b[j] - (A[j:j+1, :t]).dot(np.array(xk200))\n",
    "        if temp1 > temp2:\n",
    "            test = 0\n",
    "            break\n",
    "    if test == 1:\n",
    "        xk200.append(xp200[t])\n",
    "    else:\n",
    "        xk200.append(0)\n",
    "        \n",
    "# for i in range(n):\n",
    "#     cri = (AT[i].dot(P))\n",
    "#     if(pi[0][i] > cri):\n",
    "#         xp200.append(1)\n",
    "#     else:\n",
    "#         xp200.append(0)\n",
    "\n",
    "#     if i < k:\n",
    "#         xk200.append(0)\n",
    "#         continue\n",
    "#     test = 1\n",
    "#     for j in range(m):\n",
    "#         temp1 = A[j,i]*xp200[i]\n",
    "#         temp2 = b[j] - (A[j:j+1, :i]).dot(np.array(xk200))\n",
    "#         if temp1 > temp2:\n",
    "#             test = 0\n",
    "#             break\n",
    "#     if test == 1:\n",
    "#         xk200.append(xp200[i])\n",
    "#     else:\n",
    "#         xk200.append(0)\n"
   ]
  },
  {
   "cell_type": "code",
   "execution_count": 14,
   "metadata": {},
   "outputs": [
    {
     "data": {
      "text/plain": [
       "0    0.067249\n",
       "dtype: float64"
      ]
     },
     "execution_count": 14,
     "metadata": {},
     "output_type": "execute_result"
    }
   ],
   "source": [
    "a = y[:m].value.reshape(-1,1)\n",
    "MAE_Loss(a, p)"
   ]
  },
  {
   "cell_type": "code",
   "execution_count": 15,
   "metadata": {},
   "outputs": [
    {
     "name": "stdout",
     "output_type": "stream",
     "text": [
      "[0 0 0 ... 0 0 0]\n"
     ]
    },
    {
     "data": {
      "text/plain": [
       "0.9303039098217225"
      ]
     },
     "execution_count": 15,
     "metadata": {},
     "output_type": "execute_result"
    }
   ],
   "source": [
    "xk200 = np.array(xk200)\n",
    "opv4 = (pi.dot(xk200))[0]\n",
    "# print(opv1)\n",
    "# print(type(opv1))\n",
    "rateK200 = opv4/opv1\n",
    "print(xk200)\n",
    "rateK200"
   ]
  }
 ],
 "metadata": {
  "kernelspec": {
   "display_name": "Python 3",
   "language": "python",
   "name": "python3"
  },
  "language_info": {
   "codemirror_mode": {
    "name": "ipython",
    "version": 3
   },
   "file_extension": ".py",
   "mimetype": "text/x-python",
   "name": "python",
   "nbconvert_exporter": "python",
   "pygments_lexer": "ipython3",
   "version": "3.10.4"
  },
  "orig_nbformat": 4
 },
 "nbformat": 4,
 "nbformat_minor": 2
}
